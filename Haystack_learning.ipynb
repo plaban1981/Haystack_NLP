{
  "nbformat": 4,
  "nbformat_minor": 0,
  "metadata": {
    "colab": {
      "name": "Haystack_learning.ipynb",
      "provenance": [],
      "machine_shape": "hm",
      "authorship_tag": "ABX9TyOAvuSJ/75gIF8HF7FZzcFH",
      "include_colab_link": true
    },
    "kernelspec": {
      "name": "python3",
      "display_name": "Python 3"
    },
    "language_info": {
      "name": "python"
    },
    "accelerator": "GPU"
  },
  "cells": [
    {
      "cell_type": "markdown",
      "metadata": {
        "id": "view-in-github",
        "colab_type": "text"
      },
      "source": [
        "<a href=\"https://colab.research.google.com/github/plaban1981/Haystack_NLP/blob/main/Haystack_learning.ipynb\" target=\"_parent\"><img src=\"https://colab.research.google.com/assets/colab-badge.svg\" alt=\"Open In Colab\"/></a>"
      ]
    },
    {
      "cell_type": "markdown",
      "metadata": {
        "id": "TOj95SiEWL5-"
      },
      "source": [
        "## What is Haystack?\n"
      ]
    },
    {
      "cell_type": "markdown",
      "metadata": {
        "id": "tmB3sxPdWNou"
      },
      "source": [
        "**Haystack** is an open-source framework for building search systems that work intelligently over large document collections."
      ]
    },
    {
      "cell_type": "markdown",
      "metadata": {
        "id": "4HmfZQqoXGvW"
      },
      "source": [
        "* Recent advances in NLP have enabled the application of question answering, retrieval and summarization to real world settings and **Haystack is designed to be the bridge between research and industry**"
      ]
    },
    {
      "cell_type": "markdown",
      "metadata": {
        "id": "LwYLZxGGoFwC"
      },
      "source": [
        "* Latest NLP models: Utilize all transformer based models (BERT, RoBERTa, MiniLM, DPR ...) and smoothly switch when new ones get published\n",
        "* Flexible databases: Load data into and query from a range of databases such as Elasticsearch, Milvus, FAISS, SQL and more\n",
        "* Scalability: Production-ready deployments that scale to millions of documents\n",
        "* End-to-End: All tooling you need to implement, evaluate, improve and run a search system\n",
        "* Domain adaptation: Fine-tune models to your own domain & improve them continuously via user feedback"
      ]
    },
    {
      "cell_type": "markdown",
      "metadata": {
        "id": "tvKsQbT-pa0z"
      },
      "source": [
        "## Retriever-Reader\n",
        "\n",
        "* The most common system built with Haystack is the Retriever-Reader Pipeline \n",
        "\n",
        "* it is designed to optimize for both speed and performance on the task of Open Domain Question Answering. \n",
        "\n",
        "* In practice, this is a great back bone for creating a search system that can handle detailed full sentence queries.\n",
        "\n",
        "![image.png](data:image/png;base64,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)\n",
        "\n",
        "## Readers \n",
        "\n",
        "* Readers, also known as Open-Domain QA systems in Machine Learning speak, are powerful models that do close analysis of documents and perform the core task of question answering. \n",
        "\n",
        "* The Readers in Haystack are trained from the latest transformer based language models and can be significantly sped up using GPU acceleration. \n",
        "\n",
        "* However, it is not currently feasible to use the Reader directly on large collection of documents.\n",
        "\n",
        "## Retriever\n",
        "\n",
        "* The Retriever assists the Reader by acting as a lightweight filter that reduces the number of documents that the Reader has to process. \n",
        "\n",
        "It does this by:\n",
        "\n",
        "  * Scanning through all documents in the database\n",
        "  * Quickly identifying the relevant and dismissing the irrelevant\n",
        "  * Passing on only a small candidate set of documents to the Reader\n",
        "\n",
        "Current methods fall into one of the two categories:\n",
        "\n",
        "* sparse\n",
        "\n",
        "      - keyword based\n",
        "      - fast indexing and querying\n",
        "      - e.g. BM25\n",
        "      \n",
        "* dense\n",
        "\n",
        "      - neural network based\n",
        "      - computationally heavy indexing but fast querying\n",
        "      - e.g. Dense Passage Retrieval\n",
        "    \n"
      ]
    },
    {
      "cell_type": "markdown",
      "metadata": {
        "id": "xRO5qURfRWm5"
      },
      "source": [
        "## Installation\n",
        "To start, install the latest release of Haystack with pip:"
      ]
    },
    {
      "cell_type": "code",
      "source": [
        "%%bash\n",
        "\n",
        "nvidia-smi"
      ],
      "metadata": {
        "id": "FIiY2pa1DAcy",
        "outputId": "46da779f-252d-4811-9636-9a345ba45989",
        "colab": {
          "base_uri": "https://localhost:8080/"
        }
      },
      "execution_count": 2,
      "outputs": [
        {
          "output_type": "stream",
          "name": "stdout",
          "text": [
            "Tue Nov 15 11:28:20 2022       \n",
            "+-----------------------------------------------------------------------------+\n",
            "| NVIDIA-SMI 460.32.03    Driver Version: 460.32.03    CUDA Version: 11.2     |\n",
            "|-------------------------------+----------------------+----------------------+\n",
            "| GPU  Name        Persistence-M| Bus-Id        Disp.A | Volatile Uncorr. ECC |\n",
            "| Fan  Temp  Perf  Pwr:Usage/Cap|         Memory-Usage | GPU-Util  Compute M. |\n",
            "|                               |                      |               MIG M. |\n",
            "|===============================+======================+======================|\n",
            "|   0  Tesla T4            Off  | 00000000:00:04.0 Off |                    0 |\n",
            "| N/A   43C    P8     9W /  70W |      0MiB / 15109MiB |      0%      Default |\n",
            "|                               |                      |                  N/A |\n",
            "+-------------------------------+----------------------+----------------------+\n",
            "                                                                               \n",
            "+-----------------------------------------------------------------------------+\n",
            "| Processes:                                                                  |\n",
            "|  GPU   GI   CI        PID   Type   Process name                  GPU Memory |\n",
            "|        ID   ID                                                   Usage      |\n",
            "|=============================================================================|\n",
            "|  No running processes found                                                 |\n",
            "+-----------------------------------------------------------------------------+\n"
          ]
        }
      ]
    },
    {
      "cell_type": "code",
      "source": [
        "! pip install farm-haystack[colab]"
      ],
      "metadata": {
        "id": "0GwJJFRBZ-ox",
        "outputId": "f4ef9957-d7af-4e5b-c1d7-4c9362ebc2eb",
        "colab": {
          "base_uri": "https://localhost:8080/"
        }
      },
      "execution_count": 2,
      "outputs": [
        {
          "output_type": "stream",
          "name": "stdout",
          "text": [
            "WARNING:hatch_autorun:Haystack is generating the YAML schema for Pipelines validation. This only happens once, after installing the package.\n",
            "Looking in indexes: https://pypi.org/simple, https://us-python.pkg.dev/colab-wheels/public/simple/\n",
            "Requirement already satisfied: farm-haystack[colab] in /usr/local/lib/python3.7/dist-packages (1.11.0rc0)\n",
            "Requirement already satisfied: pandas in /usr/local/lib/python3.7/dist-packages (from farm-haystack[colab]) (1.3.5)\n",
            "Requirement already satisfied: tika in /usr/local/lib/python3.7/dist-packages (from farm-haystack[colab]) (1.24)\n",
            "Requirement already satisfied: scipy>=1.3.2 in /usr/local/lib/python3.7/dist-packages (from farm-haystack[colab]) (1.7.3)\n",
            "Requirement already satisfied: rapidfuzz<2.8.0,>=2.0.15 in /usr/local/lib/python3.7/dist-packages (from farm-haystack[colab]) (2.7.0)\n",
            "Requirement already satisfied: tqdm in /usr/local/lib/python3.7/dist-packages (from farm-haystack[colab]) (4.64.1)\n",
            "Requirement already satisfied: networkx in /usr/local/lib/python3.7/dist-packages (from farm-haystack[colab]) (2.6.3)\n",
            "Requirement already satisfied: transformers==4.21.2 in /usr/local/lib/python3.7/dist-packages (from farm-haystack[colab]) (4.21.2)\n",
            "Requirement already satisfied: mlflow in /usr/local/lib/python3.7/dist-packages (from farm-haystack[colab]) (1.30.0)\n",
            "Requirement already satisfied: importlib-metadata in /usr/local/lib/python3.7/dist-packages (from farm-haystack[colab]) (4.13.0)\n",
            "Requirement already satisfied: sentence-transformers>=2.2.0 in /usr/local/lib/python3.7/dist-packages (from farm-haystack[colab]) (2.2.2)\n",
            "Requirement already satisfied: posthog in /usr/local/lib/python3.7/dist-packages (from farm-haystack[colab]) (2.2.0)\n",
            "Requirement already satisfied: quantulum3 in /usr/local/lib/python3.7/dist-packages (from farm-haystack[colab]) (0.7.11)\n",
            "Requirement already satisfied: mmh3 in /usr/local/lib/python3.7/dist-packages (from farm-haystack[colab]) (3.0.0)\n",
            "Requirement already satisfied: pydantic in /usr/local/lib/python3.7/dist-packages (from farm-haystack[colab]) (1.10.2)\n",
            "Requirement already satisfied: scikit-learn>=1.0.0 in /usr/local/lib/python3.7/dist-packages (from farm-haystack[colab]) (1.0.2)\n",
            "Requirement already satisfied: requests in /usr/local/lib/python3.7/dist-packages (from farm-haystack[colab]) (2.28.1)\n",
            "Requirement already satisfied: nltk in /usr/local/lib/python3.7/dist-packages (from farm-haystack[colab]) (3.7)\n",
            "Requirement already satisfied: elasticsearch<8,>=7.7 in /usr/local/lib/python3.7/dist-packages (from farm-haystack[colab]) (7.17.7)\n",
            "Requirement already satisfied: langdetect in /usr/local/lib/python3.7/dist-packages (from farm-haystack[colab]) (1.0.9)\n",
            "Requirement already satisfied: python-docx in /usr/local/lib/python3.7/dist-packages (from farm-haystack[colab]) (0.8.11)\n",
            "Requirement already satisfied: seqeval in /usr/local/lib/python3.7/dist-packages (from farm-haystack[colab]) (1.2.2)\n",
            "Requirement already satisfied: dill in /usr/local/lib/python3.7/dist-packages (from farm-haystack[colab]) (0.3.6)\n",
            "Requirement already satisfied: azure-ai-formrecognizer>=3.2.0b2 in /usr/local/lib/python3.7/dist-packages (from farm-haystack[colab]) (3.2.0)\n",
            "Requirement already satisfied: huggingface-hub>=0.5.0 in /usr/local/lib/python3.7/dist-packages (from farm-haystack[colab]) (0.10.1)\n",
            "Requirement already satisfied: more-itertools in /usr/local/lib/python3.7/dist-packages (from farm-haystack[colab]) (9.0.0)\n",
            "Requirement already satisfied: torch<1.13,>1.9 in /usr/local/lib/python3.7/dist-packages (from farm-haystack[colab]) (1.12.1+cu113)\n",
            "Requirement already satisfied: jsonschema in /usr/local/lib/python3.7/dist-packages (from farm-haystack[colab]) (4.3.3)\n",
            "Requirement already satisfied: grpcio==1.47.0 in /usr/local/lib/python3.7/dist-packages (from farm-haystack[colab]) (1.47.0)\n",
            "Requirement already satisfied: six>=1.5.2 in /usr/local/lib/python3.7/dist-packages (from grpcio==1.47.0->farm-haystack[colab]) (1.15.0)\n",
            "Requirement already satisfied: regex!=2019.12.17 in /usr/local/lib/python3.7/dist-packages (from transformers==4.21.2->farm-haystack[colab]) (2022.6.2)\n",
            "Requirement already satisfied: filelock in /usr/local/lib/python3.7/dist-packages (from transformers==4.21.2->farm-haystack[colab]) (3.8.0)\n",
            "Requirement already satisfied: pyyaml>=5.1 in /usr/local/lib/python3.7/dist-packages (from transformers==4.21.2->farm-haystack[colab]) (6.0)\n",
            "Requirement already satisfied: packaging>=20.0 in /usr/local/lib/python3.7/dist-packages (from transformers==4.21.2->farm-haystack[colab]) (21.3)\n",
            "Requirement already satisfied: tokenizers!=0.11.3,<0.13,>=0.11.1 in /usr/local/lib/python3.7/dist-packages (from transformers==4.21.2->farm-haystack[colab]) (0.12.1)\n",
            "Requirement already satisfied: numpy>=1.17 in /usr/local/lib/python3.7/dist-packages (from transformers==4.21.2->farm-haystack[colab]) (1.21.6)\n",
            "Requirement already satisfied: azure-core<2.0.0,>=1.23.0 in /usr/local/lib/python3.7/dist-packages (from azure-ai-formrecognizer>=3.2.0b2->farm-haystack[colab]) (1.26.1)\n",
            "Requirement already satisfied: typing-extensions>=4.0.1 in /usr/local/lib/python3.7/dist-packages (from azure-ai-formrecognizer>=3.2.0b2->farm-haystack[colab]) (4.1.1)\n",
            "Requirement already satisfied: azure-common~=1.1 in /usr/local/lib/python3.7/dist-packages (from azure-ai-formrecognizer>=3.2.0b2->farm-haystack[colab]) (1.1.28)\n",
            "Requirement already satisfied: msrest>=0.6.21 in /usr/local/lib/python3.7/dist-packages (from azure-ai-formrecognizer>=3.2.0b2->farm-haystack[colab]) (0.7.1)\n",
            "Requirement already satisfied: urllib3<2,>=1.21.1 in /usr/local/lib/python3.7/dist-packages (from elasticsearch<8,>=7.7->farm-haystack[colab]) (1.24.3)\n",
            "Requirement already satisfied: certifi in /usr/local/lib/python3.7/dist-packages (from elasticsearch<8,>=7.7->farm-haystack[colab]) (2022.9.24)\n",
            "Requirement already satisfied: jarowinkler<2.0.0,>=1.2.0 in /usr/local/lib/python3.7/dist-packages (from rapidfuzz<2.8.0,>=2.0.15->farm-haystack[colab]) (1.2.3)\n",
            "Requirement already satisfied: charset-normalizer<3,>=2 in /usr/local/lib/python3.7/dist-packages (from requests->farm-haystack[colab]) (2.1.1)\n",
            "Requirement already satisfied: idna<4,>=2.5 in /usr/local/lib/python3.7/dist-packages (from requests->farm-haystack[colab]) (2.10)\n",
            "Requirement already satisfied: threadpoolctl>=2.0.0 in /usr/local/lib/python3.7/dist-packages (from scikit-learn>=1.0.0->farm-haystack[colab]) (3.1.0)\n",
            "Requirement already satisfied: joblib>=0.11 in /usr/local/lib/python3.7/dist-packages (from scikit-learn>=1.0.0->farm-haystack[colab]) (1.2.0)\n",
            "Requirement already satisfied: torchvision in /usr/local/lib/python3.7/dist-packages (from sentence-transformers>=2.2.0->farm-haystack[colab]) (0.13.1+cu113)\n",
            "Requirement already satisfied: sentencepiece in /usr/local/lib/python3.7/dist-packages (from sentence-transformers>=2.2.0->farm-haystack[colab]) (0.1.97)\n",
            "Requirement already satisfied: zipp>=0.5 in /usr/local/lib/python3.7/dist-packages (from importlib-metadata->farm-haystack[colab]) (3.10.0)\n",
            "Requirement already satisfied: importlib-resources>=1.4.0 in /usr/local/lib/python3.7/dist-packages (from jsonschema->farm-haystack[colab]) (5.10.0)\n",
            "Requirement already satisfied: pyrsistent!=0.17.0,!=0.17.1,!=0.17.2,>=0.14.0 in /usr/local/lib/python3.7/dist-packages (from jsonschema->farm-haystack[colab]) (0.19.2)\n",
            "Requirement already satisfied: attrs>=17.4.0 in /usr/local/lib/python3.7/dist-packages (from jsonschema->farm-haystack[colab]) (22.1.0)\n",
            "Requirement already satisfied: pytz<2023 in /usr/local/lib/python3.7/dist-packages (from mlflow->farm-haystack[colab]) (2022.6)\n",
            "Requirement already satisfied: databricks-cli<1,>=0.8.7 in /usr/local/lib/python3.7/dist-packages (from mlflow->farm-haystack[colab]) (0.17.3)\n",
            "Requirement already satisfied: gitpython<4,>=2.1.0 in /usr/local/lib/python3.7/dist-packages (from mlflow->farm-haystack[colab]) (3.1.29)\n",
            "Requirement already satisfied: gunicorn<21 in /usr/local/lib/python3.7/dist-packages (from mlflow->farm-haystack[colab]) (20.1.0)\n",
            "Requirement already satisfied: click<9,>=7.0 in /usr/local/lib/python3.7/dist-packages (from mlflow->farm-haystack[colab]) (7.1.2)\n",
            "Requirement already satisfied: sqlparse<1,>=0.4.0 in /usr/local/lib/python3.7/dist-packages (from mlflow->farm-haystack[colab]) (0.4.3)\n",
            "Requirement already satisfied: querystring-parser<2 in /usr/local/lib/python3.7/dist-packages (from mlflow->farm-haystack[colab]) (1.2.4)\n",
            "Requirement already satisfied: entrypoints<1 in /usr/local/lib/python3.7/dist-packages (from mlflow->farm-haystack[colab]) (0.4)\n",
            "Requirement already satisfied: cloudpickle<3 in /usr/local/lib/python3.7/dist-packages (from mlflow->farm-haystack[colab]) (1.5.0)\n",
            "Requirement already satisfied: protobuf<5,>=3.12.0 in /usr/local/lib/python3.7/dist-packages (from mlflow->farm-haystack[colab]) (3.19.6)\n",
            "Requirement already satisfied: sqlalchemy<2,>=1.4.0 in /usr/local/lib/python3.7/dist-packages (from mlflow->farm-haystack[colab]) (1.4.43)\n",
            "Requirement already satisfied: prometheus-flask-exporter<1 in /usr/local/lib/python3.7/dist-packages (from mlflow->farm-haystack[colab]) (0.21.0)\n",
            "Requirement already satisfied: Flask<3 in /usr/local/lib/python3.7/dist-packages (from mlflow->farm-haystack[colab]) (1.1.4)\n",
            "Requirement already satisfied: alembic<2 in /usr/local/lib/python3.7/dist-packages (from mlflow->farm-haystack[colab]) (1.8.1)\n",
            "Requirement already satisfied: docker<7,>=4.0.0 in /usr/local/lib/python3.7/dist-packages (from mlflow->farm-haystack[colab]) (5.0.3)\n",
            "Requirement already satisfied: python-dateutil>=2.7.3 in /usr/local/lib/python3.7/dist-packages (from pandas->farm-haystack[colab]) (2.8.2)\n",
            "Requirement already satisfied: backoff<2.0.0,>=1.10.0 in /usr/local/lib/python3.7/dist-packages (from posthog->farm-haystack[colab]) (1.11.1)\n",
            "Requirement already satisfied: monotonic>=1.5 in /usr/local/lib/python3.7/dist-packages (from posthog->farm-haystack[colab]) (1.6)\n",
            "Requirement already satisfied: lxml>=2.3.2 in /usr/local/lib/python3.7/dist-packages (from python-docx->farm-haystack[colab]) (4.9.1)\n",
            "Requirement already satisfied: inflect in /usr/local/lib/python3.7/dist-packages (from quantulum3->farm-haystack[colab]) (2.1.0)\n",
            "Requirement already satisfied: num2words in /usr/local/lib/python3.7/dist-packages (from quantulum3->farm-haystack[colab]) (0.5.12)\n",
            "Requirement already satisfied: setuptools in /usr/local/lib/python3.7/dist-packages (from tika->farm-haystack[colab]) (57.4.0)\n",
            "Requirement already satisfied: Mako in /usr/local/lib/python3.7/dist-packages (from alembic<2->mlflow->farm-haystack[colab]) (1.2.3)\n",
            "Requirement already satisfied: tabulate>=0.7.7 in /usr/local/lib/python3.7/dist-packages (from databricks-cli<1,>=0.8.7->mlflow->farm-haystack[colab]) (0.8.10)\n",
            "Requirement already satisfied: oauthlib>=3.1.0 in /usr/local/lib/python3.7/dist-packages (from databricks-cli<1,>=0.8.7->mlflow->farm-haystack[colab]) (3.2.2)\n",
            "Requirement already satisfied: pyjwt>=1.7.0 in /usr/local/lib/python3.7/dist-packages (from databricks-cli<1,>=0.8.7->mlflow->farm-haystack[colab]) (2.6.0)\n",
            "Requirement already satisfied: websocket-client>=0.32.0 in /usr/local/lib/python3.7/dist-packages (from docker<7,>=4.0.0->mlflow->farm-haystack[colab]) (1.4.2)\n",
            "Requirement already satisfied: Jinja2<3.0,>=2.10.1 in /usr/local/lib/python3.7/dist-packages (from Flask<3->mlflow->farm-haystack[colab]) (2.11.3)\n",
            "Requirement already satisfied: itsdangerous<2.0,>=0.24 in /usr/local/lib/python3.7/dist-packages (from Flask<3->mlflow->farm-haystack[colab]) (1.1.0)\n",
            "Requirement already satisfied: Werkzeug<2.0,>=0.15 in /usr/local/lib/python3.7/dist-packages (from Flask<3->mlflow->farm-haystack[colab]) (1.0.1)\n",
            "Requirement already satisfied: gitdb<5,>=4.0.1 in /usr/local/lib/python3.7/dist-packages (from gitpython<4,>=2.1.0->mlflow->farm-haystack[colab]) (4.0.9)\n",
            "Requirement already satisfied: requests-oauthlib>=0.5.0 in /usr/local/lib/python3.7/dist-packages (from msrest>=0.6.21->azure-ai-formrecognizer>=3.2.0b2->farm-haystack[colab]) (1.3.1)\n",
            "Requirement already satisfied: isodate>=0.6.0 in /usr/local/lib/python3.7/dist-packages (from msrest>=0.6.21->azure-ai-formrecognizer>=3.2.0b2->farm-haystack[colab]) (0.6.1)\n",
            "Requirement already satisfied: pyparsing!=3.0.5,>=2.0.2 in /usr/local/lib/python3.7/dist-packages (from packaging>=20.0->transformers==4.21.2->farm-haystack[colab]) (3.0.9)\n",
            "Requirement already satisfied: prometheus-client in /usr/local/lib/python3.7/dist-packages (from prometheus-flask-exporter<1->mlflow->farm-haystack[colab]) (0.15.0)\n",
            "Requirement already satisfied: greenlet!=0.4.17 in /usr/local/lib/python3.7/dist-packages (from sqlalchemy<2,>=1.4.0->mlflow->farm-haystack[colab]) (2.0.1)\n",
            "Requirement already satisfied: docopt>=0.6.2 in /usr/local/lib/python3.7/dist-packages (from num2words->quantulum3->farm-haystack[colab]) (0.6.2)\n",
            "Requirement already satisfied: pillow!=8.3.*,>=5.3.0 in /usr/local/lib/python3.7/dist-packages (from torchvision->sentence-transformers>=2.2.0->farm-haystack[colab]) (7.1.2)\n",
            "Requirement already satisfied: smmap<6,>=3.0.1 in /usr/local/lib/python3.7/dist-packages (from gitdb<5,>=4.0.1->gitpython<4,>=2.1.0->mlflow->farm-haystack[colab]) (5.0.0)\n",
            "Requirement already satisfied: MarkupSafe>=0.23 in /usr/local/lib/python3.7/dist-packages (from Jinja2<3.0,>=2.10.1->Flask<3->mlflow->farm-haystack[colab]) (2.0.1)\n",
            "\u001b[33mWARNING: Running pip as the 'root' user can result in broken permissions and conflicting behaviour with the system package manager. It is recommended to use a virtual environment instead: https://pip.pypa.io/warnings/venv\u001b[0m\u001b[33m\n",
            "\u001b[0m"
          ]
        }
      ]
    },
    {
      "cell_type": "code",
      "source": [
        "%%bash\n",
        "\n",
        "pip install --upgrade pip\n",
        "pip install git+https://github.com/deepset-ai/haystack.git#egg=farm-haystack[colab]"
      ],
      "metadata": {
        "id": "hW5GKHGIBujM",
        "outputId": "b93a3361-3792-4f1d-f8e9-5474fe941312",
        "colab": {
          "base_uri": "https://localhost:8080/"
        }
      },
      "execution_count": 3,
      "outputs": [
        {
          "output_type": "stream",
          "name": "stdout",
          "text": [
            "Looking in indexes: https://pypi.org/simple, https://us-python.pkg.dev/colab-wheels/public/simple/\n",
            "Requirement already satisfied: pip in /usr/local/lib/python3.7/dist-packages (21.1.3)\n",
            "Collecting pip\n",
            "  Downloading pip-22.3.1-py3-none-any.whl (2.1 MB)\n",
            "Installing collected packages: pip\n",
            "  Attempting uninstall: pip\n",
            "    Found existing installation: pip 21.1.3\n",
            "    Uninstalling pip-21.1.3:\n",
            "      Successfully uninstalled pip-21.1.3\n",
            "Successfully installed pip-22.3.1\n",
            "Looking in indexes: https://pypi.org/simple, https://us-python.pkg.dev/colab-wheels/public/simple/\n",
            "Collecting farm-haystack[colab]\n",
            "  Cloning https://github.com/deepset-ai/haystack.git to /tmp/pip-install-x6f_1h_8/farm-haystack_67e9ab6e25344e419888d948f351e15b\n",
            "  Resolved https://github.com/deepset-ai/haystack.git to commit 6ce2d296f4cd34059905817f0a2717801ba27c61\n",
            "  Installing build dependencies: started\n",
            "  Installing build dependencies: finished with status 'done'\n",
            "  Getting requirements to build wheel: started\n",
            "  Getting requirements to build wheel: finished with status 'done'\n",
            "  Installing backend dependencies: started\n",
            "  Installing backend dependencies: finished with status 'done'\n",
            "  Preparing metadata (pyproject.toml): started\n",
            "  Preparing metadata (pyproject.toml): finished with status 'done'\n",
            "Requirement already satisfied: seqeval in /usr/local/lib/python3.7/dist-packages (from farm-haystack[colab]) (1.2.2)\n",
            "Requirement already satisfied: torch<1.13,>1.9 in /usr/local/lib/python3.7/dist-packages (from farm-haystack[colab]) (1.12.1+cu113)\n",
            "Requirement already satisfied: elasticsearch<8,>=7.7 in /usr/local/lib/python3.7/dist-packages (from farm-haystack[colab]) (7.17.7)\n",
            "Requirement already satisfied: tika in /usr/local/lib/python3.7/dist-packages (from farm-haystack[colab]) (1.24)\n",
            "Requirement already satisfied: tqdm in /usr/local/lib/python3.7/dist-packages (from farm-haystack[colab]) (4.64.1)\n",
            "Requirement already satisfied: huggingface-hub>=0.5.0 in /usr/local/lib/python3.7/dist-packages (from farm-haystack[colab]) (0.10.1)\n",
            "Requirement already satisfied: mmh3 in /usr/local/lib/python3.7/dist-packages (from farm-haystack[colab]) (3.0.0)\n",
            "Requirement already satisfied: importlib-metadata in /usr/local/lib/python3.7/dist-packages (from farm-haystack[colab]) (4.13.0)\n",
            "Requirement already satisfied: scipy>=1.3.2 in /usr/local/lib/python3.7/dist-packages (from farm-haystack[colab]) (1.7.3)\n",
            "Requirement already satisfied: dill in /usr/local/lib/python3.7/dist-packages (from farm-haystack[colab]) (0.3.6)\n",
            "Requirement already satisfied: mlflow in /usr/local/lib/python3.7/dist-packages (from farm-haystack[colab]) (1.30.0)\n",
            "Requirement already satisfied: pandas in /usr/local/lib/python3.7/dist-packages (from farm-haystack[colab]) (1.3.5)\n",
            "Requirement already satisfied: networkx in /usr/local/lib/python3.7/dist-packages (from farm-haystack[colab]) (2.6.3)\n",
            "Requirement already satisfied: jsonschema in /usr/local/lib/python3.7/dist-packages (from farm-haystack[colab]) (4.3.3)\n",
            "Requirement already satisfied: python-docx in /usr/local/lib/python3.7/dist-packages (from farm-haystack[colab]) (0.8.11)\n",
            "Requirement already satisfied: azure-ai-formrecognizer>=3.2.0b2 in /usr/local/lib/python3.7/dist-packages (from farm-haystack[colab]) (3.2.0)\n",
            "Requirement already satisfied: quantulum3 in /usr/local/lib/python3.7/dist-packages (from farm-haystack[colab]) (0.7.11)\n",
            "Requirement already satisfied: rapidfuzz<2.8.0,>=2.0.15 in /usr/local/lib/python3.7/dist-packages (from farm-haystack[colab]) (2.7.0)\n",
            "Requirement already satisfied: sentence-transformers>=2.2.0 in /usr/local/lib/python3.7/dist-packages (from farm-haystack[colab]) (2.2.2)\n",
            "Requirement already satisfied: nltk in /usr/local/lib/python3.7/dist-packages (from farm-haystack[colab]) (3.7)\n",
            "Requirement already satisfied: pydantic in /usr/local/lib/python3.7/dist-packages (from farm-haystack[colab]) (1.10.2)\n",
            "Requirement already satisfied: more-itertools in /usr/local/lib/python3.7/dist-packages (from farm-haystack[colab]) (9.0.0)\n",
            "Requirement already satisfied: posthog in /usr/local/lib/python3.7/dist-packages (from farm-haystack[colab]) (2.2.0)\n",
            "Requirement already satisfied: transformers==4.21.2 in /usr/local/lib/python3.7/dist-packages (from farm-haystack[colab]) (4.21.2)\n",
            "Requirement already satisfied: scikit-learn>=1.0.0 in /usr/local/lib/python3.7/dist-packages (from farm-haystack[colab]) (1.0.2)\n",
            "Requirement already satisfied: requests in /usr/local/lib/python3.7/dist-packages (from farm-haystack[colab]) (2.23.0)\n",
            "Requirement already satisfied: langdetect in /usr/local/lib/python3.7/dist-packages (from farm-haystack[colab]) (1.0.9)\n",
            "Collecting requests\n",
            "  Downloading requests-2.28.1-py3-none-any.whl (62 kB)\n",
            "     ━━━━━━━━━━━━━━━━━━━━━━━━━━━━━━━━━━━━━━━━ 62.8/62.8 kB 3.1 MB/s eta 0:00:00\n",
            "Collecting grpcio==1.47.0\n",
            "  Downloading grpcio-1.47.0-cp37-cp37m-manylinux_2_17_x86_64.manylinux2014_x86_64.whl (4.5 MB)\n",
            "     ━━━━━━━━━━━━━━━━━━━━━━━━━━━━━━━━━━━━━━━━ 4.5/4.5 MB 13.4 MB/s eta 0:00:00\n",
            "Requirement already satisfied: six>=1.5.2 in /usr/local/lib/python3.7/dist-packages (from grpcio==1.47.0->farm-haystack[colab]) (1.15.0)\n",
            "Requirement already satisfied: pyyaml>=5.1 in /usr/local/lib/python3.7/dist-packages (from transformers==4.21.2->farm-haystack[colab]) (6.0)\n",
            "Requirement already satisfied: numpy>=1.17 in /usr/local/lib/python3.7/dist-packages (from transformers==4.21.2->farm-haystack[colab]) (1.21.6)\n",
            "Requirement already satisfied: packaging>=20.0 in /usr/local/lib/python3.7/dist-packages (from transformers==4.21.2->farm-haystack[colab]) (21.3)\n",
            "Requirement already satisfied: filelock in /usr/local/lib/python3.7/dist-packages (from transformers==4.21.2->farm-haystack[colab]) (3.8.0)\n",
            "Requirement already satisfied: tokenizers!=0.11.3,<0.13,>=0.11.1 in /usr/local/lib/python3.7/dist-packages (from transformers==4.21.2->farm-haystack[colab]) (0.12.1)\n",
            "Requirement already satisfied: regex!=2019.12.17 in /usr/local/lib/python3.7/dist-packages (from transformers==4.21.2->farm-haystack[colab]) (2022.6.2)\n",
            "Requirement already satisfied: azure-common~=1.1 in /usr/local/lib/python3.7/dist-packages (from azure-ai-formrecognizer>=3.2.0b2->farm-haystack[colab]) (1.1.28)\n",
            "Requirement already satisfied: msrest>=0.6.21 in /usr/local/lib/python3.7/dist-packages (from azure-ai-formrecognizer>=3.2.0b2->farm-haystack[colab]) (0.7.1)\n",
            "Requirement already satisfied: typing-extensions>=4.0.1 in /usr/local/lib/python3.7/dist-packages (from azure-ai-formrecognizer>=3.2.0b2->farm-haystack[colab]) (4.1.1)\n",
            "Requirement already satisfied: azure-core<2.0.0,>=1.23.0 in /usr/local/lib/python3.7/dist-packages (from azure-ai-formrecognizer>=3.2.0b2->farm-haystack[colab]) (1.26.1)\n",
            "Requirement already satisfied: urllib3<2,>=1.21.1 in /usr/local/lib/python3.7/dist-packages (from elasticsearch<8,>=7.7->farm-haystack[colab]) (1.24.3)\n",
            "Requirement already satisfied: certifi in /usr/local/lib/python3.7/dist-packages (from elasticsearch<8,>=7.7->farm-haystack[colab]) (2022.9.24)\n",
            "Requirement already satisfied: jarowinkler<2.0.0,>=1.2.0 in /usr/local/lib/python3.7/dist-packages (from rapidfuzz<2.8.0,>=2.0.15->farm-haystack[colab]) (1.2.3)\n",
            "Requirement already satisfied: charset-normalizer<3,>=2 in /usr/local/lib/python3.7/dist-packages (from requests->farm-haystack[colab]) (2.1.1)\n",
            "Requirement already satisfied: idna<4,>=2.5 in /usr/local/lib/python3.7/dist-packages (from requests->farm-haystack[colab]) (2.10)\n",
            "Requirement already satisfied: joblib>=0.11 in /usr/local/lib/python3.7/dist-packages (from scikit-learn>=1.0.0->farm-haystack[colab]) (1.2.0)\n",
            "Requirement already satisfied: threadpoolctl>=2.0.0 in /usr/local/lib/python3.7/dist-packages (from scikit-learn>=1.0.0->farm-haystack[colab]) (3.1.0)\n",
            "Requirement already satisfied: torchvision in /usr/local/lib/python3.7/dist-packages (from sentence-transformers>=2.2.0->farm-haystack[colab]) (0.13.1+cu113)\n",
            "Requirement already satisfied: sentencepiece in /usr/local/lib/python3.7/dist-packages (from sentence-transformers>=2.2.0->farm-haystack[colab]) (0.1.97)\n",
            "Requirement already satisfied: zipp>=0.5 in /usr/local/lib/python3.7/dist-packages (from importlib-metadata->farm-haystack[colab]) (3.10.0)\n",
            "Requirement already satisfied: attrs>=17.4.0 in /usr/local/lib/python3.7/dist-packages (from jsonschema->farm-haystack[colab]) (22.1.0)\n",
            "Requirement already satisfied: importlib-resources>=1.4.0 in /usr/local/lib/python3.7/dist-packages (from jsonschema->farm-haystack[colab]) (5.10.0)\n",
            "Requirement already satisfied: pyrsistent!=0.17.0,!=0.17.1,!=0.17.2,>=0.14.0 in /usr/local/lib/python3.7/dist-packages (from jsonschema->farm-haystack[colab]) (0.19.2)\n",
            "Requirement already satisfied: gunicorn<21 in /usr/local/lib/python3.7/dist-packages (from mlflow->farm-haystack[colab]) (20.1.0)\n",
            "Requirement already satisfied: click<9,>=7.0 in /usr/local/lib/python3.7/dist-packages (from mlflow->farm-haystack[colab]) (7.1.2)\n",
            "Requirement already satisfied: protobuf<5,>=3.12.0 in /usr/local/lib/python3.7/dist-packages (from mlflow->farm-haystack[colab]) (3.19.6)\n",
            "Requirement already satisfied: sqlparse<1,>=0.4.0 in /usr/local/lib/python3.7/dist-packages (from mlflow->farm-haystack[colab]) (0.4.3)\n",
            "Requirement already satisfied: querystring-parser<2 in /usr/local/lib/python3.7/dist-packages (from mlflow->farm-haystack[colab]) (1.2.4)\n",
            "Requirement already satisfied: Flask<3 in /usr/local/lib/python3.7/dist-packages (from mlflow->farm-haystack[colab]) (1.1.4)\n",
            "Requirement already satisfied: pytz<2023 in /usr/local/lib/python3.7/dist-packages (from mlflow->farm-haystack[colab]) (2022.6)\n",
            "Requirement already satisfied: prometheus-flask-exporter<1 in /usr/local/lib/python3.7/dist-packages (from mlflow->farm-haystack[colab]) (0.21.0)\n",
            "Requirement already satisfied: alembic<2 in /usr/local/lib/python3.7/dist-packages (from mlflow->farm-haystack[colab]) (1.8.1)\n",
            "Requirement already satisfied: docker<7,>=4.0.0 in /usr/local/lib/python3.7/dist-packages (from mlflow->farm-haystack[colab]) (5.0.3)\n",
            "Requirement already satisfied: databricks-cli<1,>=0.8.7 in /usr/local/lib/python3.7/dist-packages (from mlflow->farm-haystack[colab]) (0.17.3)\n",
            "Requirement already satisfied: sqlalchemy<2,>=1.4.0 in /usr/local/lib/python3.7/dist-packages (from mlflow->farm-haystack[colab]) (1.4.43)\n",
            "Requirement already satisfied: gitpython<4,>=2.1.0 in /usr/local/lib/python3.7/dist-packages (from mlflow->farm-haystack[colab]) (3.1.29)\n",
            "Requirement already satisfied: cloudpickle<3 in /usr/local/lib/python3.7/dist-packages (from mlflow->farm-haystack[colab]) (1.5.0)\n",
            "Requirement already satisfied: entrypoints<1 in /usr/local/lib/python3.7/dist-packages (from mlflow->farm-haystack[colab]) (0.4)\n",
            "Requirement already satisfied: python-dateutil>=2.7.3 in /usr/local/lib/python3.7/dist-packages (from pandas->farm-haystack[colab]) (2.8.2)\n",
            "Requirement already satisfied: backoff<2.0.0,>=1.10.0 in /usr/local/lib/python3.7/dist-packages (from posthog->farm-haystack[colab]) (1.11.1)\n",
            "Requirement already satisfied: monotonic>=1.5 in /usr/local/lib/python3.7/dist-packages (from posthog->farm-haystack[colab]) (1.6)\n",
            "Requirement already satisfied: lxml>=2.3.2 in /usr/local/lib/python3.7/dist-packages (from python-docx->farm-haystack[colab]) (4.9.1)\n",
            "Requirement already satisfied: inflect in /usr/local/lib/python3.7/dist-packages (from quantulum3->farm-haystack[colab]) (2.1.0)\n",
            "Requirement already satisfied: num2words in /usr/local/lib/python3.7/dist-packages (from quantulum3->farm-haystack[colab]) (0.5.12)\n",
            "Requirement already satisfied: setuptools in /usr/local/lib/python3.7/dist-packages (from tika->farm-haystack[colab]) (57.4.0)\n",
            "Requirement already satisfied: Mako in /usr/local/lib/python3.7/dist-packages (from alembic<2->mlflow->farm-haystack[colab]) (1.2.3)\n",
            "Requirement already satisfied: oauthlib>=3.1.0 in /usr/local/lib/python3.7/dist-packages (from databricks-cli<1,>=0.8.7->mlflow->farm-haystack[colab]) (3.2.2)\n",
            "Requirement already satisfied: tabulate>=0.7.7 in /usr/local/lib/python3.7/dist-packages (from databricks-cli<1,>=0.8.7->mlflow->farm-haystack[colab]) (0.8.10)\n",
            "Requirement already satisfied: pyjwt>=1.7.0 in /usr/local/lib/python3.7/dist-packages (from databricks-cli<1,>=0.8.7->mlflow->farm-haystack[colab]) (2.6.0)\n",
            "Requirement already satisfied: websocket-client>=0.32.0 in /usr/local/lib/python3.7/dist-packages (from docker<7,>=4.0.0->mlflow->farm-haystack[colab]) (1.4.2)\n",
            "Requirement already satisfied: Werkzeug<2.0,>=0.15 in /usr/local/lib/python3.7/dist-packages (from Flask<3->mlflow->farm-haystack[colab]) (1.0.1)\n",
            "Requirement already satisfied: itsdangerous<2.0,>=0.24 in /usr/local/lib/python3.7/dist-packages (from Flask<3->mlflow->farm-haystack[colab]) (1.1.0)\n",
            "Requirement already satisfied: Jinja2<3.0,>=2.10.1 in /usr/local/lib/python3.7/dist-packages (from Flask<3->mlflow->farm-haystack[colab]) (2.11.3)\n",
            "Requirement already satisfied: gitdb<5,>=4.0.1 in /usr/local/lib/python3.7/dist-packages (from gitpython<4,>=2.1.0->mlflow->farm-haystack[colab]) (4.0.9)\n",
            "Requirement already satisfied: requests-oauthlib>=0.5.0 in /usr/local/lib/python3.7/dist-packages (from msrest>=0.6.21->azure-ai-formrecognizer>=3.2.0b2->farm-haystack[colab]) (1.3.1)\n",
            "Requirement already satisfied: isodate>=0.6.0 in /usr/local/lib/python3.7/dist-packages (from msrest>=0.6.21->azure-ai-formrecognizer>=3.2.0b2->farm-haystack[colab]) (0.6.1)\n",
            "Requirement already satisfied: pyparsing!=3.0.5,>=2.0.2 in /usr/local/lib/python3.7/dist-packages (from packaging>=20.0->transformers==4.21.2->farm-haystack[colab]) (3.0.9)\n",
            "Requirement already satisfied: prometheus-client in /usr/local/lib/python3.7/dist-packages (from prometheus-flask-exporter<1->mlflow->farm-haystack[colab]) (0.15.0)\n",
            "Requirement already satisfied: greenlet!=0.4.17 in /usr/local/lib/python3.7/dist-packages (from sqlalchemy<2,>=1.4.0->mlflow->farm-haystack[colab]) (2.0.1)\n",
            "Requirement already satisfied: docopt>=0.6.2 in /usr/local/lib/python3.7/dist-packages (from num2words->quantulum3->farm-haystack[colab]) (0.6.2)\n",
            "Requirement already satisfied: pillow!=8.3.*,>=5.3.0 in /usr/local/lib/python3.7/dist-packages (from torchvision->sentence-transformers>=2.2.0->farm-haystack[colab]) (7.1.2)\n",
            "Requirement already satisfied: smmap<6,>=3.0.1 in /usr/local/lib/python3.7/dist-packages (from gitdb<5,>=4.0.1->gitpython<4,>=2.1.0->mlflow->farm-haystack[colab]) (5.0.0)\n",
            "Requirement already satisfied: MarkupSafe>=0.23 in /usr/local/lib/python3.7/dist-packages (from Jinja2<3.0,>=2.10.1->Flask<3->mlflow->farm-haystack[colab]) (2.0.1)\n",
            "Building wheels for collected packages: farm-haystack\n",
            "  Building wheel for farm-haystack (pyproject.toml): started\n",
            "  Building wheel for farm-haystack (pyproject.toml): finished with status 'done'\n",
            "  Created wheel for farm-haystack: filename=farm_haystack-1.11.0rc0-py3-none-any.whl size=589278 sha256=23f24bc061156d364d8721527160354f9e2a8d5fcb4aa9ae5551e44a1ba515cd\n",
            "  Stored in directory: /tmp/pip-ephem-wheel-cache-cqnw6t_h/wheels/a7/05/3b/9b33368d9af06a39f8e6af2e97fa2af876e893ade323cfc2c9\n",
            "Successfully built farm-haystack\n",
            "Installing collected packages: requests, grpcio, farm-haystack\n",
            "  Attempting uninstall: requests\n",
            "    Found existing installation: requests 2.23.0\n",
            "    Uninstalling requests-2.23.0:\n",
            "      Successfully uninstalled requests-2.23.0\n",
            "  Attempting uninstall: grpcio\n",
            "    Found existing installation: grpcio 1.50.0\n",
            "    Uninstalling grpcio-1.50.0:\n",
            "      Successfully uninstalled grpcio-1.50.0\n",
            "  Attempting uninstall: farm-haystack\n",
            "    Found existing installation: farm-haystack 1.10.0\n",
            "    Uninstalling farm-haystack-1.10.0:\n",
            "      Successfully uninstalled farm-haystack-1.10.0\n",
            "Successfully installed farm-haystack-1.11.0rc0 grpcio-1.47.0 requests-2.28.1\n"
          ]
        },
        {
          "output_type": "stream",
          "name": "stderr",
          "text": [
            "  Running command git clone --filter=blob:none --quiet https://github.com/deepset-ai/haystack.git /tmp/pip-install-x6f_1h_8/farm-haystack_67e9ab6e25344e419888d948f351e15b\n",
            "ERROR: pip's dependency resolver does not currently take into account all the packages that are installed. This behaviour is the source of the following dependency conflicts.\n",
            "grpcio-status 1.48.2 requires grpcio>=1.48.2, but you have grpcio 1.47.0 which is incompatible.\n",
            "WARNING: Running pip as the 'root' user can result in broken permissions and conflicting behaviour with the system package manager. It is recommended to use a virtual environment instead: https://pip.pypa.io/warnings/venv\n"
          ]
        }
      ]
    },
    {
      "cell_type": "markdown",
      "source": [
        "## Logging"
      ],
      "metadata": {
        "id": "Lmw27O6KDMNG"
      }
    },
    {
      "cell_type": "code",
      "source": [
        "import logging\n",
        "logging.basicConfig(format=\"%(levelname)s - %(name)s -  %(message)s\", level=logging.WARNING)\n",
        "logging.getLogger(\"haystack\").setLevel(logging.INFO)"
      ],
      "metadata": {
        "id": "y2QQ9odVbgTy"
      },
      "execution_count": 3,
      "outputs": []
    },
    {
      "cell_type": "markdown",
      "source": [
        "## Document Store\n",
        "\n",
        "Haystack finds answers to queries within the documents stored in a `DocumentStore`. \n",
        "\n",
        "The current implementations of `DocumentStore` include \n",
        "* `ElasticsearchDocumentStore`, \n",
        "* `FAISSDocumentStore`,  \n",
        "* `SQLDocumentStore`, and \n",
        "* `InMemoryDocumentStore`.\n",
        "\n",
        "**Here:** We recommended Elasticsearch as it comes preloaded with features like [full-text queries](https://www.elastic.co/guide/en/elasticsearch/reference/current/full-text-queries.html), [BM25 retrieval](https://www.elastic.co/elasticon/conf/2016/sf/improved-text-scoring-with-bm25), and [vector storage for text embeddings](https://www.elastic.co/guide/en/elasticsearch/reference/7.6/dense-vector.html).\n",
        "\n",
        "**Alternatives:** If you are unable to setup an Elasticsearch instance, then follow the [Tutorial 3](https://github.com/deepset-ai/haystack-tutorials/blob/main/tutorials/03_Basic_QA_Pipeline_without_Elasticsearch.ipynb) for using SQL/InMemory document stores.\n",
        "\n",
        "**Hint**: This tutorial creates a new document store instance with Wikipedia articles on Game of Thrones. However, you can configure Haystack to work with your existing document stores.\n",
        "\n",
        "### Start an Elasticsearch server locally\n",
        "You can start Elasticsearch on your local machine instance using Docker. If Docker is not readily available in your environment (e.g. in Colab notebooks), then you can manually download and execute Elasticsearch from source."
      ],
      "metadata": {
        "id": "rFFD2-ugjI14"
      }
    },
    {
      "cell_type": "code",
      "source": [
        "# Recommended: Start Elasticsearch using Docker via the Haystack utility function\n",
        "from haystack.utils import launch_es\n",
        "\n",
        "launch_es()"
      ],
      "metadata": {
        "id": "0OJlsCXGkW07"
      },
      "execution_count": 6,
      "outputs": []
    },
    {
      "cell_type": "markdown",
      "source": [
        "## Start an Elasticsearch server in Colab\n",
        "If Docker is not readily available in your environment (e.g. in Colab notebooks), then you can manually download and execute Elasticsearch from source."
      ],
      "metadata": {
        "id": "NQ01HXpRkydL"
      }
    },
    {
      "cell_type": "code",
      "source": [
        "%%bash\n",
        "\n",
        "wget https://artifacts.elastic.co/downloads/elasticsearch/elasticsearch-7.9.2-linux-x86_64.tar.gz -q\n",
        "tar -xzf elasticsearch-7.9.2-linux-x86_64.tar.gz\n",
        "chown -R daemon:daemon elasticsearch-7.9.2"
      ],
      "metadata": {
        "id": "zaxzPoIAk0FK"
      },
      "execution_count": 7,
      "outputs": []
    },
    {
      "cell_type": "code",
      "source": [
        "%%bash --bg\n",
        "\n",
        "sudo -u daemon -- elasticsearch-7.9.2/bin/elasticsearch"
      ],
      "metadata": {
        "id": "2RILkd2_lf0C"
      },
      "execution_count": 8,
      "outputs": []
    },
    {
      "cell_type": "markdown",
      "source": [
        "### Create the Document Store\n",
        "\n",
        "The `ElasticsearchDocumentStore` class will try to open a connection in the constructor, here we wait 30 seconds only to be sure Elasticsearch is ready before continuing:"
      ],
      "metadata": {
        "id": "0HmzFCp_lp87"
      }
    },
    {
      "cell_type": "code",
      "source": [
        "import time\n",
        "time.sleep(30)"
      ],
      "metadata": {
        "id": "Na9hIrfClq09"
      },
      "execution_count": 9,
      "outputs": []
    },
    {
      "cell_type": "markdown",
      "source": [
        "## Finally, we create the Document Store instance:"
      ],
      "metadata": {
        "id": "MK9bzLg0lzWu"
      }
    },
    {
      "cell_type": "code",
      "source": [
        "import os\n",
        "from haystack.document_stores import ElasticsearchDocumentStore\n",
        "\n",
        "# Get the host where Elasticsearch is running, default to localhost\n",
        "host = os.environ.get(\"ELASTICSEARCH_HOST\", \"localhost\")\n",
        "document_store = ElasticsearchDocumentStore(host=host, username=\"\", password=\"\", index=\"document\")\n"
      ],
      "metadata": {
        "id": "P8nQdEyQl3g8"
      },
      "execution_count": 10,
      "outputs": []
    },
    {
      "cell_type": "markdown",
      "source": [
        "## Preprocessing of documents\n",
        "Haystack provides a customizable pipeline for:\n",
        "\n",
        "* converting files into texts\n",
        "* cleaning texts\n",
        "* splitting texts\n",
        "* writing them to a Document Store"
      ],
      "metadata": {
        "id": "gpJovmmSmxCA"
      }
    },
    {
      "cell_type": "code",
      "source": [
        "from haystack.utils import clean_wiki_text, convert_files_to_docs, fetch_archive_from_http\n",
        "\n",
        "\n",
        "# Let's first fetch some documents that we want to query\n",
        "# Here: 517 Wikipedia articles for Game of Thrones\n",
        "doc_dir = \"data/tutorial1\"\n",
        "s3_url = \"https://s3.eu-central-1.amazonaws.com/deepset.ai-farm-qa/datasets/documents/wiki_gameofthrones_txt1.zip\"\n",
        "fetch_archive_from_http(url=s3_url, output_dir=doc_dir)\n",
        "\n",
        "# Convert files to dicts\n",
        "# You can optionally supply a cleaning function that is applied to each doc (e.g. to remove footers)\n",
        "# It must take a str as input, and return a str.\n",
        "docs = convert_files_to_docs(dir_path=doc_dir, clean_func=clean_wiki_text, split_paragraphs=True)\n",
        "\n",
        "# We now have a list of dictionaries that we can write to our document store.\n",
        "# If your texts come from a different source (e.g. a DB), you can of course skip convert_files_to_dicts() and create the dictionaries yourself.\n",
        "# The default format here is:\n",
        "# {\n",
        "#    'content': \"<DOCUMENT_TEXT_HERE>\",\n",
        "#    'meta': {'name': \"<DOCUMENT_NAME_HERE>\", ...}\n",
        "# }\n",
        "# (Optionally: you can also add more key-value-pairs here, that will be indexed as fields in Elasticsearch and\n",
        "# can be accessed later for filtering or shown in the responses of the Pipeline)\n",
        "\n",
        "# Let's have a look at the first 3 entries:\n",
        "print(docs[:3])\n",
        "\n",
        "# Now, let's write the dicts containing documents to our DB.\n",
        "document_store.write_documents(docs)"
      ],
      "metadata": {
        "id": "GRmA5XjToK6k",
        "outputId": "b7987602-88af-4b51-e2d1-95bee78fd196",
        "colab": {
          "base_uri": "https://localhost:8080/"
        }
      },
      "execution_count": 11,
      "outputs": [
        {
          "output_type": "stream",
          "name": "stdout",
          "text": [
            "[<Document: {'content': '\"\\'\\'\\'The Pointy End\\'\\'\\'\" is the eighth episode of the first season of the HBO medieval fantasy television series \\'\\'Game of Thrones\\'\\'. First aired on June 5, 2011, the episode was directed by Daniel Minahan and written by George R. R. Martin, the author of the \\'\\'A Song of Ice and Fire\\'\\' novels on which the show is based.\\nThe plot covers the aftermath of Eddard Stark\\'s capture. While the Lannisters seek to capture his daughters, his son and heir, Robb, raises an army in the North. Meanwhile, Daenerys witnesses a Dothraki raid on a peaceful village, and Jon Snow faces a new threat at the Wall. The episode\\'s title refers to the sword fighting lesson that Jon gave to Arya before their farewell: \"Stick them with the pointy end.\"\\nThe episode was well received by critics, who praised Martin\\'s adaptation of his own work as well as the actors\\' performances. It was dedicated to Ralph Vicinanza, an executive producer who died of natural causes. In the United States, the episode achieved a viewership of 2.72 million in its initial broadcast. The episode garnered an Emmy Award nomination for Outstanding Costumes for a Series, but lost to \\'\\'The Borgias\\'\\'.', 'content_type': 'text', 'score': None, 'meta': {'name': '449_The_Pointy_End.txt'}, 'embedding': None, 'id': 'f302739924b4cafd2e6a6af689413d21'}>, <Document: {'content': \"\\n===In the Mountains of the Moon===\\nAmbushed by tribesmen, Tyrion bribes them to escort him and Bronn to Tywin's camp\", 'content_type': 'text', 'score': None, 'meta': {'name': '449_The_Pointy_End.txt'}, 'embedding': None, 'id': 'd13e8273faedbdd5509595a3099e80a7'}>, <Document: {'content': \"\\n===In the Eyrie===\\nCatelyn Stark learns from a message that her son Robb has called the banners of the North to war against the Lannisters and that Ned is imprisoned in the dungeons in King's Landing. Catelyn becomes furious with Lysa for not telling her, but nonetheless implores Lysa to help by sending the Knights of the Vale to join Robb, but Lysa, doubting that Robb can beat Tywin Lannister, refuses.\", 'content_type': 'text', 'score': None, 'meta': {'name': '449_The_Pointy_End.txt'}, 'embedding': None, 'id': 'd150648834c2f74b7f2bb21fc5eeed27'}>]\n"
          ]
        }
      ]
    },
    {
      "cell_type": "markdown",
      "metadata": {
        "id": "GYgIepuObsKz"
      },
      "source": [
        "* In Haystack, DocumentStores expect Documents in a dictionary format.\n",
        "![image.png](data:image/png;base64,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)"
      ]
    },
    {
      "cell_type": "markdown",
      "metadata": {
        "id": "hPkNr5ZTpmDS"
      },
      "source": [
        "## Initalize Retriever, Reader, & Pipeline"
      ]
    },
    {
      "cell_type": "markdown",
      "metadata": {
        "id": "gUZ67s28g0N2"
      },
      "source": [
        "## Retriever : Interacts with the DocumentStore"
      ]
    },
    {
      "cell_type": "markdown",
      "source": [
        "### Retriever\n",
        "\n",
        "* Retrievers help narrowing down the scope for the Reader to smaller units of text where a given question could be answered. \n",
        "* They use some simple but fast algorithm.\n",
        "\n",
        "Here: We use Elasticsearch’s default BM25 algorithm"
      ],
      "metadata": {
        "id": "io0U5xSQpqIQ"
      }
    },
    {
      "cell_type": "markdown",
      "source": [
        "**Alternatives:**\n",
        "\n",
        "- Customize the `BM25Retriever`with custom queries (e.g. boosting) and filters\n",
        "- Use `TfidfRetriever` in combination with a SQL or InMemory Document store for simple prototyping and debugging\n",
        "- Use `EmbeddingRetriever` to find candidate documents based on the similarity of embeddings (e.g. created via Sentence-BERT)\n",
        "- Use `DensePassageRetriever` to use different embedding models for passage and query (see Tutorial 6)"
      ],
      "metadata": {
        "id": "2yPZK5VJqsGv"
      }
    },
    {
      "cell_type": "code",
      "source": [
        "from haystack.nodes import BM25Retriever\n",
        "retriever = BM25Retriever(document_store=document_store)"
      ],
      "metadata": {
        "id": "zfYW50EGrUlG"
      },
      "execution_count": 12,
      "outputs": []
    },
    {
      "cell_type": "code",
      "metadata": {
        "id": "5Fk59UdogCGF"
      },
      "source": [
        "# Alternative: An in-memory TfidfRetriever based on Pandas dataframes for building quick-prototypes with SQLite document store.\n",
        "\n",
        "# from haystack.nodes import TfidfRetriever\n",
        "# retriever = TfidfRetriever(document_store=document_store)"
      ],
      "execution_count": 13,
      "outputs": []
    },
    {
      "cell_type": "markdown",
      "metadata": {
        "id": "nq4rxCbalfLR"
      },
      "source": [
        "### Reader\n",
        "\n",
        "A Reader scans the texts returned by retrievers in detail and extracts the k best answers. They are based\n",
        "on powerful, but slower deep learning models.\n",
        "\n",
        "Haystack currently supports Readers based on the frameworks **FARM** and **Transformers**.\n",
        "With both you can either load a local model or one from Hugging Face's model hub (https://huggingface.co/models).\n",
        "\n",
        "**Here:** a medium sized RoBERTa QA model using a Reader based on FARM (https://huggingface.co/deepset/roberta-base-squad2)\n",
        "\n",
        "**Alternatives (Reader):** TransformersReader (leveraging the `pipeline` of the Transformers package)\n",
        "\n",
        "**Alternatives (Models):** e.g. \"distilbert-base-uncased-distilled-squad\" (fast) or \"deepset/bert-large-uncased-whole-word-masking-squad2\" (good accuracy)\n",
        "\n",
        "**Hint:** You can adjust the model to return \"no answer possible\" with the no_ans_boost. Higher values mean the model prefers \"no answer possible\"\n",
        "\n",
        "#### FARMReader"
      ]
    },
    {
      "cell_type": "code",
      "source": [
        "from haystack.nodes import FARMReader\n",
        "\n",
        "# Load a  local model or any of the QA models on\n",
        "# Hugging Face's model hub (https://huggingface.co/models)\n",
        "\n",
        "reader = FARMReader(model_name_or_path=\"deepset/roberta-base-squad2\", use_gpu=True)"
      ],
      "metadata": {
        "id": "NYnhNZY9uKE5",
        "outputId": "d67d55a3-00c4-4bca-cd5d-470c08db17e1",
        "colab": {
          "base_uri": "https://localhost:8080/"
        }
      },
      "execution_count": 14,
      "outputs": [
        {
          "output_type": "stream",
          "name": "stderr",
          "text": [
            "Downloading config.json: 100%|██████████| 571/571 [00:00<00:00, 472kB/s]\n",
            "Downloading pytorch_model.bin: 100%|██████████| 473M/473M [00:07<00:00, 69.2MB/s]\n",
            "Downloading tokenizer_config.json: 100%|██████████| 79.0/79.0 [00:00<00:00, 102kB/s]\n",
            "Downloading vocab.json: 100%|██████████| 878k/878k [00:00<00:00, 6.46MB/s]\n",
            "Downloading merges.txt: 100%|██████████| 446k/446k [00:00<00:00, 4.68MB/s]\n",
            "Downloading special_tokens_map.json: 100%|██████████| 772/772 [00:00<00:00, 355kB/s]\n"
          ]
        }
      ]
    },
    {
      "cell_type": "markdown",
      "source": [
        "#### TransformersReader\n",
        "\n",
        "Alternative:"
      ],
      "metadata": {
        "id": "mz3A8Ox-uSdv"
      }
    },
    {
      "cell_type": "code",
      "source": [
        "from haystack.nodes import TransformersReader\n",
        "# reader = TransformersReader(model_name_or_path=\"distilbert-base-uncased-distilled-squad\", tokenizer=\"distilbert-base-uncased\", use_gpu=-1)"
      ],
      "metadata": {
        "id": "P3INSelouTH6"
      },
      "execution_count": 15,
      "outputs": []
    },
    {
      "cell_type": "markdown",
      "source": [
        "### Pipeline\n",
        "\n",
        "With a Haystack `Pipeline` you can stick together your building blocks to a search **pipeline**.\n",
        "Under the hood, `Pipelines` are Directed Acyclic Graphs (DAGs) that you can easily customize for your own use cases.\n",
        "To speed things up, Haystack also comes with a few predefined Pipelines. One of them is the `ExtractiveQAPipeline` that combines a retriever and a reader to answer our questions.\n",
        "You can learn more about `Pipelines` in the [docs](https://haystack.deepset.ai/docs/latest/pipelines)."
      ],
      "metadata": {
        "id": "q59nj_O4uv9y"
      }
    },
    {
      "cell_type": "code",
      "metadata": {
        "id": "Dcp_Ysj8pROX"
      },
      "source": [
        "from haystack.pipelines import ExtractiveQAPipeline\n",
        "\n",
        "pipe = ExtractiveQAPipeline(reader, retriever)"
      ],
      "execution_count": 16,
      "outputs": []
    },
    {
      "cell_type": "markdown",
      "source": [
        "##AskQuestion"
      ],
      "metadata": {
        "id": "1laHsIU5u82w"
      }
    },
    {
      "cell_type": "code",
      "source": [
        "# You can configure how many candidates the Reader and Retriever shall return\n",
        "# The higher top_k_retriever, the better (but also the slower) your answers.\n",
        "prediction = pipe.run(\n",
        "    query=\"Who is the father of Arya Stark?\", params={\"Retriever\": {\"top_k\": 10}, \"Reader\": {\"top_k\": 5}}\n",
        ")\n"
      ],
      "metadata": {
        "id": "6uyiaji1vZYS",
        "outputId": "17683ad0-6dea-46ee-af7d-0243d1bf4a6f",
        "colab": {
          "base_uri": "https://localhost:8080/"
        }
      },
      "execution_count": 17,
      "outputs": [
        {
          "output_type": "stream",
          "name": "stderr",
          "text": [
            "Inferencing Samples: 100%|██████████| 1/1 [00:03<00:00,  3.01s/ Batches]\n"
          ]
        }
      ]
    },
    {
      "cell_type": "code",
      "source": [
        "from pprint import pprint\n",
        "\n",
        "pprint(prediction)\n"
      ],
      "metadata": {
        "id": "14jrNrmwwGuE",
        "outputId": "5fe20728-5d63-4599-b7d9-88248a4041d0",
        "colab": {
          "base_uri": "https://localhost:8080/"
        }
      },
      "execution_count": 18,
      "outputs": [
        {
          "output_type": "stream",
          "name": "stdout",
          "text": [
            "{'answers': [<Answer {'answer': 'Eddard', 'type': 'extractive', 'score': 0.9919580221176147, 'context': \"s Nymeria after a legendary warrior queen. She travels with her father, Eddard, to King's Landing when he is made Hand of the King. Before she leaves,\", 'offsets_in_document': [{'start': 147, 'end': 153}], 'offsets_in_context': [{'start': 72, 'end': 78}], 'document_id': 'ba2a8e87ddd95e380bec55983ee7d55f', 'meta': {'name': '43_Arya_Stark.txt'}}>,\n",
            "             <Answer {'answer': 'Ned', 'type': 'extractive', 'score': 0.97672438621521, 'context': \"\\n====Season 1====\\nArya accompanies her father Ned and her sister Sansa to King's Landing. Before their departure, Arya's half-brother Jon Snow gifts A\", 'offsets_in_document': [{'start': 46, 'end': 49}], 'offsets_in_context': [{'start': 46, 'end': 49}], 'document_id': '180c2a6b36369712b361a80842e79356', 'meta': {'name': '43_Arya_Stark.txt'}}>,\n",
            "             <Answer {'answer': 'Lord Eddard Stark', 'type': 'extractive', 'score': 0.893039882183075, 'context': 'ark daughters.\\nDuring the Tourney of the Hand to honour her father Lord Eddard Stark, Sansa Stark is enchanted by the knights performing in the event.', 'offsets_in_document': [{'start': 659, 'end': 676}], 'offsets_in_context': [{'start': 67, 'end': 84}], 'document_id': 'd1f36ec7170e4c46cde65787fe125dfe', 'meta': {'name': '332_Sansa_Stark.txt'}}>,\n",
            "             <Answer {'answer': 'Joffrey', 'type': 'extractive', 'score': 0.6753820776939392, 'context': \"laying with one of his wooden toys.\\nAfter Eddard discovers the truth of Joffrey's paternity, he tells Sansa that they will be heading back to Winterfe\", 'offsets_in_document': [{'start': 1161, 'end': 1168}], 'offsets_in_context': [{'start': 72, 'end': 79}], 'document_id': 'd1f36ec7170e4c46cde65787fe125dfe', 'meta': {'name': '332_Sansa_Stark.txt'}}>,\n",
            "             <Answer {'answer': 'Robb', 'type': 'extractive', 'score': 0.6666008830070496, 'context': 'allow the army to cross the river and to commit his troops in return for Robb and Arya Stark marrying two of his children.\\nTyrion Lannister suspects h', 'offsets_in_document': [{'start': 193, 'end': 197}], 'offsets_in_context': [{'start': 73, 'end': 77}], 'document_id': '6b181174d1237878b706e6a12d69e92', 'meta': {'name': '450_Baelor.txt'}}>],\n",
            " 'documents': [<Document: {'content': \"\\n===In the Riverlands===\\nThe Stark army reaches the Twins, a bridge stronghold controlled by Walder Frey, who agrees to allow the army to cross the river and to commit his troops in return for Robb and Arya Stark marrying two of his children.\\nTyrion Lannister suspects his father Tywin, who decides Tyrion and his barbarians will fight in the vanguard, wants him killed. As Tyrion, Bronn, and the prostitute Shae swap stories, Tyrion reveals he was married to a woman his father revealed was a prostitute, and made Tyrion watch as his guardsmen raped her.\\nAs a Stark force approaches, Tyrion is trampled in the rush and regains consciousness to find the battle over. Tywin discovers the Stark host was only 2,000 men, not the 20,000 he was led to expect.\\nRobb, having divided his forces, defeats Jaime Lannister's army with his remaining 18,000 men and captures Jaime.\", 'content_type': 'text', 'score': 0.8110895501528345, 'meta': {'name': '450_Baelor.txt'}, 'embedding': None, 'id': '6b181174d1237878b706e6a12d69e92'}>,\n",
            "               <Document: {'content': '\\n===On the Kingsroad===\\nCity Watchmen search the caravan for Gendry but are turned away by Yoren. Gendry tells Arya Stark that he knows she is a girl, and she reveals she is actually Arya Stark after learning that her father met Gendry before he was executed.', 'content_type': 'text', 'score': 0.8058019827683869, 'meta': {'name': '224_The_Night_Lands.txt'}, 'embedding': None, 'id': 'a4d2cc51d351b785c6effddd3345bb39'}>,\n",
            "               <Document: {'content': '\\n===\\'\\'A Game of Thrones\\'\\'===\\nSansa Stark begins the novel by being betrothed to Crown Prince Joffrey Baratheon, believing Joffrey to be a gallant prince. While Joffrey and Sansa are walking through the woods, Joffrey notices Arya sparring with the butcher\\'s boy, Mycah. A fight breaks out and Joffrey is attacked by Nymeria (Arya\\'s direwolf) after Joffrey threatens to hurt Arya. Sansa lies to King Robert about the circumstances of the fight in order to protect both Joffrey and her sister Arya.  Since Arya ran off with her wolf to save it, Sansa\\'s wolf is killed instead, estranging the Stark daughters.\\nDuring the Tourney of the Hand to honour her father Lord Eddard Stark, Sansa Stark is enchanted by the knights performing in the event.  At the request of his mother, Queen Cersei Lannister, Joffrey spends a portion of the tourney with Sansa, but near the end he commands his guard Sandor Clegane, better known as The Hound, to take her back to her quarters. Sandor explains how his older brother, Gregor, aka \"Mountain that Rides\" pushed his face into a brazier of hot coals, for playing with one of his wooden toys.\\nAfter Eddard discovers the truth of Joffrey\\'s paternity, he tells Sansa that they will be heading back to Winterfell. Sansa is devastated and wishes to stay in King\\'s Landing, so she runs off to inform Queen Cersei of her father\\'s plans, unwittingly providing Cersei with the information needed to arrest her father. After Robert dies, Sansa begs Joffrey to show mercy on her father and he agrees, if Ned will swear an oath of loyalty, but executes him anyway, in front of Sansa.  Sansa is now effectively a hostage in King\\'s Landing and finally sees Joffrey\\'s true nature, after he forces her to look at the tarred head of her now-deceased father.', 'content_type': 'text', 'score': 0.8020677650524326, 'meta': {'name': '332_Sansa_Stark.txt'}, 'embedding': None, 'id': 'd1f36ec7170e4c46cde65787fe125dfe'}>,\n",
            "               <Document: {'content': \"\\n===Season 2===\\nGendry travels North with Yoren and other Night's Watch recruits, including Arya Stark (disguised as an orphan boy named 'Arry), Lommy Greenhands, Hot Pie and Jaqen H'ghar. During their journey, they are stopped by the Goldcloaks of the City Watch, who demand that Yoren hand Gendry over to them - King Joffrey has ordered that all of his father Robert's bastards be killed, but Yoren turns the Goldcloaks away. Later, Gendry forces Arya to reveal her true identity, and is surprised to learn she is in fact Ned Stark's daughter. After the Goldcloaks get help from Ser Amory Lorch and his men, they ambush the travelling party. In the chaos, Yoren is killed. Gendry's life is then saved by Arya, who convinces the Goldcloaks that Lommy, who was killed during the attack, was in fact Gendry. Gendry and the rest of the recruits are then escorted to Harrenhal, the ruined castle-turned-prison. Ser Gregor Clegane oversees order here, and arbitrarily has many of the prisoners tortured and killed. Gendry is nearly tortured and killed but is saved by the arrival of Lord Tywin Lannister, who chides Clegane's men for their reckless treatment of the prisoners. Thanks to Jaqen H'ghars help, Arya, Gendry and Hot Pie are able to escape Harrenhal.\", 'content_type': 'text', 'score': 0.8001674895900547, 'meta': {'name': '191_Gendry.txt'}, 'embedding': None, 'id': 'dd4e070a22896afa81748d6510006d2'}>,\n",
            "               <Document: {'content': '\\n====Season 1====\\nArya accompanies her father Ned and her sister Sansa to King\\'s Landing. Before their departure, Arya\\'s half-brother Jon Snow gifts Arya a sword which she dubs \"Needle\". On the Kingsroad, Arya is sparring with a butcher\\'s boy, Mycah, when Sansa\\'s betrothed Prince Joffrey Baratheon attacks Mycah, prompting Arya\\'s direwolf Nymeria to bite Joffrey. Arya shoos Nymeria away so she is not killed, but is furious when Sansa later refuses to support her version of events. Mycah is later killed by Joffrey\\'s bodyguard Sandor \"The Hound\" Clegane, earning him Arya\\'s hatred. Ned arranges for Arya to have sword lessons with the Braavosi Syrio Forel, who later defends her from Ser Meryn Trant after Joffrey ascends to the throne and kills the Stark household. Arya flees the Red Keep, accidentally killing a stable boy in her escape, hiding out as a beggar in the streets of King\\'s Landing. Ned is eventually taken to the Great Sept of Baelor to face judgment; he spots Arya in the crowd, and alerts the Night\\'s Watch recruiter Yoren to her presence. Yoren prevents Arya from witnessing Ned\\'s execution and has her pose as a boy, \"Arry\", to avoid detection as she joins Yoren\\'s recruits traveling north to Castle Black.', 'content_type': 'text', 'score': 0.7907264571073125, 'meta': {'name': '43_Arya_Stark.txt'}, 'embedding': None, 'id': '180c2a6b36369712b361a80842e79356'}>,\n",
            "               <Document: {'content': '\\n===In King\\'s Landing===\\nAfter Varys tells him that Sansa Stark\\'s life is also at stake, Eddard \"Ned\" Stark agrees to make a false confession and swear loyalty to King Joffrey Baratheon.\\nArya Stark finds a crowd gathering to watch her father be judged, and climbs onto the statue of Baelor the Blessed. Ned notices Arya and alerts Night\\'s Watch recruiter Yoren. Before Sansa, Cersei Lannister, Joffrey and the Small Council, Ned confesses to treason and swears fealty to Joffrey. Instead of sparing Ned as promised, Joffrey orders him to be executed. Seeing that Arya has been rescued by Yoren, Ned accepts his fate and is beheaded.', 'content_type': 'text', 'score': 0.7905801782386174, 'meta': {'name': '450_Baelor.txt'}, 'embedding': None, 'id': '956aa2b653c6debcb6cb217531a6be58'}>,\n",
            "               <Document: {'content': \"\\n==== ''A Storm of Swords'' and ''A Feast for Crows'' ====\\nPrior to the Red Wedding, Roose Bolton presents Robb Stark with a piece of Theon's skin, revealing that Ramsay has been flaying him; though disgusted, Robb acquiesces to Theon's further captivity, as Theon's father Balon has recently died and Theon's absence presents a succession crisis for the Ironborn. Following Robb Stark's death, King Tommen Baratheon legitimizes Ramsay as a Bolton. The Lannisters pass off Jeyne Poole as Arya Stark and send her north to be betrothed to Ramsay, with only the Lannisters and Boltons aware she is not the real Arya Stark.\", 'content_type': 'text', 'score': 0.788628898071797, 'meta': {'name': '487_Ramsay_Bolton.txt'}, 'embedding': None, 'id': 'fc56eb160221cbdc74d223383680dbeb'}>,\n",
            "               <Document: {'content': '\\n===House Frey===\\n* \\'\\'\\'Walder Frey\\'\\'\\' (seasons 1, 3, 6–7) portrayed by David Bradley. David Bradley Lord Walder Frey, nicknamed the \"Late Lord Frey\", is the head of House Frey, Lord of the Crossing and bannerman to House Tully. He is known for outliving his many wives (now on his 8th) and siring over 100 children (both bastard and trueborn). Because the use of the Twins became a strategic necessity for Robb\\'s host, Walder was able to negotiate marriage contracts for his children to Robb and Arya Stark. But during Season 2 Robb broke his word and married Lady Talisa. For this slight, and willing to take advantage of the war\\'s changing fortunes, he conspires with Tywin Lannister and Roose Bolton to betray Robb Stark at the wedding of his liege Edmure Tully, which he insists in return for support of his men. Frey hosts the infamous \"Red Wedding\" at which Robb Stark, his wife and mother are all murdered, refusing to spare Robb even as Catelyn holds Lady Frey hostage and threatens to slit her throat, which she does. He is subsequently granted Riverrun and its lands (though the title Lord Paramount of the Riverlands passes to Harrenhal and House Baelish) and expresses delight to take another young wife, but his house is irredeemably tarnished by the betrayal and House Tully\\'s vassals refuse to submit to his rule. In Season 6, he is outraged when he hears of the Blackfish recapture\\' of Riverrun and blames his sons Lothar and Black Walder for allowing him to escape. He then orders them to retake the castle using Edmure Tully as a hostage. Though they successfully retake Riverrun with the help of a Lannister host led by Jaime Lannister, Walder is ambushed shortly afterwards by Arya Stark, who slits his throat in revenge for the Red Wedding. In Season 7, Arya uses Walder\\'s face to deceive and poison the rest of his family.\\n* \\'\\'\\'Lothar Frey\\'\\'\\' (seasons 3, 6) portrayed by Tom Brooke in season 3, and by Daniel Tuite in season 6. One of Lord Walder Frey\\'s many sons, nicknamed “Lame Lothar” because of his twisted leg. He and his half-brother Black Walder are sent by their father to Riverrun to propose a marriage between Lord Edmure Tully and Roslin Frey as terms for House Frey rejoining Robb Stark\\'s campaign against the Lannisters. He is one of the first to commence the \"Red Wedding\", stabbing Talisa Stark in the womb several times and killing her and her unborn child. In the sixth season, he is ordered by Walder to retake Riverrun from Brynden Tully. Though they succeed with Lannister help, he is killed by Arya Stark, who subsequently bakes him into a pie.\\n* \\'\\'\\'Black Walder Rivers\\'\\'\\' (seasons 3, 6) portrayed by Tim Plester. One of Lord Walder Frey\\'s many bastard sons, nicknamed “Black Walder” for his dark demeanor. He and his half-brother Lame Lothar are sent by their father to Riverrun to propose a marriage between Lord Edmure Tully and Roslin Frey as terms for House Frey rejoining Robb Stark\\'s campaign against the Lannister. He kills Catelyn Stark at the Red Wedding, after she slits Lady Frey\\'s throat in retaliation for her son\\'s death. In the sixth season, he takes part in the siege of Riverrun. Though the Freys reclaim the castle with the help of a Lannister host, Black Walder is killed shortly afterwards along with Lothar by Arya Stark, who bakes them both into a pie.', 'content_type': 'text', 'score': 0.7882182073903166, 'meta': {'name': '349_List_of_Game_of_Thrones_characters.txt'}, 'embedding': None, 'id': 'e60cb63e43a5a01694aea3a5cab14281'}>,\n",
            "               <Document: {'content': '\\n==== \\'\\'A Game of Thrones\\'\\' ====\\nArya adopts a direwolf cub, which she names Nymeria after a legendary warrior queen. She travels with her father, Eddard, to King\\'s Landing when he is made Hand of the King. Before she leaves, her half-brother Jon Snow has a smallsword made for her as a parting gift, which she names \"Needle\" after her least favorite ladylike activity.\\nWhile taking a walk together, Prince Joffrey and her sister Sansa happen upon Arya and her friend, the low-born butcher apprentice Mycah, sparring in the woods with broomsticks.  Arya defends Mycah from Joffrey\\'s torments and her direwolf Nymeria helps Arya fight off Joffrey, wounding his arm in the process.  Knowing that Nymeria will likely be killed in retribution, Arya chases her wolf away; but Sansa\\'s direwolf Lady is killed in Nymeria\\'s stead and Mycah is hunted down and killed by Sandor Clegane, Joffrey\\'s bodyguard.\\nIn King\\'s Landing, her father discovers Arya\\'s possession of Needle, but instead of confiscating it he arranges for fencing lessons under the Braavosi swordmaster Syrio Forel, who teaches her the style of fighting known as \"water dancing\".  After her father\\'s arrest, Syrio is killed protecting her and Arya narrowly escapes capture.  She later witnesses the public execution of her father before falling under the protection of the Night\\'s Watch recruiter Yoren.', 'content_type': 'text', 'score': 0.7846745387990397, 'meta': {'name': '43_Arya_Stark.txt'}, 'embedding': None, 'id': 'ba2a8e87ddd95e380bec55983ee7d55f'}>,\n",
            "               <Document: {'content': '\\n== Character description ==\\nGendry was conceived and born in King\\'s Landing after Robert\\'s Rebellion ended and is one of sixteen (twenty in the television series) bastard children of King Robert Baratheon,.  He is portrayed as tall and very muscled, having blue eyes and thick black hair, very similar to his biological father Robert and uncle Renly in their youth (Brienne of Tarth once almost mistook him for Renly for a moment).  He is stubborn and easily confused.\\nDespite being one of the only four surviving biological children of King Robert (along with Mya Stone, Edric Storm and Bella Rivers), Gendry never knew who his father was.  His mother was reported to have been a worker at an alehouse who died when Gendry was still a young boy, and all he remembers of her was that she had blond hair. Later on, Tobho Mott, a master armourer from Qohor, was offered double the customary fee by a \"lord\" with concealed identity to take Gendry in as a smith apprentice, but accepted him for free after being impressed by the boy\\'s physique.  Gendry turns out to be a talented apprentice, and likes to spend time polishing a bull head helmet that he proudly made for himself, which earned him the nickname \"Bull\" by Arya Stark.', 'content_type': 'text', 'score': 0.7759666295293488, 'meta': {'name': '191_Gendry.txt'}, 'embedding': None, 'id': '212af6309da6cb02c3c0e1da9f6fdf71'}>],\n",
            " 'no_ans_gap': 11.688877582550049,\n",
            " 'node_id': 'Reader',\n",
            " 'params': {'Reader': {'top_k': 5}, 'Retriever': {'top_k': 10}},\n",
            " 'query': 'Who is the father of Arya Stark?',\n",
            " 'root_node': 'Query'}\n"
          ]
        }
      ]
    },
    {
      "cell_type": "code",
      "source": [
        "from haystack.utils import print_answers\n",
        "\n",
        "# Change `minimum` to `medium` or `all` to raise the level of detail\n",
        "print_answers(prediction, details=\"minimum\")"
      ],
      "metadata": {
        "id": "8YQOco7JwNF_",
        "outputId": "924e9f4f-66e8-4e1d-93d6-3153d5a342b0",
        "colab": {
          "base_uri": "https://localhost:8080/"
        }
      },
      "execution_count": 19,
      "outputs": [
        {
          "output_type": "stream",
          "name": "stdout",
          "text": [
            "\n",
            "Query: Who is the father of Arya Stark?\n",
            "Answers:\n",
            "[   {   'answer': 'Eddard',\n",
            "        'context': 's Nymeria after a legendary warrior queen. She travels '\n",
            "                   \"with her father, Eddard, to King's Landing when he is made \"\n",
            "                   'Hand of the King. Before she leaves,'},\n",
            "    {   'answer': 'Ned',\n",
            "        'context': '\\n'\n",
            "                   '====Season 1====\\n'\n",
            "                   'Arya accompanies her father Ned and her sister Sansa to '\n",
            "                   \"King's Landing. Before their departure, Arya's \"\n",
            "                   'half-brother Jon Snow gifts A'},\n",
            "    {   'answer': 'Lord Eddard Stark',\n",
            "        'context': 'ark daughters.\\n'\n",
            "                   'During the Tourney of the Hand to honour her father Lord '\n",
            "                   'Eddard Stark, Sansa Stark is enchanted by the knights '\n",
            "                   'performing in the event.'},\n",
            "    {   'answer': 'Joffrey',\n",
            "        'context': 'laying with one of his wooden toys.\\n'\n",
            "                   \"After Eddard discovers the truth of Joffrey's paternity, \"\n",
            "                   'he tells Sansa that they will be heading back to Winterfe'},\n",
            "    {   'answer': 'Robb',\n",
            "        'context': 'allow the army to cross the river and to commit his troops '\n",
            "                   'in return for Robb and Arya Stark marrying two of his '\n",
            "                   'children.\\n'\n",
            "                   'Tyrion Lannister suspects h'}]\n"
          ]
        }
      ]
    }
  ]
}