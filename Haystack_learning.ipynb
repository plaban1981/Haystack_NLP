{
  "nbformat": 4,
  "nbformat_minor": 0,
  "metadata": {
    "colab": {
      "name": "Haystack_learning.ipynb",
      "provenance": [],
      "machine_shape": "hm",
      "authorship_tag": "ABX9TyNQF5/VUf8xhH1S12qBbM3N",
      "include_colab_link": true
    },
    "kernelspec": {
      "name": "python3",
      "display_name": "Python 3"
    },
    "language_info": {
      "name": "python"
    },
    "accelerator": "GPU",
    "widgets": {
      "application/vnd.jupyter.widget-state+json": {
        "ef1f0828381146b2820f6fab5da021d1": {
          "model_module": "@jupyter-widgets/controls",
          "model_name": "HBoxModel",
          "model_module_version": "1.5.0",
          "state": {
            "_view_name": "HBoxView",
            "_dom_classes": [],
            "_model_name": "HBoxModel",
            "_view_module": "@jupyter-widgets/controls",
            "_model_module_version": "1.5.0",
            "_view_count": null,
            "_view_module_version": "1.5.0",
            "box_style": "",
            "layout": "IPY_MODEL_529dc0d408be40c78afeea5eb4df92b2",
            "_model_module": "@jupyter-widgets/controls",
            "children": [
              "IPY_MODEL_1c6618b81273485d8a05605170f5a850",
              "IPY_MODEL_2313bbde10c9431a88ee13c3768d5425",
              "IPY_MODEL_d77a01b20d3d498583f067ab1ab1517e"
            ]
          }
        },
        "529dc0d408be40c78afeea5eb4df92b2": {
          "model_module": "@jupyter-widgets/base",
          "model_name": "LayoutModel",
          "model_module_version": "1.2.0",
          "state": {
            "_view_name": "LayoutView",
            "grid_template_rows": null,
            "right": null,
            "justify_content": null,
            "_view_module": "@jupyter-widgets/base",
            "overflow": null,
            "_model_module_version": "1.2.0",
            "_view_count": null,
            "flex_flow": null,
            "width": null,
            "min_width": null,
            "border": null,
            "align_items": null,
            "bottom": null,
            "_model_module": "@jupyter-widgets/base",
            "top": null,
            "grid_column": null,
            "overflow_y": null,
            "overflow_x": null,
            "grid_auto_flow": null,
            "grid_area": null,
            "grid_template_columns": null,
            "flex": null,
            "_model_name": "LayoutModel",
            "justify_items": null,
            "grid_row": null,
            "max_height": null,
            "align_content": null,
            "visibility": null,
            "align_self": null,
            "height": null,
            "min_height": null,
            "padding": null,
            "grid_auto_rows": null,
            "grid_gap": null,
            "max_width": null,
            "order": null,
            "_view_module_version": "1.2.0",
            "grid_template_areas": null,
            "object_position": null,
            "object_fit": null,
            "grid_auto_columns": null,
            "margin": null,
            "display": null,
            "left": null
          }
        },
        "1c6618b81273485d8a05605170f5a850": {
          "model_module": "@jupyter-widgets/controls",
          "model_name": "HTMLModel",
          "model_module_version": "1.5.0",
          "state": {
            "_view_name": "HTMLView",
            "style": "IPY_MODEL_48c5aed366a04779be27f15f092bebdd",
            "_dom_classes": [],
            "description": "",
            "_model_name": "HTMLModel",
            "placeholder": "​",
            "_view_module": "@jupyter-widgets/controls",
            "_model_module_version": "1.5.0",
            "value": "Downloading: 100%",
            "_view_count": null,
            "_view_module_version": "1.5.0",
            "description_tooltip": null,
            "_model_module": "@jupyter-widgets/controls",
            "layout": "IPY_MODEL_274706a9f7074d72ace21abbd8177ebe"
          }
        },
        "2313bbde10c9431a88ee13c3768d5425": {
          "model_module": "@jupyter-widgets/controls",
          "model_name": "FloatProgressModel",
          "model_module_version": "1.5.0",
          "state": {
            "_view_name": "ProgressView",
            "style": "IPY_MODEL_886198a9c9a44c96b463e493f1c0fed8",
            "_dom_classes": [],
            "description": "",
            "_model_name": "FloatProgressModel",
            "bar_style": "success",
            "max": 508,
            "_view_module": "@jupyter-widgets/controls",
            "_model_module_version": "1.5.0",
            "value": 508,
            "_view_count": null,
            "_view_module_version": "1.5.0",
            "orientation": "horizontal",
            "min": 0,
            "description_tooltip": null,
            "_model_module": "@jupyter-widgets/controls",
            "layout": "IPY_MODEL_297a8de2de3546bf8f11864b3e048aaa"
          }
        },
        "d77a01b20d3d498583f067ab1ab1517e": {
          "model_module": "@jupyter-widgets/controls",
          "model_name": "HTMLModel",
          "model_module_version": "1.5.0",
          "state": {
            "_view_name": "HTMLView",
            "style": "IPY_MODEL_1c1a301cdb534639b5a044384c7c27fa",
            "_dom_classes": [],
            "description": "",
            "_model_name": "HTMLModel",
            "placeholder": "​",
            "_view_module": "@jupyter-widgets/controls",
            "_model_module_version": "1.5.0",
            "value": " 508/508 [00:00&lt;00:00, 16.6kB/s]",
            "_view_count": null,
            "_view_module_version": "1.5.0",
            "description_tooltip": null,
            "_model_module": "@jupyter-widgets/controls",
            "layout": "IPY_MODEL_b16f1c74d88c4283aeed3706d1841d52"
          }
        },
        "48c5aed366a04779be27f15f092bebdd": {
          "model_module": "@jupyter-widgets/controls",
          "model_name": "DescriptionStyleModel",
          "model_module_version": "1.5.0",
          "state": {
            "_view_name": "StyleView",
            "_model_name": "DescriptionStyleModel",
            "description_width": "",
            "_view_module": "@jupyter-widgets/base",
            "_model_module_version": "1.5.0",
            "_view_count": null,
            "_view_module_version": "1.2.0",
            "_model_module": "@jupyter-widgets/controls"
          }
        },
        "274706a9f7074d72ace21abbd8177ebe": {
          "model_module": "@jupyter-widgets/base",
          "model_name": "LayoutModel",
          "model_module_version": "1.2.0",
          "state": {
            "_view_name": "LayoutView",
            "grid_template_rows": null,
            "right": null,
            "justify_content": null,
            "_view_module": "@jupyter-widgets/base",
            "overflow": null,
            "_model_module_version": "1.2.0",
            "_view_count": null,
            "flex_flow": null,
            "width": null,
            "min_width": null,
            "border": null,
            "align_items": null,
            "bottom": null,
            "_model_module": "@jupyter-widgets/base",
            "top": null,
            "grid_column": null,
            "overflow_y": null,
            "overflow_x": null,
            "grid_auto_flow": null,
            "grid_area": null,
            "grid_template_columns": null,
            "flex": null,
            "_model_name": "LayoutModel",
            "justify_items": null,
            "grid_row": null,
            "max_height": null,
            "align_content": null,
            "visibility": null,
            "align_self": null,
            "height": null,
            "min_height": null,
            "padding": null,
            "grid_auto_rows": null,
            "grid_gap": null,
            "max_width": null,
            "order": null,
            "_view_module_version": "1.2.0",
            "grid_template_areas": null,
            "object_position": null,
            "object_fit": null,
            "grid_auto_columns": null,
            "margin": null,
            "display": null,
            "left": null
          }
        },
        "886198a9c9a44c96b463e493f1c0fed8": {
          "model_module": "@jupyter-widgets/controls",
          "model_name": "ProgressStyleModel",
          "model_module_version": "1.5.0",
          "state": {
            "_view_name": "StyleView",
            "_model_name": "ProgressStyleModel",
            "description_width": "",
            "_view_module": "@jupyter-widgets/base",
            "_model_module_version": "1.5.0",
            "_view_count": null,
            "_view_module_version": "1.2.0",
            "bar_color": null,
            "_model_module": "@jupyter-widgets/controls"
          }
        },
        "297a8de2de3546bf8f11864b3e048aaa": {
          "model_module": "@jupyter-widgets/base",
          "model_name": "LayoutModel",
          "model_module_version": "1.2.0",
          "state": {
            "_view_name": "LayoutView",
            "grid_template_rows": null,
            "right": null,
            "justify_content": null,
            "_view_module": "@jupyter-widgets/base",
            "overflow": null,
            "_model_module_version": "1.2.0",
            "_view_count": null,
            "flex_flow": null,
            "width": null,
            "min_width": null,
            "border": null,
            "align_items": null,
            "bottom": null,
            "_model_module": "@jupyter-widgets/base",
            "top": null,
            "grid_column": null,
            "overflow_y": null,
            "overflow_x": null,
            "grid_auto_flow": null,
            "grid_area": null,
            "grid_template_columns": null,
            "flex": null,
            "_model_name": "LayoutModel",
            "justify_items": null,
            "grid_row": null,
            "max_height": null,
            "align_content": null,
            "visibility": null,
            "align_self": null,
            "height": null,
            "min_height": null,
            "padding": null,
            "grid_auto_rows": null,
            "grid_gap": null,
            "max_width": null,
            "order": null,
            "_view_module_version": "1.2.0",
            "grid_template_areas": null,
            "object_position": null,
            "object_fit": null,
            "grid_auto_columns": null,
            "margin": null,
            "display": null,
            "left": null
          }
        },
        "1c1a301cdb534639b5a044384c7c27fa": {
          "model_module": "@jupyter-widgets/controls",
          "model_name": "DescriptionStyleModel",
          "model_module_version": "1.5.0",
          "state": {
            "_view_name": "StyleView",
            "_model_name": "DescriptionStyleModel",
            "description_width": "",
            "_view_module": "@jupyter-widgets/base",
            "_model_module_version": "1.5.0",
            "_view_count": null,
            "_view_module_version": "1.2.0",
            "_model_module": "@jupyter-widgets/controls"
          }
        },
        "b16f1c74d88c4283aeed3706d1841d52": {
          "model_module": "@jupyter-widgets/base",
          "model_name": "LayoutModel",
          "model_module_version": "1.2.0",
          "state": {
            "_view_name": "LayoutView",
            "grid_template_rows": null,
            "right": null,
            "justify_content": null,
            "_view_module": "@jupyter-widgets/base",
            "overflow": null,
            "_model_module_version": "1.2.0",
            "_view_count": null,
            "flex_flow": null,
            "width": null,
            "min_width": null,
            "border": null,
            "align_items": null,
            "bottom": null,
            "_model_module": "@jupyter-widgets/base",
            "top": null,
            "grid_column": null,
            "overflow_y": null,
            "overflow_x": null,
            "grid_auto_flow": null,
            "grid_area": null,
            "grid_template_columns": null,
            "flex": null,
            "_model_name": "LayoutModel",
            "justify_items": null,
            "grid_row": null,
            "max_height": null,
            "align_content": null,
            "visibility": null,
            "align_self": null,
            "height": null,
            "min_height": null,
            "padding": null,
            "grid_auto_rows": null,
            "grid_gap": null,
            "max_width": null,
            "order": null,
            "_view_module_version": "1.2.0",
            "grid_template_areas": null,
            "object_position": null,
            "object_fit": null,
            "grid_auto_columns": null,
            "margin": null,
            "display": null,
            "left": null
          }
        },
        "1d1e0b3f9f5c46cbbf94cd669aa94de9": {
          "model_module": "@jupyter-widgets/controls",
          "model_name": "HBoxModel",
          "model_module_version": "1.5.0",
          "state": {
            "_view_name": "HBoxView",
            "_dom_classes": [],
            "_model_name": "HBoxModel",
            "_view_module": "@jupyter-widgets/controls",
            "_model_module_version": "1.5.0",
            "_view_count": null,
            "_view_module_version": "1.5.0",
            "box_style": "",
            "layout": "IPY_MODEL_3df585a41aec4ae488b9d53538b87ab6",
            "_model_module": "@jupyter-widgets/controls",
            "children": [
              "IPY_MODEL_a2e28624266043c1ab45fb3763372ad1",
              "IPY_MODEL_9d6ac8a0a123406d9e0818befae81438",
              "IPY_MODEL_9491b3656f534974b0d812373d36fd59"
            ]
          }
        },
        "3df585a41aec4ae488b9d53538b87ab6": {
          "model_module": "@jupyter-widgets/base",
          "model_name": "LayoutModel",
          "model_module_version": "1.2.0",
          "state": {
            "_view_name": "LayoutView",
            "grid_template_rows": null,
            "right": null,
            "justify_content": null,
            "_view_module": "@jupyter-widgets/base",
            "overflow": null,
            "_model_module_version": "1.2.0",
            "_view_count": null,
            "flex_flow": null,
            "width": null,
            "min_width": null,
            "border": null,
            "align_items": null,
            "bottom": null,
            "_model_module": "@jupyter-widgets/base",
            "top": null,
            "grid_column": null,
            "overflow_y": null,
            "overflow_x": null,
            "grid_auto_flow": null,
            "grid_area": null,
            "grid_template_columns": null,
            "flex": null,
            "_model_name": "LayoutModel",
            "justify_items": null,
            "grid_row": null,
            "max_height": null,
            "align_content": null,
            "visibility": null,
            "align_self": null,
            "height": null,
            "min_height": null,
            "padding": null,
            "grid_auto_rows": null,
            "grid_gap": null,
            "max_width": null,
            "order": null,
            "_view_module_version": "1.2.0",
            "grid_template_areas": null,
            "object_position": null,
            "object_fit": null,
            "grid_auto_columns": null,
            "margin": null,
            "display": null,
            "left": null
          }
        },
        "a2e28624266043c1ab45fb3763372ad1": {
          "model_module": "@jupyter-widgets/controls",
          "model_name": "HTMLModel",
          "model_module_version": "1.5.0",
          "state": {
            "_view_name": "HTMLView",
            "style": "IPY_MODEL_f16109857c0b42cd9dacf6e6e10042fd",
            "_dom_classes": [],
            "description": "",
            "_model_name": "HTMLModel",
            "placeholder": "​",
            "_view_module": "@jupyter-widgets/controls",
            "_model_module_version": "1.5.0",
            "value": "Downloading: 100%",
            "_view_count": null,
            "_view_module_version": "1.5.0",
            "description_tooltip": null,
            "_model_module": "@jupyter-widgets/controls",
            "layout": "IPY_MODEL_a4ca388ef9f2466ca8102e095947b986"
          }
        },
        "9d6ac8a0a123406d9e0818befae81438": {
          "model_module": "@jupyter-widgets/controls",
          "model_name": "FloatProgressModel",
          "model_module_version": "1.5.0",
          "state": {
            "_view_name": "ProgressView",
            "style": "IPY_MODEL_618307c63acc469e954ef886d4c00e52",
            "_dom_classes": [],
            "description": "",
            "_model_name": "FloatProgressModel",
            "bar_style": "success",
            "max": 433294681,
            "_view_module": "@jupyter-widgets/controls",
            "_model_module_version": "1.5.0",
            "value": 433294681,
            "_view_count": null,
            "_view_module_version": "1.5.0",
            "orientation": "horizontal",
            "min": 0,
            "description_tooltip": null,
            "_model_module": "@jupyter-widgets/controls",
            "layout": "IPY_MODEL_4fcc2671df134ea795531aa550263b8f"
          }
        },
        "9491b3656f534974b0d812373d36fd59": {
          "model_module": "@jupyter-widgets/controls",
          "model_name": "HTMLModel",
          "model_module_version": "1.5.0",
          "state": {
            "_view_name": "HTMLView",
            "style": "IPY_MODEL_dbf221fbe50343679edb9a9dd9b5fbf9",
            "_dom_classes": [],
            "description": "",
            "_model_name": "HTMLModel",
            "placeholder": "​",
            "_view_module": "@jupyter-widgets/controls",
            "_model_module_version": "1.5.0",
            "value": " 433M/433M [00:11&lt;00:00, 35.6MB/s]",
            "_view_count": null,
            "_view_module_version": "1.5.0",
            "description_tooltip": null,
            "_model_module": "@jupyter-widgets/controls",
            "layout": "IPY_MODEL_2a7087c672084f6097f164e6f3aad721"
          }
        },
        "f16109857c0b42cd9dacf6e6e10042fd": {
          "model_module": "@jupyter-widgets/controls",
          "model_name": "DescriptionStyleModel",
          "model_module_version": "1.5.0",
          "state": {
            "_view_name": "StyleView",
            "_model_name": "DescriptionStyleModel",
            "description_width": "",
            "_view_module": "@jupyter-widgets/base",
            "_model_module_version": "1.5.0",
            "_view_count": null,
            "_view_module_version": "1.2.0",
            "_model_module": "@jupyter-widgets/controls"
          }
        },
        "a4ca388ef9f2466ca8102e095947b986": {
          "model_module": "@jupyter-widgets/base",
          "model_name": "LayoutModel",
          "model_module_version": "1.2.0",
          "state": {
            "_view_name": "LayoutView",
            "grid_template_rows": null,
            "right": null,
            "justify_content": null,
            "_view_module": "@jupyter-widgets/base",
            "overflow": null,
            "_model_module_version": "1.2.0",
            "_view_count": null,
            "flex_flow": null,
            "width": null,
            "min_width": null,
            "border": null,
            "align_items": null,
            "bottom": null,
            "_model_module": "@jupyter-widgets/base",
            "top": null,
            "grid_column": null,
            "overflow_y": null,
            "overflow_x": null,
            "grid_auto_flow": null,
            "grid_area": null,
            "grid_template_columns": null,
            "flex": null,
            "_model_name": "LayoutModel",
            "justify_items": null,
            "grid_row": null,
            "max_height": null,
            "align_content": null,
            "visibility": null,
            "align_self": null,
            "height": null,
            "min_height": null,
            "padding": null,
            "grid_auto_rows": null,
            "grid_gap": null,
            "max_width": null,
            "order": null,
            "_view_module_version": "1.2.0",
            "grid_template_areas": null,
            "object_position": null,
            "object_fit": null,
            "grid_auto_columns": null,
            "margin": null,
            "display": null,
            "left": null
          }
        },
        "618307c63acc469e954ef886d4c00e52": {
          "model_module": "@jupyter-widgets/controls",
          "model_name": "ProgressStyleModel",
          "model_module_version": "1.5.0",
          "state": {
            "_view_name": "StyleView",
            "_model_name": "ProgressStyleModel",
            "description_width": "",
            "_view_module": "@jupyter-widgets/base",
            "_model_module_version": "1.5.0",
            "_view_count": null,
            "_view_module_version": "1.2.0",
            "bar_color": null,
            "_model_module": "@jupyter-widgets/controls"
          }
        },
        "4fcc2671df134ea795531aa550263b8f": {
          "model_module": "@jupyter-widgets/base",
          "model_name": "LayoutModel",
          "model_module_version": "1.2.0",
          "state": {
            "_view_name": "LayoutView",
            "grid_template_rows": null,
            "right": null,
            "justify_content": null,
            "_view_module": "@jupyter-widgets/base",
            "overflow": null,
            "_model_module_version": "1.2.0",
            "_view_count": null,
            "flex_flow": null,
            "width": null,
            "min_width": null,
            "border": null,
            "align_items": null,
            "bottom": null,
            "_model_module": "@jupyter-widgets/base",
            "top": null,
            "grid_column": null,
            "overflow_y": null,
            "overflow_x": null,
            "grid_auto_flow": null,
            "grid_area": null,
            "grid_template_columns": null,
            "flex": null,
            "_model_name": "LayoutModel",
            "justify_items": null,
            "grid_row": null,
            "max_height": null,
            "align_content": null,
            "visibility": null,
            "align_self": null,
            "height": null,
            "min_height": null,
            "padding": null,
            "grid_auto_rows": null,
            "grid_gap": null,
            "max_width": null,
            "order": null,
            "_view_module_version": "1.2.0",
            "grid_template_areas": null,
            "object_position": null,
            "object_fit": null,
            "grid_auto_columns": null,
            "margin": null,
            "display": null,
            "left": null
          }
        },
        "dbf221fbe50343679edb9a9dd9b5fbf9": {
          "model_module": "@jupyter-widgets/controls",
          "model_name": "DescriptionStyleModel",
          "model_module_version": "1.5.0",
          "state": {
            "_view_name": "StyleView",
            "_model_name": "DescriptionStyleModel",
            "description_width": "",
            "_view_module": "@jupyter-widgets/base",
            "_model_module_version": "1.5.0",
            "_view_count": null,
            "_view_module_version": "1.2.0",
            "_model_module": "@jupyter-widgets/controls"
          }
        },
        "2a7087c672084f6097f164e6f3aad721": {
          "model_module": "@jupyter-widgets/base",
          "model_name": "LayoutModel",
          "model_module_version": "1.2.0",
          "state": {
            "_view_name": "LayoutView",
            "grid_template_rows": null,
            "right": null,
            "justify_content": null,
            "_view_module": "@jupyter-widgets/base",
            "overflow": null,
            "_model_module_version": "1.2.0",
            "_view_count": null,
            "flex_flow": null,
            "width": null,
            "min_width": null,
            "border": null,
            "align_items": null,
            "bottom": null,
            "_model_module": "@jupyter-widgets/base",
            "top": null,
            "grid_column": null,
            "overflow_y": null,
            "overflow_x": null,
            "grid_auto_flow": null,
            "grid_area": null,
            "grid_template_columns": null,
            "flex": null,
            "_model_name": "LayoutModel",
            "justify_items": null,
            "grid_row": null,
            "max_height": null,
            "align_content": null,
            "visibility": null,
            "align_self": null,
            "height": null,
            "min_height": null,
            "padding": null,
            "grid_auto_rows": null,
            "grid_gap": null,
            "max_width": null,
            "order": null,
            "_view_module_version": "1.2.0",
            "grid_template_areas": null,
            "object_position": null,
            "object_fit": null,
            "grid_auto_columns": null,
            "margin": null,
            "display": null,
            "left": null
          }
        },
        "aaf0b812890d4015bf263399fe6657a0": {
          "model_module": "@jupyter-widgets/controls",
          "model_name": "HBoxModel",
          "model_module_version": "1.5.0",
          "state": {
            "_view_name": "HBoxView",
            "_dom_classes": [],
            "_model_name": "HBoxModel",
            "_view_module": "@jupyter-widgets/controls",
            "_model_module_version": "1.5.0",
            "_view_count": null,
            "_view_module_version": "1.5.0",
            "box_style": "",
            "layout": "IPY_MODEL_186cef541a9041dc9cc3f37748fbbc78",
            "_model_module": "@jupyter-widgets/controls",
            "children": [
              "IPY_MODEL_bc1c3bfd24464856bba19e416f5682d7",
              "IPY_MODEL_b666831e874e40609811d1e46b3992d3",
              "IPY_MODEL_2ee9080d3d52454eb70f0926456b7671"
            ]
          }
        },
        "186cef541a9041dc9cc3f37748fbbc78": {
          "model_module": "@jupyter-widgets/base",
          "model_name": "LayoutModel",
          "model_module_version": "1.2.0",
          "state": {
            "_view_name": "LayoutView",
            "grid_template_rows": null,
            "right": null,
            "justify_content": null,
            "_view_module": "@jupyter-widgets/base",
            "overflow": null,
            "_model_module_version": "1.2.0",
            "_view_count": null,
            "flex_flow": null,
            "width": null,
            "min_width": null,
            "border": null,
            "align_items": null,
            "bottom": null,
            "_model_module": "@jupyter-widgets/base",
            "top": null,
            "grid_column": null,
            "overflow_y": null,
            "overflow_x": null,
            "grid_auto_flow": null,
            "grid_area": null,
            "grid_template_columns": null,
            "flex": null,
            "_model_name": "LayoutModel",
            "justify_items": null,
            "grid_row": null,
            "max_height": null,
            "align_content": null,
            "visibility": null,
            "align_self": null,
            "height": null,
            "min_height": null,
            "padding": null,
            "grid_auto_rows": null,
            "grid_gap": null,
            "max_width": null,
            "order": null,
            "_view_module_version": "1.2.0",
            "grid_template_areas": null,
            "object_position": null,
            "object_fit": null,
            "grid_auto_columns": null,
            "margin": null,
            "display": null,
            "left": null
          }
        },
        "bc1c3bfd24464856bba19e416f5682d7": {
          "model_module": "@jupyter-widgets/controls",
          "model_name": "HTMLModel",
          "model_module_version": "1.5.0",
          "state": {
            "_view_name": "HTMLView",
            "style": "IPY_MODEL_74820203a1574dd081b6d7f6d3c43594",
            "_dom_classes": [],
            "description": "",
            "_model_name": "HTMLModel",
            "placeholder": "​",
            "_view_module": "@jupyter-widgets/controls",
            "_model_module_version": "1.5.0",
            "value": "Downloading: 100%",
            "_view_count": null,
            "_view_module_version": "1.5.0",
            "description_tooltip": null,
            "_model_module": "@jupyter-widgets/controls",
            "layout": "IPY_MODEL_8eed164244f4435d8c475ee26201de38"
          }
        },
        "b666831e874e40609811d1e46b3992d3": {
          "model_module": "@jupyter-widgets/controls",
          "model_name": "FloatProgressModel",
          "model_module_version": "1.5.0",
          "state": {
            "_view_name": "ProgressView",
            "style": "IPY_MODEL_8da8de7f234740f9a684df144d728401",
            "_dom_classes": [],
            "description": "",
            "_model_name": "FloatProgressModel",
            "bar_style": "success",
            "max": 213450,
            "_view_module": "@jupyter-widgets/controls",
            "_model_module_version": "1.5.0",
            "value": 213450,
            "_view_count": null,
            "_view_module_version": "1.5.0",
            "orientation": "horizontal",
            "min": 0,
            "description_tooltip": null,
            "_model_module": "@jupyter-widgets/controls",
            "layout": "IPY_MODEL_a0a3ab0ef65e45899a52d046c7e0ef57"
          }
        },
        "2ee9080d3d52454eb70f0926456b7671": {
          "model_module": "@jupyter-widgets/controls",
          "model_name": "HTMLModel",
          "model_module_version": "1.5.0",
          "state": {
            "_view_name": "HTMLView",
            "style": "IPY_MODEL_c48ff7252b514f14a4583f1730938714",
            "_dom_classes": [],
            "description": "",
            "_model_name": "HTMLModel",
            "placeholder": "​",
            "_view_module": "@jupyter-widgets/controls",
            "_model_module_version": "1.5.0",
            "value": " 213k/213k [00:00&lt;00:00, 983kB/s]",
            "_view_count": null,
            "_view_module_version": "1.5.0",
            "description_tooltip": null,
            "_model_module": "@jupyter-widgets/controls",
            "layout": "IPY_MODEL_12dd9c31a1f140d0ab4716d97201940e"
          }
        },
        "74820203a1574dd081b6d7f6d3c43594": {
          "model_module": "@jupyter-widgets/controls",
          "model_name": "DescriptionStyleModel",
          "model_module_version": "1.5.0",
          "state": {
            "_view_name": "StyleView",
            "_model_name": "DescriptionStyleModel",
            "description_width": "",
            "_view_module": "@jupyter-widgets/base",
            "_model_module_version": "1.5.0",
            "_view_count": null,
            "_view_module_version": "1.2.0",
            "_model_module": "@jupyter-widgets/controls"
          }
        },
        "8eed164244f4435d8c475ee26201de38": {
          "model_module": "@jupyter-widgets/base",
          "model_name": "LayoutModel",
          "model_module_version": "1.2.0",
          "state": {
            "_view_name": "LayoutView",
            "grid_template_rows": null,
            "right": null,
            "justify_content": null,
            "_view_module": "@jupyter-widgets/base",
            "overflow": null,
            "_model_module_version": "1.2.0",
            "_view_count": null,
            "flex_flow": null,
            "width": null,
            "min_width": null,
            "border": null,
            "align_items": null,
            "bottom": null,
            "_model_module": "@jupyter-widgets/base",
            "top": null,
            "grid_column": null,
            "overflow_y": null,
            "overflow_x": null,
            "grid_auto_flow": null,
            "grid_area": null,
            "grid_template_columns": null,
            "flex": null,
            "_model_name": "LayoutModel",
            "justify_items": null,
            "grid_row": null,
            "max_height": null,
            "align_content": null,
            "visibility": null,
            "align_self": null,
            "height": null,
            "min_height": null,
            "padding": null,
            "grid_auto_rows": null,
            "grid_gap": null,
            "max_width": null,
            "order": null,
            "_view_module_version": "1.2.0",
            "grid_template_areas": null,
            "object_position": null,
            "object_fit": null,
            "grid_auto_columns": null,
            "margin": null,
            "display": null,
            "left": null
          }
        },
        "8da8de7f234740f9a684df144d728401": {
          "model_module": "@jupyter-widgets/controls",
          "model_name": "ProgressStyleModel",
          "model_module_version": "1.5.0",
          "state": {
            "_view_name": "StyleView",
            "_model_name": "ProgressStyleModel",
            "description_width": "",
            "_view_module": "@jupyter-widgets/base",
            "_model_module_version": "1.5.0",
            "_view_count": null,
            "_view_module_version": "1.2.0",
            "bar_color": null,
            "_model_module": "@jupyter-widgets/controls"
          }
        },
        "a0a3ab0ef65e45899a52d046c7e0ef57": {
          "model_module": "@jupyter-widgets/base",
          "model_name": "LayoutModel",
          "model_module_version": "1.2.0",
          "state": {
            "_view_name": "LayoutView",
            "grid_template_rows": null,
            "right": null,
            "justify_content": null,
            "_view_module": "@jupyter-widgets/base",
            "overflow": null,
            "_model_module_version": "1.2.0",
            "_view_count": null,
            "flex_flow": null,
            "width": null,
            "min_width": null,
            "border": null,
            "align_items": null,
            "bottom": null,
            "_model_module": "@jupyter-widgets/base",
            "top": null,
            "grid_column": null,
            "overflow_y": null,
            "overflow_x": null,
            "grid_auto_flow": null,
            "grid_area": null,
            "grid_template_columns": null,
            "flex": null,
            "_model_name": "LayoutModel",
            "justify_items": null,
            "grid_row": null,
            "max_height": null,
            "align_content": null,
            "visibility": null,
            "align_self": null,
            "height": null,
            "min_height": null,
            "padding": null,
            "grid_auto_rows": null,
            "grid_gap": null,
            "max_width": null,
            "order": null,
            "_view_module_version": "1.2.0",
            "grid_template_areas": null,
            "object_position": null,
            "object_fit": null,
            "grid_auto_columns": null,
            "margin": null,
            "display": null,
            "left": null
          }
        },
        "c48ff7252b514f14a4583f1730938714": {
          "model_module": "@jupyter-widgets/controls",
          "model_name": "DescriptionStyleModel",
          "model_module_version": "1.5.0",
          "state": {
            "_view_name": "StyleView",
            "_model_name": "DescriptionStyleModel",
            "description_width": "",
            "_view_module": "@jupyter-widgets/base",
            "_model_module_version": "1.5.0",
            "_view_count": null,
            "_view_module_version": "1.2.0",
            "_model_module": "@jupyter-widgets/controls"
          }
        },
        "12dd9c31a1f140d0ab4716d97201940e": {
          "model_module": "@jupyter-widgets/base",
          "model_name": "LayoutModel",
          "model_module_version": "1.2.0",
          "state": {
            "_view_name": "LayoutView",
            "grid_template_rows": null,
            "right": null,
            "justify_content": null,
            "_view_module": "@jupyter-widgets/base",
            "overflow": null,
            "_model_module_version": "1.2.0",
            "_view_count": null,
            "flex_flow": null,
            "width": null,
            "min_width": null,
            "border": null,
            "align_items": null,
            "bottom": null,
            "_model_module": "@jupyter-widgets/base",
            "top": null,
            "grid_column": null,
            "overflow_y": null,
            "overflow_x": null,
            "grid_auto_flow": null,
            "grid_area": null,
            "grid_template_columns": null,
            "flex": null,
            "_model_name": "LayoutModel",
            "justify_items": null,
            "grid_row": null,
            "max_height": null,
            "align_content": null,
            "visibility": null,
            "align_self": null,
            "height": null,
            "min_height": null,
            "padding": null,
            "grid_auto_rows": null,
            "grid_gap": null,
            "max_width": null,
            "order": null,
            "_view_module_version": "1.2.0",
            "grid_template_areas": null,
            "object_position": null,
            "object_fit": null,
            "grid_auto_columns": null,
            "margin": null,
            "display": null,
            "left": null
          }
        },
        "b84728e820e84988910e554709830394": {
          "model_module": "@jupyter-widgets/controls",
          "model_name": "HBoxModel",
          "model_module_version": "1.5.0",
          "state": {
            "_view_name": "HBoxView",
            "_dom_classes": [],
            "_model_name": "HBoxModel",
            "_view_module": "@jupyter-widgets/controls",
            "_model_module_version": "1.5.0",
            "_view_count": null,
            "_view_module_version": "1.5.0",
            "box_style": "",
            "layout": "IPY_MODEL_cf3baf4808eb495e94a84979fd909f83",
            "_model_module": "@jupyter-widgets/controls",
            "children": [
              "IPY_MODEL_4060613380ad4b2a91b2253922d0ef71",
              "IPY_MODEL_b5425b9175ac41dfba72e4a749c6a023",
              "IPY_MODEL_43a92e3164344193bc06f62367faaecf"
            ]
          }
        },
        "cf3baf4808eb495e94a84979fd909f83": {
          "model_module": "@jupyter-widgets/base",
          "model_name": "LayoutModel",
          "model_module_version": "1.2.0",
          "state": {
            "_view_name": "LayoutView",
            "grid_template_rows": null,
            "right": null,
            "justify_content": null,
            "_view_module": "@jupyter-widgets/base",
            "overflow": null,
            "_model_module_version": "1.2.0",
            "_view_count": null,
            "flex_flow": null,
            "width": null,
            "min_width": null,
            "border": null,
            "align_items": null,
            "bottom": null,
            "_model_module": "@jupyter-widgets/base",
            "top": null,
            "grid_column": null,
            "overflow_y": null,
            "overflow_x": null,
            "grid_auto_flow": null,
            "grid_area": null,
            "grid_template_columns": null,
            "flex": null,
            "_model_name": "LayoutModel",
            "justify_items": null,
            "grid_row": null,
            "max_height": null,
            "align_content": null,
            "visibility": null,
            "align_self": null,
            "height": null,
            "min_height": null,
            "padding": null,
            "grid_auto_rows": null,
            "grid_gap": null,
            "max_width": null,
            "order": null,
            "_view_module_version": "1.2.0",
            "grid_template_areas": null,
            "object_position": null,
            "object_fit": null,
            "grid_auto_columns": null,
            "margin": null,
            "display": null,
            "left": null
          }
        },
        "4060613380ad4b2a91b2253922d0ef71": {
          "model_module": "@jupyter-widgets/controls",
          "model_name": "HTMLModel",
          "model_module_version": "1.5.0",
          "state": {
            "_view_name": "HTMLView",
            "style": "IPY_MODEL_66c18862fefa409e8ed5377273c5e177",
            "_dom_classes": [],
            "description": "",
            "_model_name": "HTMLModel",
            "placeholder": "​",
            "_view_module": "@jupyter-widgets/controls",
            "_model_module_version": "1.5.0",
            "value": "Downloading: 100%",
            "_view_count": null,
            "_view_module_version": "1.5.0",
            "description_tooltip": null,
            "_model_module": "@jupyter-widgets/controls",
            "layout": "IPY_MODEL_5dc5872fcc664d9fb0c20bb70895dd7a"
          }
        },
        "b5425b9175ac41dfba72e4a749c6a023": {
          "model_module": "@jupyter-widgets/controls",
          "model_name": "FloatProgressModel",
          "model_module_version": "1.5.0",
          "state": {
            "_view_name": "ProgressView",
            "style": "IPY_MODEL_2aa3596b75c04d7388d7f57f66806bd8",
            "_dom_classes": [],
            "description": "",
            "_model_name": "FloatProgressModel",
            "bar_style": "success",
            "max": 112,
            "_view_module": "@jupyter-widgets/controls",
            "_model_module_version": "1.5.0",
            "value": 112,
            "_view_count": null,
            "_view_module_version": "1.5.0",
            "orientation": "horizontal",
            "min": 0,
            "description_tooltip": null,
            "_model_module": "@jupyter-widgets/controls",
            "layout": "IPY_MODEL_be08d877065344b199cfbab6ae20c7f9"
          }
        },
        "43a92e3164344193bc06f62367faaecf": {
          "model_module": "@jupyter-widgets/controls",
          "model_name": "HTMLModel",
          "model_module_version": "1.5.0",
          "state": {
            "_view_name": "HTMLView",
            "style": "IPY_MODEL_305180a71bce4f759ef810556660dd38",
            "_dom_classes": [],
            "description": "",
            "_model_name": "HTMLModel",
            "placeholder": "​",
            "_view_module": "@jupyter-widgets/controls",
            "_model_module_version": "1.5.0",
            "value": " 112/112 [00:00&lt;00:00, 3.69kB/s]",
            "_view_count": null,
            "_view_module_version": "1.5.0",
            "description_tooltip": null,
            "_model_module": "@jupyter-widgets/controls",
            "layout": "IPY_MODEL_cee6f843edfe406ba0b1c58dc87c17a6"
          }
        },
        "66c18862fefa409e8ed5377273c5e177": {
          "model_module": "@jupyter-widgets/controls",
          "model_name": "DescriptionStyleModel",
          "model_module_version": "1.5.0",
          "state": {
            "_view_name": "StyleView",
            "_model_name": "DescriptionStyleModel",
            "description_width": "",
            "_view_module": "@jupyter-widgets/base",
            "_model_module_version": "1.5.0",
            "_view_count": null,
            "_view_module_version": "1.2.0",
            "_model_module": "@jupyter-widgets/controls"
          }
        },
        "5dc5872fcc664d9fb0c20bb70895dd7a": {
          "model_module": "@jupyter-widgets/base",
          "model_name": "LayoutModel",
          "model_module_version": "1.2.0",
          "state": {
            "_view_name": "LayoutView",
            "grid_template_rows": null,
            "right": null,
            "justify_content": null,
            "_view_module": "@jupyter-widgets/base",
            "overflow": null,
            "_model_module_version": "1.2.0",
            "_view_count": null,
            "flex_flow": null,
            "width": null,
            "min_width": null,
            "border": null,
            "align_items": null,
            "bottom": null,
            "_model_module": "@jupyter-widgets/base",
            "top": null,
            "grid_column": null,
            "overflow_y": null,
            "overflow_x": null,
            "grid_auto_flow": null,
            "grid_area": null,
            "grid_template_columns": null,
            "flex": null,
            "_model_name": "LayoutModel",
            "justify_items": null,
            "grid_row": null,
            "max_height": null,
            "align_content": null,
            "visibility": null,
            "align_self": null,
            "height": null,
            "min_height": null,
            "padding": null,
            "grid_auto_rows": null,
            "grid_gap": null,
            "max_width": null,
            "order": null,
            "_view_module_version": "1.2.0",
            "grid_template_areas": null,
            "object_position": null,
            "object_fit": null,
            "grid_auto_columns": null,
            "margin": null,
            "display": null,
            "left": null
          }
        },
        "2aa3596b75c04d7388d7f57f66806bd8": {
          "model_module": "@jupyter-widgets/controls",
          "model_name": "ProgressStyleModel",
          "model_module_version": "1.5.0",
          "state": {
            "_view_name": "StyleView",
            "_model_name": "ProgressStyleModel",
            "description_width": "",
            "_view_module": "@jupyter-widgets/base",
            "_model_module_version": "1.5.0",
            "_view_count": null,
            "_view_module_version": "1.2.0",
            "bar_color": null,
            "_model_module": "@jupyter-widgets/controls"
          }
        },
        "be08d877065344b199cfbab6ae20c7f9": {
          "model_module": "@jupyter-widgets/base",
          "model_name": "LayoutModel",
          "model_module_version": "1.2.0",
          "state": {
            "_view_name": "LayoutView",
            "grid_template_rows": null,
            "right": null,
            "justify_content": null,
            "_view_module": "@jupyter-widgets/base",
            "overflow": null,
            "_model_module_version": "1.2.0",
            "_view_count": null,
            "flex_flow": null,
            "width": null,
            "min_width": null,
            "border": null,
            "align_items": null,
            "bottom": null,
            "_model_module": "@jupyter-widgets/base",
            "top": null,
            "grid_column": null,
            "overflow_y": null,
            "overflow_x": null,
            "grid_auto_flow": null,
            "grid_area": null,
            "grid_template_columns": null,
            "flex": null,
            "_model_name": "LayoutModel",
            "justify_items": null,
            "grid_row": null,
            "max_height": null,
            "align_content": null,
            "visibility": null,
            "align_self": null,
            "height": null,
            "min_height": null,
            "padding": null,
            "grid_auto_rows": null,
            "grid_gap": null,
            "max_width": null,
            "order": null,
            "_view_module_version": "1.2.0",
            "grid_template_areas": null,
            "object_position": null,
            "object_fit": null,
            "grid_auto_columns": null,
            "margin": null,
            "display": null,
            "left": null
          }
        },
        "305180a71bce4f759ef810556660dd38": {
          "model_module": "@jupyter-widgets/controls",
          "model_name": "DescriptionStyleModel",
          "model_module_version": "1.5.0",
          "state": {
            "_view_name": "StyleView",
            "_model_name": "DescriptionStyleModel",
            "description_width": "",
            "_view_module": "@jupyter-widgets/base",
            "_model_module_version": "1.5.0",
            "_view_count": null,
            "_view_module_version": "1.2.0",
            "_model_module": "@jupyter-widgets/controls"
          }
        },
        "cee6f843edfe406ba0b1c58dc87c17a6": {
          "model_module": "@jupyter-widgets/base",
          "model_name": "LayoutModel",
          "model_module_version": "1.2.0",
          "state": {
            "_view_name": "LayoutView",
            "grid_template_rows": null,
            "right": null,
            "justify_content": null,
            "_view_module": "@jupyter-widgets/base",
            "overflow": null,
            "_model_module_version": "1.2.0",
            "_view_count": null,
            "flex_flow": null,
            "width": null,
            "min_width": null,
            "border": null,
            "align_items": null,
            "bottom": null,
            "_model_module": "@jupyter-widgets/base",
            "top": null,
            "grid_column": null,
            "overflow_y": null,
            "overflow_x": null,
            "grid_auto_flow": null,
            "grid_area": null,
            "grid_template_columns": null,
            "flex": null,
            "_model_name": "LayoutModel",
            "justify_items": null,
            "grid_row": null,
            "max_height": null,
            "align_content": null,
            "visibility": null,
            "align_self": null,
            "height": null,
            "min_height": null,
            "padding": null,
            "grid_auto_rows": null,
            "grid_gap": null,
            "max_width": null,
            "order": null,
            "_view_module_version": "1.2.0",
            "grid_template_areas": null,
            "object_position": null,
            "object_fit": null,
            "grid_auto_columns": null,
            "margin": null,
            "display": null,
            "left": null
          }
        },
        "d7af04d309ef4958a1b06d05944cf0f0": {
          "model_module": "@jupyter-widgets/controls",
          "model_name": "HBoxModel",
          "model_module_version": "1.5.0",
          "state": {
            "_view_name": "HBoxView",
            "_dom_classes": [],
            "_model_name": "HBoxModel",
            "_view_module": "@jupyter-widgets/controls",
            "_model_module_version": "1.5.0",
            "_view_count": null,
            "_view_module_version": "1.5.0",
            "box_style": "",
            "layout": "IPY_MODEL_a6579cbfa18f423692b6095025f20655",
            "_model_module": "@jupyter-widgets/controls",
            "children": [
              "IPY_MODEL_2142faa55b19408eb10e9d1f0e4060d2",
              "IPY_MODEL_e2de806e0bb449a688467dad19e2c8bd",
              "IPY_MODEL_0026c00e4cbb41d5bd78db0e50481934"
            ]
          }
        },
        "a6579cbfa18f423692b6095025f20655": {
          "model_module": "@jupyter-widgets/base",
          "model_name": "LayoutModel",
          "model_module_version": "1.2.0",
          "state": {
            "_view_name": "LayoutView",
            "grid_template_rows": null,
            "right": null,
            "justify_content": null,
            "_view_module": "@jupyter-widgets/base",
            "overflow": null,
            "_model_module_version": "1.2.0",
            "_view_count": null,
            "flex_flow": null,
            "width": null,
            "min_width": null,
            "border": null,
            "align_items": null,
            "bottom": null,
            "_model_module": "@jupyter-widgets/base",
            "top": null,
            "grid_column": null,
            "overflow_y": null,
            "overflow_x": null,
            "grid_auto_flow": null,
            "grid_area": null,
            "grid_template_columns": null,
            "flex": null,
            "_model_name": "LayoutModel",
            "justify_items": null,
            "grid_row": null,
            "max_height": null,
            "align_content": null,
            "visibility": null,
            "align_self": null,
            "height": null,
            "min_height": null,
            "padding": null,
            "grid_auto_rows": null,
            "grid_gap": null,
            "max_width": null,
            "order": null,
            "_view_module_version": "1.2.0",
            "grid_template_areas": null,
            "object_position": null,
            "object_fit": null,
            "grid_auto_columns": null,
            "margin": null,
            "display": null,
            "left": null
          }
        },
        "2142faa55b19408eb10e9d1f0e4060d2": {
          "model_module": "@jupyter-widgets/controls",
          "model_name": "HTMLModel",
          "model_module_version": "1.5.0",
          "state": {
            "_view_name": "HTMLView",
            "style": "IPY_MODEL_6e49b9c424a548d5ac4b6a59ee14b444",
            "_dom_classes": [],
            "description": "",
            "_model_name": "HTMLModel",
            "placeholder": "​",
            "_view_module": "@jupyter-widgets/controls",
            "_model_module_version": "1.5.0",
            "value": "Downloading: 100%",
            "_view_count": null,
            "_view_module_version": "1.5.0",
            "description_tooltip": null,
            "_model_module": "@jupyter-widgets/controls",
            "layout": "IPY_MODEL_edfdc9ce1f2b48c9adb9d158cda68ecf"
          }
        },
        "e2de806e0bb449a688467dad19e2c8bd": {
          "model_module": "@jupyter-widgets/controls",
          "model_name": "FloatProgressModel",
          "model_module_version": "1.5.0",
          "state": {
            "_view_name": "ProgressView",
            "style": "IPY_MODEL_ab197b009f554a1484905baa6f9819c0",
            "_dom_classes": [],
            "description": "",
            "_model_name": "FloatProgressModel",
            "bar_style": "success",
            "max": 152,
            "_view_module": "@jupyter-widgets/controls",
            "_model_module_version": "1.5.0",
            "value": 152,
            "_view_count": null,
            "_view_module_version": "1.5.0",
            "orientation": "horizontal",
            "min": 0,
            "description_tooltip": null,
            "_model_module": "@jupyter-widgets/controls",
            "layout": "IPY_MODEL_0ae5f871aed2486dbf8f04d0b913b9e8"
          }
        },
        "0026c00e4cbb41d5bd78db0e50481934": {
          "model_module": "@jupyter-widgets/controls",
          "model_name": "HTMLModel",
          "model_module_version": "1.5.0",
          "state": {
            "_view_name": "HTMLView",
            "style": "IPY_MODEL_f888dd9694b24e4d9e2bec02302f8e69",
            "_dom_classes": [],
            "description": "",
            "_model_name": "HTMLModel",
            "placeholder": "​",
            "_view_module": "@jupyter-widgets/controls",
            "_model_module_version": "1.5.0",
            "value": " 152/152 [00:00&lt;00:00, 5.15kB/s]",
            "_view_count": null,
            "_view_module_version": "1.5.0",
            "description_tooltip": null,
            "_model_module": "@jupyter-widgets/controls",
            "layout": "IPY_MODEL_c3e470350226467e95c7aafde44f7f21"
          }
        },
        "6e49b9c424a548d5ac4b6a59ee14b444": {
          "model_module": "@jupyter-widgets/controls",
          "model_name": "DescriptionStyleModel",
          "model_module_version": "1.5.0",
          "state": {
            "_view_name": "StyleView",
            "_model_name": "DescriptionStyleModel",
            "description_width": "",
            "_view_module": "@jupyter-widgets/base",
            "_model_module_version": "1.5.0",
            "_view_count": null,
            "_view_module_version": "1.2.0",
            "_model_module": "@jupyter-widgets/controls"
          }
        },
        "edfdc9ce1f2b48c9adb9d158cda68ecf": {
          "model_module": "@jupyter-widgets/base",
          "model_name": "LayoutModel",
          "model_module_version": "1.2.0",
          "state": {
            "_view_name": "LayoutView",
            "grid_template_rows": null,
            "right": null,
            "justify_content": null,
            "_view_module": "@jupyter-widgets/base",
            "overflow": null,
            "_model_module_version": "1.2.0",
            "_view_count": null,
            "flex_flow": null,
            "width": null,
            "min_width": null,
            "border": null,
            "align_items": null,
            "bottom": null,
            "_model_module": "@jupyter-widgets/base",
            "top": null,
            "grid_column": null,
            "overflow_y": null,
            "overflow_x": null,
            "grid_auto_flow": null,
            "grid_area": null,
            "grid_template_columns": null,
            "flex": null,
            "_model_name": "LayoutModel",
            "justify_items": null,
            "grid_row": null,
            "max_height": null,
            "align_content": null,
            "visibility": null,
            "align_self": null,
            "height": null,
            "min_height": null,
            "padding": null,
            "grid_auto_rows": null,
            "grid_gap": null,
            "max_width": null,
            "order": null,
            "_view_module_version": "1.2.0",
            "grid_template_areas": null,
            "object_position": null,
            "object_fit": null,
            "grid_auto_columns": null,
            "margin": null,
            "display": null,
            "left": null
          }
        },
        "ab197b009f554a1484905baa6f9819c0": {
          "model_module": "@jupyter-widgets/controls",
          "model_name": "ProgressStyleModel",
          "model_module_version": "1.5.0",
          "state": {
            "_view_name": "StyleView",
            "_model_name": "ProgressStyleModel",
            "description_width": "",
            "_view_module": "@jupyter-widgets/base",
            "_model_module_version": "1.5.0",
            "_view_count": null,
            "_view_module_version": "1.2.0",
            "bar_color": null,
            "_model_module": "@jupyter-widgets/controls"
          }
        },
        "0ae5f871aed2486dbf8f04d0b913b9e8": {
          "model_module": "@jupyter-widgets/base",
          "model_name": "LayoutModel",
          "model_module_version": "1.2.0",
          "state": {
            "_view_name": "LayoutView",
            "grid_template_rows": null,
            "right": null,
            "justify_content": null,
            "_view_module": "@jupyter-widgets/base",
            "overflow": null,
            "_model_module_version": "1.2.0",
            "_view_count": null,
            "flex_flow": null,
            "width": null,
            "min_width": null,
            "border": null,
            "align_items": null,
            "bottom": null,
            "_model_module": "@jupyter-widgets/base",
            "top": null,
            "grid_column": null,
            "overflow_y": null,
            "overflow_x": null,
            "grid_auto_flow": null,
            "grid_area": null,
            "grid_template_columns": null,
            "flex": null,
            "_model_name": "LayoutModel",
            "justify_items": null,
            "grid_row": null,
            "max_height": null,
            "align_content": null,
            "visibility": null,
            "align_self": null,
            "height": null,
            "min_height": null,
            "padding": null,
            "grid_auto_rows": null,
            "grid_gap": null,
            "max_width": null,
            "order": null,
            "_view_module_version": "1.2.0",
            "grid_template_areas": null,
            "object_position": null,
            "object_fit": null,
            "grid_auto_columns": null,
            "margin": null,
            "display": null,
            "left": null
          }
        },
        "f888dd9694b24e4d9e2bec02302f8e69": {
          "model_module": "@jupyter-widgets/controls",
          "model_name": "DescriptionStyleModel",
          "model_module_version": "1.5.0",
          "state": {
            "_view_name": "StyleView",
            "_model_name": "DescriptionStyleModel",
            "description_width": "",
            "_view_module": "@jupyter-widgets/base",
            "_model_module_version": "1.5.0",
            "_view_count": null,
            "_view_module_version": "1.2.0",
            "_model_module": "@jupyter-widgets/controls"
          }
        },
        "c3e470350226467e95c7aafde44f7f21": {
          "model_module": "@jupyter-widgets/base",
          "model_name": "LayoutModel",
          "model_module_version": "1.2.0",
          "state": {
            "_view_name": "LayoutView",
            "grid_template_rows": null,
            "right": null,
            "justify_content": null,
            "_view_module": "@jupyter-widgets/base",
            "overflow": null,
            "_model_module_version": "1.2.0",
            "_view_count": null,
            "flex_flow": null,
            "width": null,
            "min_width": null,
            "border": null,
            "align_items": null,
            "bottom": null,
            "_model_module": "@jupyter-widgets/base",
            "top": null,
            "grid_column": null,
            "overflow_y": null,
            "overflow_x": null,
            "grid_auto_flow": null,
            "grid_area": null,
            "grid_template_columns": null,
            "flex": null,
            "_model_name": "LayoutModel",
            "justify_items": null,
            "grid_row": null,
            "max_height": null,
            "align_content": null,
            "visibility": null,
            "align_self": null,
            "height": null,
            "min_height": null,
            "padding": null,
            "grid_auto_rows": null,
            "grid_gap": null,
            "max_width": null,
            "order": null,
            "_view_module_version": "1.2.0",
            "grid_template_areas": null,
            "object_position": null,
            "object_fit": null,
            "grid_auto_columns": null,
            "margin": null,
            "display": null,
            "left": null
          }
        }
      }
    }
  },
  "cells": [
    {
      "cell_type": "markdown",
      "metadata": {
        "id": "view-in-github",
        "colab_type": "text"
      },
      "source": [
        "<a href=\"https://colab.research.google.com/github/plaban1981/Haystack_NLP/blob/main/Haystack_learning.ipynb\" target=\"_parent\"><img src=\"https://colab.research.google.com/assets/colab-badge.svg\" alt=\"Open In Colab\"/></a>"
      ]
    },
    {
      "cell_type": "markdown",
      "metadata": {
        "id": "TOj95SiEWL5-"
      },
      "source": [
        "## What is Haystack?\n"
      ]
    },
    {
      "cell_type": "markdown",
      "metadata": {
        "id": "tmB3sxPdWNou"
      },
      "source": [
        "**Haystack** is an open-source framework for building search systems that work intelligently over large document collections."
      ]
    },
    {
      "cell_type": "markdown",
      "metadata": {
        "id": "4HmfZQqoXGvW"
      },
      "source": [
        "* Recent advances in NLP have enabled the application of question answering, retrieval and summarization to real world settings and **Haystack is designed to be the bridge between research and industry**"
      ]
    },
    {
      "cell_type": "markdown",
      "metadata": {
        "id": "LwYLZxGGoFwC"
      },
      "source": [
        "* Latest NLP models: Utilize all transformer based models (BERT, RoBERTa, MiniLM, DPR ...) and smoothly switch when new ones get published\n",
        "* Flexible databases: Load data into and query from a range of databases such as Elasticsearch, Milvus, FAISS, SQL and more\n",
        "* Scalability: Production-ready deployments that scale to millions of documents\n",
        "* End-to-End: All tooling you need to implement, evaluate, improve and run a search system\n",
        "* Domain adaptation: Fine-tune models to your own domain & improve them continuously via user feedback"
      ]
    },
    {
      "cell_type": "markdown",
      "metadata": {
        "id": "tvKsQbT-pa0z"
      },
      "source": [
        "## Retriever-Reader\n",
        "\n",
        "* The most common system built with Haystack is the Retriever-Reader Pipeline \n",
        "\n",
        "* it is designed to optimize for both speed and performance on the task of Open Domain Question Answering. \n",
        "\n",
        "* In practice, this is a great back bone for creating a search system that can handle detailed full sentence queries.\n",
        "\n",
        "![image.png](data:image/png;base64,iVBORw0KGgoAAAANSUhEUgAAAukAAAB+CAYAAACZOI/ZAAAgAElEQVR4Ae2dX8s0yXmffbDfYA/to/0MDuxHcHK2p/FH8OJjB0Oik8VgNkgQI5aFbIwxls0Sg6I11uooBEmLZK3+mZWRNoFFjrHiCKToVXwgkCZcs7ke3W+pu6a7p2eme+bXUE9V3XXXn/51dffVNT3z/NohWxSIAlEgCkSBKBAFokAUiAKbUuDXNjWaDCYKRIEoEAWiQBSIAlEgCkSBQyA9kyAKRIEoEAWiQBSIAlEgCmxMgUD6xg5IhhMFokAUiAJRIApEgSgQBQLpmQNRIApEgSgQBaJAFIgCUWBjCgTSN3ZAMpwoEAWiQBSIAlEgCkSBKBBIzxyIAlEgCkSBKBAFokAUiAIbUyCQvrEDkuFEgSgQBaJAFIgCUSAKRIFAeuZAFIgCUSAKRIEoEAWiQBTYmAKB9I0dkAwnCkSBKBAFokAUiAJRIAoE0jMHokAUiAJRIApEgSgQBaLAxhQIpG/sgGQ4USAKRIEoEAWiQBSIAlEgkJ45EAWiQBSIAlEgCkSBKBAFNqZAIH1jByTDiQJRIArcSoGf//znt+p6tN8tjml0sCmIAlEgCqyoQCB9RTHTVBSIAlFgbwr84H/904Gw9gZcnwLsKT5rjyvtRYEoEAX2okAgfS9HKuOMAlEgCqyggOD8vQ8/PLzyyiuHl1566Sm88847xx6E5xrbdbWZbsvIv/rqq4e33nrr+ADw8ssvPz0I1Dr0P9anbb733nsHxupmfWPtiaNAFIgC96ZAIP3ejmj2JwpEgShwQoFnz54dXnzxxQPwDACzkg5Uv/DCCwegeI2Ntl977bVjU8A6fbYbPpT1ttoOYJ4tCkSBKPAoCgTSH+VIZz+jQBR4eAWEXOAZSG83VraFZla4AWRW2gF4IZu6+OBLuSvhtEWZUE0snGOv9Vsf6uKL3TJtPDgwBh8e7IP+tblf7f4kHwWiQBTYswKB9D0fvYw9CkSBKDBDAWEWwCWwYdNuU6ysA8cAMSAsqFNOGsAX1IV9fKmD3VV50qzUYwfS8bGuPkC+PvjTn+0wDvpjrIyR+uSpY1v1VRjHnzgKRIEocA8KBNLv4ShmH0YVaOEDxyFb2wA+hrYs+SiwVwWc+6xWA8ls2uo+AdTAMpAMBOMv1APJwDQb5UA3PtVOmXnL9K0r7/owBuz4tA8FdWWdvoBzx0W+tx91n5KOAlEgCuxNgUD63o5YxhsFokAUWKiAQA7YAr9s2LQDwAA4eaAciK4x/tgEbQFcsCZ2o54r6dShTKDXhzHgw0MBafsTxvET0hkTdvK0bfCBwX2w7cRRIApEgb0rEEjf+xHM+EcV4KYNGLDqVjdsQIGrcbWMtKt5+BEAkWxR4B4UEGSBbF4pYX67Me+xUQb4AsRuQD1QzFYhnTrkhXUg3w17hXR8aVOoxo88/dWHBuyCuWnrtPXpr+6DfSeOAlEgCtyDAoH0eziK2YfnFGhBxI/DcaIMeODGzo0fGNBuPW78wApl+AIGpIEMfY+JgT+2YVGb1z4Wz/Vv27E++ybYaNO3zWtP/FgKAN3Mc84PAvNcEBfiORcow6/CuHMLOKeMcwMb6VoHmz6+k66P/ftQ0No9N/FjbPThuUls/TxEP9a8zd5GgUdSIJC+46MNbF0j7E0iIdSbO3ABILBRdgrSgRIBAX/ggLw29QAOhgABf+yOg77tn7o1r506NU2+3bBVO+3bB/1Zn3qMlf13o14dk/bEj60AEM08IQjeKMK8sgwgZu5wXvhwS56NOYef89I6xMA3/vo4PwVsfAi2Ve32Rx3TrpjbB+OxrufBYx/N7H0UiAL3pkAgfYNHVPhq460MtR3XFm+QQAOrb4ACMTd2Nm76cyGdesAAK32CAhBMuwQARwChH2z0QWAcQoXHD7gASKgjTONLmjLS9EWaDX3pw/60MxZ8axk2V0Fpg7Qa4Esgb7vHRP5EgQEFpp7XrR95g822PtiHbPq3se0N1RmytfWTjwJRIArsUYFA+g2PWr3xTL3R4AfcAX+EL33r70fDn7zzrcPUMNQOYGo/9DlljO0+Tamz5iGwPyAY6GUDak2zH4AqMAs8a3fcrb/tUQ9IBnBpmzYoQx/s2EgDxj4QCN21H9oHqhkTbVYYx5887VCHtOOhPzbHQbkPDvTNRn33xz6wOz7S+FLG5r4dM/nzkAo4742rCNqcJ22sr3bytU5rr/7Vb8xufX3H/LQnjgJRIArcmwKB9CseUW823nyGugbCgDShWcj+o7/4mwPhD/74y8fwb9/4b4dP/tnXnsKff+E7h7Hw7le+f2jDmK/22jZ92a/jcFyMU5jv7deUfR/SY6lNYAWqgVLhl/bOhXTaFsRpD+CmD2zCNHaOJQEwFp6xC9ACN/rVdkgL/8TuC+0Q6IM2XEk/Vi7/SIa8fZgG1BknevSOk20lvk8F6nlo+j73NHsVBaJAFNi/AoH0Cx7D3k0QQAPOgFyBVwgXwAVmAftr3/vRwfDff/CzA+F//ujwFNq8ZdqNtQ/F+Ohnmth+HQsx4xPmBXn2gf3xIQPIHNrUhnitzbaAV6AcUDWQB3DZ5kC6Y7NNjhn1fWWEciFdgLYOx5gxYR+DdNoS0h0r9bEB1sQtpNMe42EM1He/az8V0hkHDxDY1MUxJo4CUSAKRIEoEAW2qUAgfeXjAjAJTbVpQElwFcYFXGAX6BWEheQWois03yrdjom8Y2H8QrwAL7wL7kDnkD5DtqrflLRtAM0ViqmLDaBlIwZyAVf9qNvWJ+/DFHX0JQZ43SgTnIFgoRs/V68BbjYeWnxgcLVc/wrW2KiDD3b7pg3yjJ19cJ+wj0E6dX1Yoh7tuq/HQeXPQyjAHGA+1lAfNhXBc6GdI0P2IR/aqb76VJt9tb7a2zrV7sPvWF19E0eBKBAF9q5AIH2lI+hNxebIu0peobwCeQvjwu6eY6FdmGdfhHcfSnh1pkK7mhF7I6+2qWnrAqHAKBs3dDZXwgXbMUinDWAXkAaACbQHGAu6AjTwSzmx/eCHPzZifCmzLew9SKc+m33QJ8F+bIc2XUk/Vmgg3X3AByijT8dGGRv7mu3+FfA4ew4wD5gTxMwL0lvZHOvYeNgHzqFsUSAKRIFHUCCQfsZR5obS3lSAKwAUEAVKx6B8zyC+dOwCvNCONqy08xDDA40Q7CFptdXei6nDMRiqKzDTD+WAbtsnbWPD11B9bJe6PAgAwdocFyCBHR83obodg2OxX/uiTXxt2/q064ZNf2w1Tz3GYTn1XH23fuLHUMA5JKQzT9y0+VCLnTTgXucadnyx60u7dZ4z16yDL/MXX4LzkQdEyupGeWuv9SlzHtM/Dxb2Qx+UE+p+1faTjgJRIArsVYFA+sIj542P6txAgExgUzAHRIHZuqK8FG7vtZ7Qzisy6Aawu8Jeb7hV64WH67lq57Z3bv06mClt6WNM/Zqu7SUdBVoFnCuAL4AL2LJpZ2XaT3CI+bQGGOaTIGI2QLp+GoMf1z0/LcIHcKYum6v0tucnQX6S5BgsJ6Yt+mHTz3Lq0x95xiHUUwcb/vjU68axofyJAlEgCuxYgUD6zIPnjY1q3DSASuCSVeEK5vcK1pfYr/ogI7DzSQQPPnWr2ld7mx7zG7KP2bQbt32Qp2yovGe33lh71d62PdZurVPTtb51q636Jn2/CnjMhXSuW2zaAXFAty03D1ADwIAxG3n9sQvcLaTjw4a9PhxQBxinfSBbsKZ98mz1wYFy61OH+mz4Y3c/aNN9OzrkTxSIAlFg5woE0hccQG4KFc4BV1eFLwGxj9SmwM4DD6vrLax7Q15w2FIlCjykAp4zFboRQjgGpgF1IBc4ZqMO5QJ1hXFFBIirvUI67Qj12u2PMvoSsukfG4H28NPHcWJn/LalHT9Avfo7vsRRIApEgb0rEEifeQRZ3QUcXTkPnH/8k42XeJBAW1fWeZXIFTuhY+ahi3sUeEgFPF+EdGEZMUgDucAv4AwMu3G+WcYKN/Wtgy/lFdKx1ZXwU5CuP+0QaB8bW4VuxjgE6dThQYEg8FvffT42lj9RIApEgZ0qEEg/ceDqxd53zlnlDZxfDs4r8KszsM5rRb4CU4/LiUOY4ijw0Ap4rgjpgGyFcoCYDdgFygFewJgVbqEdHwI+2IFx2iVmFV5gH4N07D4c0A592B/jsT/HQr8CN2XUZ/zuA3XpFz/KyeNjHff5oQ98dj4KRIHdKxBIn3gIeb2F1y+ExgqSSV8e2NGdh6OA+sQJG7co8P8VEFgBaWHbGNAVnnH3dRLgFx/qsAHB5Fs7UIyNQFsENmKBGbAG7O2nltX6tE8/1mcsbNSjPu2wL/jZHnHt/1ghf6JAFIgCd6JAIH3CgRTQA+OXh/GexgH1CZM1LlHghAKAruA+5ipQU159x+z6Vd+xtrVX37Zdymq5dYZiwL7WH/KJLQpEgSiwRwUC6SeOWgD9tmA+BO2uqLvKN/VmfuJQpzgK3L0Cwm+N6073zqWhsmqzzdqe6eqnjXjMXn2m+k1tq207+SgQBaLAVhUIpHeODKszvF4xBIqx3Q7eWVHnHXUeoNhyc+5M4hRFgSgQBaJAFIgCu1QgkN45bHxJMe+h3w7Gew9CrKbzKzv5mLszgVMUBaJAFIgCUSAK7FaBQHrn0LFSy08t5sui2wR1HqDyay+dCZyiKBAFokAUiAJRYLcKBNI7h46VWlZseyu6KbsdwPMAlVdeOhN4QhGvCiXsU4MJhzcuZyiQ82Kf58XYcTtjKqRqFLiZAoH0jvS8jx5Ivx2E9x6A+HQjkN6ZvCmKAlEgCkSBKBAFdq1AIL1z+IB0vqCY1122Ceq87pKV9M4EHilipYmNX8f566//acJONfA4jhzmmBcqoK5f+uIXD1/5D59MuAMNPvjLt4+zwWO7cGqkWhS4ugKB9I7kQLqr6QH17YA6x8L/QLpnSL/VDcN+3/8f//Xw9pffOLz7zbcTdqbBm1/4d/lVo861+5wizw8A/fNvvnH44HOfPXz7zU8n7FgDjiWbx/ac+ZG6UeCaCgTSO2oD6LxSQcyrFwH124N6BfS87tKZvJ0ib1RC+kc//OiQsB8NvvuP3zkE0jsT/Mwizw/ADjj/2YffTdixBjxkBdLPPClS/WYKBNI70gvngrqvvgTWrw/rau6x4LsCe/6tdP5LIh+n32ITQiqk/90//O3BAASSJjYkvw09PEaB9MudOZ4fFdJ//P5XD4SffOP9hJ1owPHiAYsHrUD65c6XtHxZBQLpHX2FdFdveQeaABxmZf06oN7COfoD6B6Tvb3uIgDwPvjvvPq7h8985jNPM9CyJ8OFEvbTQrpAnviXDydb1AJQD6Rf6OQor0S0kB5A39cDSiD9cudIWr6eAoH0jtZCegVy34UW1gVGYbL3iyQpmwb2aom2rpxXOPd47HElXUAG0v/9H/7h4Y3/+J8On/rUp55moeVPhgsk7COQvm0YH3pAyEr6BU6IpknPj0D6vqC8fYgKpDcTO9ldKhBI7xy2CukCtgAJIAKO+Ajs1Uc/bYnHAR2t1Eswr9oOPQjhv2dI51UXAP3nv/jFE6gLB8adqXlWke0H0vcF6b5ylJX0s6b/ycqeH4H0QPrJyRKHKHBhBQLpHYGHIF3YFiwrVAKWBFZ/AcjWVxDV/oixuqkF+qEVmqkfsfrp12qFfe+Qzko6kE74z//lrw6f+MQnDs+ePTvOSEGhMz0XF9l2IH1fkM7KelbSF0/7yRU9PwLpgfTJkyaOUeBCCgTSO8L2IL1CoyDZAqer7BXc8aEudWqo7e09XfdLbdinVh90USMgvdXmlA73Auk//elPnwN1vlTKJix0puiiItsNpO8L0rOSvmi6z67k+RFID6TPnjypEAVWViCQ3hF0KqRXmBRQT0FpBXdgE0AVUqlrO21sWe3z0mlBux2Left3H4jZJ8C7rpBXIHef3R/7sK1TMf57h3RfdwHSBfX3vv7l4xdKeWedTWDoTNPZRbYZSN8XpGclffZUX1TB8yOQHkhfNIFSKQqsqEAgvSPmEkhv4VKQrRBaIRZYd0VZiNUmyAO6AKmhwjDpts82X8dguvVp820fjpkxCN8VwB1zuw+OvY5z6hjaMbX5e4N0Qf07f/edI6j7E41CQ2eqziqyvUD6/iBdUM+vu8ya8rOcPT8C6YH0WRMnzlHgAgoE0juirgHpLViaF1SNtS+FYSH5EnEL3kMPD0K9++F+GWtfK6bde4T0Cuq//29+7yK/pS6EBNL3B+l5J71zwV6pyPMjkB5IX2lKpZkosFiBQHpHuktCeg9WBduhuK0nHBsDrhX0yU8J1rEd49rf0Hi0Vb9rpe8V0gX1//1//ukAqK/9W+pCSCB9X5Ced9I7F+sVizw/AumB9BWnVZqKAosUCKR3ZLsVpJ8DuUAz9YXnufE5fV+zLvt1T5D+f//5n4/vpQPoBm38Csyav6UuhATS9wXpvuoCrD/66y7O4c7le3GRbQfSA+mLJ1EqRoGVFAikd4TcI6RfE5Rv3de9QbpQLqQTYyP4T48ECOPO9B0tsm4gfX+QLqg/EqQ7X/mOxpoPq2MniP0F0gPpY3Mk9ihwLQUC6R2lA+nj/4Do1oB+jyvpAnmFdNP+06M1fktdCAmk7w/SH/GddOcrr33x+hegfsn/J2B/gfRAegcPUhQFrqJAIL0jcyB9u5DOQ8LUlXRuunNDZ1qsUlT/42hdMRfUiQV04/pPj875LXUhJJC+L0h/1HfSna9AOv/0y3/8damfKbW/QHogfZWL/cxGxu5VM5u5urvnzdU7vvMOA+mdAxxI3y6kn1pJ94LBjf13Xv3d43/zbGNWpdcMrPDRXo1JDwX86u+kVzg3LZzXGFA/97fU1SaQvi9I91WXR3sn3fkqpNdzwJ8p7VzGZxfZXyA9kD578qRCFFhZgUB6R9BA+nYh/dRKujdaAJmVt49++NGB3x+vQRvwg72Nq++5acCaNogN9O+K+VCsrUI66SFIcX870/mpSN9A+v4gXVB/xHfSK6RzDnA+XfLXjwLpgfSni+aVElyb33vvvcM777zzK8FXvJYOxet+Wx/7WJm+Y+Xa+VSLcWdbX4FAekfTQPp2IX3qSjqQDhRzUwd6iQ1tXvvSuLZn2nioTcoEcNJtoEybfsa0J6TMXU30whpI3xek+z56VtJ/cTxvOAf4mdJL/fpRID2Q3sGDixQB4i+++OIxvPTSS4cafMWx7Zjr+WuvvXaE+raMvNf7obJq04+23nrrrWORtuo3lH711VcPr7zyylBRbGcqEEjvCBhI3y6kz1lJF9IF3C3FgvpQrI3x1rTjF1LmriZ64Q2k7wvSWUXPSvpfHR+yPQc4Lwi8OsYrZK42Osc7l/fRIusG0gPpo5PkQgVCOivp7ca8ZMXa+Uk5eeq8/PLLB0CZDZjXV7AnZqXb73HYNn7Y6yo4bbXAPVS39g/Yt3XsI/F5CgTSO/oF0rcL6UtW0sdg1xv+tWPBW9Bo4zpefdsxCupzVhO9yAfS9wfprqYvfd2FY3/N0Lm8Ti5yvtbXXep5wLnBebDWF0rtL5AeSJ88SVdyFNIrNNs087ICNGBMnlXvF1544bj6DtwD69hZkfe1GdKsyhNTjw1gd6UeO/Xwr235AGBdHwQYC1BOPfsKpHuk1o0D6R09A+nbhfSlK+nC7lhcwbiXrpAwNT3W51x72x/1CVN/S10I2QKkC51DsSvHYzF1lpSN1dm63f0lXgrpncvd5ovGIN3zAVDnUzO+ID73FbC6854fgfRAep0X10gL6UAx8EsgLRwD70A0oE3sijt+wrfw7Ko5eV9fIQas2bBTj812WXHHbn+kCWyOjT5tB5t2/Y7O+bOaAoH0jpSB9O1C+jkr6T0ormU1DQjUPGmDZebHYv3G4lqv9aGs2ki3AUiZ8rG/ELIFSAeMea+4DdiF0iXwTHtL6m29DposhXRupty4AViC6RqTXjNw058TvOm3MZdpvwTOPG/nvnnK+EL23FfA6m3A82PrkP7j9796GAo/+cZyuKY969u2+b3FjP9nH3738O03P33gWLJ5bOvx3lJa4AW4hWGAuK6sC+hCOeNvIV3IpozzD18g2pVz+xHe8cPGhp9tA/TkaY/giru2Y4XD4al984nXUyCQ3tEykL5dSF9jJb0F316+LQMKerZaXtPUaesN5YdsbTvk2wCk+LE/F2e29sZk/paQDmgCUzxU/Ovf/u3nAoDFiijlgrpwWvP41Lxp7LRZ2xiqr78PBOarr7bqU223gHr6n7OS7vEGvlllRt9LhNdff/3YLnFN05e2pTHvmzN2jmmFdM+Teh5QXr9Q6v4bdy75z50vW4d0AHQoVNA+B6xp+5z6t657a0gXeoeuwWNzUHiuUK6v8xdYZhW9gvgYpNMeZQSAnACoc28AuF2Jpw+uD2xDkG5dYvxqf9TxIeDYQP6sqkAgvSNnIH27kH7OSnoLu97o58RDvtU2lu71TR1D69fLU1YDkALMADVeeL3AM91N3xrSASnGyA2ngjr5f/Gbv/n0JUlA2JV2wZ0YHx5IKCNPIF0hnbraKRO2rWNeHwDYdPW3HcvI3yIwvnMgne8uMFfYN4LpGtf0mM8Uu33MidWXuA322Z5b5hm3ARvngZ8sjT2wDl3+PT+2DOkffO6zx3Pmt/7lvzoYOIewA9eCOrFBaDZvrJ1YG23wcMV8sT3LiK0zZLPs1jFjY+zXXkl3/gDagLRzr157h+YdNiEdGKYe128D5dh9zYWYPBvQLLTXVW7q4ud9AB9fdxHeqQ+s40f/tT4+5N3Is19Aue2wv4B/9dM/8fkKBNI7GgbStwvpU1fSWYHjpwpdffOGPiWe4gMUXMKvtjmWrn0LJ8YV1H0/15uH8VYgHdhmH4Ew4ne/+fbxhkGMDegGGAB6bcAXNxVXzMkD7PjhQ5p6gJ4PLJRpAz7wEwTxpw37o6/qT73aB6B8bUi3z3MhvZ4L6N0G51Vrb/P6Gbflp/LO1RpTp9de9R3ya8vZV47t2APr0OXf82OLkC54fv7NN57mP/tG4DzinADUBWQg1VDhWhuxvraNDR2Bf84v8rXMPPVIG2xnK7FjngPpHPu1AnMLqOWYALVTYB1IBngB4DYA0pT5KoqgTJ0K74C4wM6+AM+0JUiTdjzY7K+2y5jpjzHrY33apE/2jbaIKbPPoXMqtuUKBNI72gXStwvpU1fSl0B6BQVBwLhXps+puNdGr+xUu5TXAKAM/ZY6F1m2rUD6r//GbxxhWQgFoLEBxgTSAAjQwM0D6MKHNHZ8BBRiAR47II4fdSmzXdLYgHJAHTugQ50hf9uxzLHeAtTXgvQ6Vy6VbufznH5qXdPUN01sqPa2j7HzYOzS7/mxdUhnzgqigjI2Hi4FadKANlCPDYCmDnbmPzF5gRs//SnnnBhri3qch9TBz4cD27s1rDMOxj4H0sfmxFI7q85cMwjCMYA7tgnAwHEbqFdBnzbI2x6r5aQNtQ/G4Wo6dUzjW8usQ7l94QOw49dutS5+2dZXIJDe0TSQvl1IX2Mlvb3Z1xv9krJap21raVnbTptv26W8BgAFCOVmzK9jsAkhW4B0xsUNDGgWosljZ98ABsCDfSAvbLOP2F39Jo0vPgA1eYAbfwIwTsAOUAjyQDbQT59j/rQrvAMltHMrSGe8a0N6O4fm5KvvWNo5S3n10d7GU3yG6ti+9fExeB5w/DgPPAeGLv+WbR3SmbOAMTBKcHVdIPecYv7iy74DrZ5nnGOcD+SxW99zzPPQOvjZFnWxUx8/yvYK6R5vgNNXPVyNZnV5KLByPRSA2TawyoxGBvKuZA/Nv2vZ3O9r9Zd+likQSO/oFkjfLqSfs5LuTfwa8Zp91LZqugUWwYQYoHQlkRusKyhM+1tBOpBJYGyCAtBsECIAc4BBkNBOTH3sFdJNC+nEtY5pdAB2uWlShzFQJsS3/eEPpGMnZlz0f+1VdAGdvpd+cRRQYz44R07No7XLh+YqfSzpZ0o997OeBzykeR4MgYq2PUC6c5VYWAaePa9cTTbP6jZpgLr6CeLMdTQTwPEV3mtb9EWefqmD/61Xztv+He/UlXTmBHAOQAvpvRig7wVeA/FVEwG9xrQ9tjkHx2LrWU6+pi03rmU1PVZvyKe1jdW1z8TrKBBI7+gYSN8upK+xkj4HGCpE1HTbxtSyNfzavsm3ASADLAGT9t30W0G6sAk4MS4B2dVyV7aBUVf12AeCIE8bAIJgTtpVbiEdfyGirU/fwIXtW3fIn/HUNm8F6T4YrAnp7XzZQ76eO6TbMLQPngdAZ3setLcAYWQPkM68BaIJnEtAIABumnOrBsAVX23Md4LATRnATeDcQC8C7VrHmH6oax3aaEH5lvm5kN7Og6E8c8MwVI6tlvMKSLuSDrgPvToy1l7sj61AIL1z/JdAOiu8BCDyHsNW9m/tlfR64+cmPyc/5DtkG2t3ju9YG2NgAmByw3blkOkuhGwF0rnRC77EQrpQDiBUUAauXfVm3wR2QRugpg71Kad9bLaLH3qZp5x3931oGPKnLdt0rPR77QCgPzqk17nOuVNDLSNNGYDOseb7KfU8GLv0e35sHdKZp4IoUE2aOQo0A9aWY8fGvAes8SFNHWL8gGlizw3KgHEhnTLq1rZIY78XSBeu58Sn5hCr5ehNOBfOHVfe/R5T/T7tgfTOcZ0L6V/73o8OhHe/8v1jvBWgnfOwMPaAoZ2bHYH91Har/UTnP3nnW8cj6I21PZxLvjjqzX0teF6jnVNttHBSwcQvAKmR8RYgHSgAugVfYoAYQHCVXOAACPAFUvHTDoBj15/6rAISA9GUUZdAHcGadlwtBNAF4OoP5Dsm23SstnPteA1IZ37sMdTzgHQN7TmgL/OC64Bw4/xvrxXmLd86pAN+gDOADTATBPAK46Q5n5i/1Q5cc05Qh7rMddJCPmnOF+uYdiUdkNffh4Rbrpy3fbNPjGvq6y4e/3Nj5w8PhHxZFFCvDz8u/iYAABElSURBVIeU6zO3L0CflXnnsvVrm7XtsbT1xuKx9vCvbY7Vj309BQLpHS2nQjqQCjAKAsZczABaYXYOLF/b130Amtq+KWM/3C9jbn69em07a+bt9xxI9yZe45oW1o1rWU1bfiqudWraetVW05Ybt2XYDZQRODb8h0Yv5vXCavqWkA7YCttAr6CLjTTQrE8FaO2UUc+6pq2v3bawE2p98/har+df28TvFsH9WPpOOqDF3OA8Pyem7tLAtYS6NSY9JXD86vw37fw35gEEX/bTL0xzqXfudy77Tz5bhnTAWegW0ol5wOQYA6fsu9dq7EIr5di5P+Hjgyp1fEDFRppy7IA7/tSjjLbs715W0ntzYm4Z86z+8olzb8r8a/uyDqDPQxGBL6faZut/bt7+zm0n9ddRIJDe0XEupHPycPMB2P/8Cx+v4GEjDVQagNWaNi/EUtba2nytPzdtW7Uf0twkGS+r5I5FXy7OXLTJU04aX/LsM+XWacczZMfW+jke/U/Fl15J54YvBPTiWjaWntrWHD+BxLiCCYDu1l50zd8S0isU1zTgK4gKwbV8Sto2TtXXr7apbUpdfa4VO07iOZBe5wE3+l7gfW3Ka0x6rQAw0xbx3MBqOJ+OMM/reeL8N6a8/elR5rzzXj3GYv22COkVyIFn8jVgIwjk+ldf0/qax5e0dS0332urjmEracd97ZX0Oq+cd86pWjY1bV1W5FlJJ/ClVDd+ZYYyAqvsxC7O8CVYbAT8sFOfc5wNX3zY/HUb0pTX3z+3Pf0p8716x3dsJH9WVyCQ3pF0CaQD5IAawEks3HLjAIJdjSAGMvETevElAL0AKisWtkdMHjsrIUAyefxZ7fDdW2y+ikId+8Nuf/gSrE+aOvgC3tgrIFOGnXGxHwTHYR+UMyb2R2hnbI4Hf8odpw8ydXyOu/Y9lqafpZBeQdqb/SnbULl1z417bdeymhZIjDkmrPQyN06tHHpRvSWkC7aCp3lj7cba27hXPlZW7TXdtm1+io++l44ZC2EppHO54/iPhXo5dJ5U21h6rL3Wbv9j7fTsPHhWSHfu19jrLNcZQWTOftTxbRXShWAg1LQxNu3GlA2l9Z1S1vqYtw3731LM2HjQuDWk9+b0nDJA298r537ra4xANnliykkD5EA0ac4D7dgAbMGccl7JYQPAAXg2f9OdPvDXTtoywf1YIX8upkAgvSPtUkgXvIm5WQCigq5ALCDjA7wCtEAnkMWJQxobYO+Nhzzt4I8PZfpjA5ixA+3ALf6UU4f+GAegJ4wD0wTbqukKx44RP+qyD/RNW5TRh+PHjh9tuQ/0jR8+hFrWjg+/2vdYGr+lkM5NvQXemq/pMd8pPtatvmPpIV9tQzE2A/ODlUOOC6uUpzahZQuQfmmovcf2l0I688Jj38Lz1vOMvQfpnFcEri1z3j8fOlfUaOuQviUg3uJYtgDpQ/Nrjs25WCFb+Ba0gWvg2Q2gpqz6AepCvTBOuavsrpzTDwEQJ8aHtrinC+z2a3+JL6tAIL2j7zmQDlwCkkI64AygYuNmAmAKx4IrsEW9CrHCMDF+lAPkBPxth5g8QCxEC8vUFeYFdnzwZzz2Txv2UeHYMdMO/Qr5xJQ5NvaLcsZA2+Qto1/7oQw9hsbHGGiz9j+Uxgffue+kC7ZbidGIsRDXtLahuI4dLVld5HhOXTn0wh9Iv8175ec8OJyzkt651K1a5PwirmFpJ7Y3BumcA75/3nvNa2r/9hdIf/5Vmi2CeG9M9wTpgDf3S2CcYJo5LXQ7v/HFxgZou/oNkAPa2vABuIkJ+LE6LpTTjoFyIZ1VejbPk2Mmfy6mQCC9I+25kA50AbKAK1Aq1AKdAjFADrwCs8IpsVCLnXaEXeoCwUI6q+fUpz38hHTa5UQWmokBOSEdaLc/4dkx4SMYC8OMn7TBVXv6cWyU2T9p2rDMtslzU/WhoR0fftZ1DGMxvnMhHY3WDoI07Q6ltQ3F2IbsjrGW6WuMjujJyqGrJFMunPoE0vcF6QA6gH/OSnrncrfZIufrEKRzDrTvn7Mj1lmyU9YNpAfSl8yftesAzq5s27ar5Fz3gWpg2o00NmBcoKYMSMduGj6gHXxI24Z522PxB0hnA+Rt0/NEv8SXUSCQ3tF1KaQDWICmoAxIETgRAE5uLJYJ40ArdmHWGD/sQi31p0C6/dG+7QLEgvQQpAv89CEoE1cgpy32Dx/2p0I6ZTwIAP3Uq3n8fRjB7v5jJ08fjI/8lED7cyAdsGW1bStB0K5gj20sr78++KHhko/2vbgG0vcF6QJ6IP3jL45y3eA6N+dTpM7l/qnI8yOQHkh/mhQ3SDgPAWsgvd18N5xy4NmNNFAtyJMmVNAHyLl/0wcQTlqA56GANgj2LaQD+oF0lb5OHEjv6LwE0gFRVsyJmfjcQARe7dgs40bjqx9AKvWAcCCMGD9j0gBsC+nYAVbr0A7ptj/s9IedMeBDe/QJ8AH09ldBmfE7Zvt2P/ET4vHxoYM+6I/2aJs2SHNTHdMDf8tq/2PpKZDO6tvrr7++ucBDUv0SHMeiArjpCuekOX7EzJmlH+178Q+k7w/SBfUlXxztXOo2XeR8rSvpnC8+pM75FGnKjtpfID2QPmW+XNoH2CawMTedn9hYLQeyLcen+lMupJN2o4552gO8PY/w8bUX6uqHnTR1s11PgUB6R+upkA5EAqfcNGoAIoVOYnyAK2BWcKUuZa4IYdemP0AHCONDGWmCbVIHX9uxDN+2P33q2GjXPGnqULcG6zF2x085dmL3mzxtMWb8aE8f0oyzttuOr5b10vZz6nWXzuF9rsiLHzEXKGPSUwIXuDmBX2BBD6G7QnoP0PkkAG1P/YLLczvXZNg3tkD6/iB9D++kN9Pt7KzzFUjn1ZZzH1JPDcj+AumB9FNz5dLlzEVDry/nbPXRZlzLpqan9D21rfgtUyCQ3tFtDqQDlIAjsFXjFjTHyqbY8bEf0+btB3tb5ph6PtZp61vHfmxLf8trPdJDfm2dtk3bmhrzMLAWpHemwa8UeeGq8a84lVWP6keabQjS0awH6EPv3g71e8rmGALp+4L0vJP+qeOD7bkPqVPPj0B6IP3UXLlGufePtq9q95qOT2s3P+ZjnbH223qtX/KXVSCQ3tF3LqRPhcv4Pb9Kv0QPgP9WkN6ZMt0iL5Y49SAdUK+B1XZ/wcWfWKwXzm6nA4XWDaTvC9J91eWR30nn0zk/bnceD0zxs0y2G0gPpJ81kVI5CqygQCC9I2Ig/XyYXgLgU+vsDdKZagLAEKRXMDcNoPNaDF8QXQtOHEMgfX+QLqg/0jvpXqJ5QF3rHLDNodjzI5AeSB+aH7FFgWsqEEjvqB1I3y6k73ElnakmALSQLpTXGEDnXf8lv+DSmdZPYwik7w/SH/Gd9HYuew619rXyth9ID6SvNafSThRYqkAgvaNcIH27kM5q+z2tpFc49910vlTLl+WEBuPOlJ1UZDuB9H1B+qO+k+6kdt6av1RsP4H0QPql5ljajQJTFQikd5QKpG8X0u91JZ3Vc/97IqvtboKD+XNi2wqk7wvSfdXl0d5JP2euL6nr+RFID6QvmT+pEwXWVCCQ3lEzkL5dSL/HlXQA3V9wEdABBqGhM1VnFdleIH1/kC6oP+I76bMm+RnOnh+B9ED6GdMoVaPAKgoE0jsyBtK3C+n3tpIOoK/5Cy6daf0E/YH0/UF63knvzex1ygLp+4bzn3zj4/H/+P2vHn724XcP337z0wceuNg8tuvMlLQSBS6vQCC9ozGQ3v7znam/PBK/ywM+/7TpFr+T3pkyJ4u8SdQvjgLo/ILLNX5ejgE6hkD6viD90d9JP3lyreTg+ZGV9H3DeiB9pRMizdxUgUB6R/4/+ou/efpPnIHuy0P3HI1ZSf/kn33t8KVv/f3xCHpj7RzOTRQ5zgrp/sSi/5ZZn0sN2PYD6fuCdF91yTvplzozPm7X8yOQHki/7ExL61HgtAKB9I5GACCrtQDhHICM7+WBnk84+KRDsO0cxk0VCQBCOj+xeIlfcOnttGMIpO8P0gX1vJPem+HnlXl+BNID6efNpNSOAucrEEjvaAgA5r30ywP33Ica30fnkw42b6qdQ7mZIscKpPN6C7GbZeYvFdtPC+m+75z4bw9b1yCQfqmz45fXk0B6IP1ysywtR4FpCgTST+gECGY1fXugvsdXXZhqAjJwLqBj035iOq5SbF9COj/5+NEPP0rYiQaspgfSVzkVBhvx/AikB9IHJ0iMUeCKCgTST4j97Nmzwx/88ZfzbvoPtgPqALpfGD1x+FI8oIAQIqS/+823Dwn70iCQPjCxVzJ5frSQzhcRE/alQX7dZaWTIs3cTIFAekd6L9a89hJQ3wak3xOgO786U/AiRfb7vQ8/PPz11/80YacaXGRypNGnT7UqpAN7CfvU4IPPfTY/wZjzercKBNJPHDqBRlDn1Rfeoc6XSa8H7WjNF0XvCdBPTLuLFzuvL95ROogCO1PAcwNI//ybbxx/Z5vf2k7YpwYcQ44lm8d2Z1Myw31gBQLpEw6+JzagzjvqfJn03a98P6B+pVdgeDBCc39uccIhi8tEBZjbCfvUYOIhjttMBbze80nTB3/5dsIdaPClL37xOAs8tjOnRNyjwM0UCKRPlL6e3MAisM7KLiu8WVW/zKo6D0LAOe+f84DEVo/DxEMXtxMKVE2T/lisLetw4nCmeAUFOP6GFZpLE1EgCkSBRQoE0mfI1l60gXXeVQfWAcq8BnMerPtaC1qiKQ9CrGa5VXDSljgKRIEocAkFvN4n/uUDy561uMQcSZtR4NIKBNIXKFxhkV9/cWWdVV9ezWB1PcA+Ddj9FEIw56GHlfP6akvVe8HhSpUoEAWiwNkK1OtQ0h/LuRcdzj74aSAK3EiBQPoZwnuBMmbVF8B0db0FdoF07j/vuSd/NeBBBjD3fXNWzQFzHnrqprbVlnQUiAJRIApEgSgQBe5dgUD6Ckd4CCQBToGdFXZe3wBI62sxAKvQek8g7r7U/atQjhY8yAjmvm/uoUDPIU0tTxwFokAUiAJRIApEgXtXIJC+4hEeg0sgVGgHTFtoB2B9RQbArXAr8G41HhqrQO5KeQvldcVczYxXPBxpKgpEgSgQBaJAFIgCu1UgkH6hQ9eDTt9jZ6WdALizslzh3VX3Cu+CuqvvFZCrTb+5cduG7Wuv7flgIYgzXmCcfXCVnH0DyHkNqH2NRdnRKVsUiAJRIApEgSgQBaLA8woE0p/X42K5HrRTBsS64l5X3QHeCvCAMAEoNgDKNQjQbQxkt7aar2208G2/QHgL4sK4K+QVvNv9bvMXEzwNR4EoEAWiQBSIAlFgxwoE0m908ITVCrRDQ6FcgGdFGhCuoa7GsyJvEO6NhWtj7cbWM7bd2hf98yDBeE6Nm32Zuo9D+x1bFIgCUSAKRIEoEAUeWYFA+iMf/ex7FIgCUSAKRIEoEAWiwCYVCKRv8rBkUFEgCkSBKBAFokAUiAKPrEAg/ZGPfvY9CkSBKBAFokAUiAJRYJMKBNI3eVgyqCgQBaJAFIgCUSAKRIFHViCQ/shHP/seBaJAFIgCUSAKRIEosEkFAumbPCwZVBSIAlEgCkSBKBAFosAjKxBIf+Sjn32PAlEgCkSBKBAFokAU2KQCgfRNHpYMKgpEgSgQBaJAFIgCUeCRFQikP/LRz75HgSgQBaJAFIgCUSAKbFKBQPomD0sGFQWiQBSIAlEgCkSBKPDICgTSH/noZ9+jQBSIAlEgCkSBKBAFNqlAIH2ThyWDigJRIApEgSgQBaJAFHhkBQLpj3z0s+9RIApEgSgQBaJAFIgCm1QgkL7Jw5JBRYEoEAWiQBSIAlEgCjyyAv8PwdSj0YJiZRQAAAAASUVORK5CYII=)\n",
        "\n",
        "## Readers \n",
        "\n",
        "* Readers, also known as Open-Domain QA systems in Machine Learning speak, are powerful models that do close analysis of documents and perform the core task of question answering. \n",
        "\n",
        "* The Readers in Haystack are trained from the latest transformer based language models and can be significantly sped up using GPU acceleration. \n",
        "\n",
        "* However, it is not currently feasible to use the Reader directly on large collection of documents.\n",
        "\n",
        "## Retriever\n",
        "\n",
        "* The Retriever assists the Reader by acting as a lightweight filter that reduces the number of documents that the Reader has to process. \n",
        "\n",
        "It does this by:\n",
        "\n",
        "  * Scanning through all documents in the database\n",
        "  * Quickly identifying the relevant and dismissing the irrelevant\n",
        "  * Passing on only a small candidate set of documents to the Reader\n",
        "\n",
        "Current methods fall into one of the two categories:\n",
        "\n",
        "* sparse\n",
        "\n",
        "      - keyword based\n",
        "      - fast indexing and querying\n",
        "      - e.g. BM25\n",
        "      \n",
        "* dense\n",
        "\n",
        "      - neural network based\n",
        "      - computationally heavy indexing but fast querying\n",
        "      - e.g. Dense Passage Retrieval\n",
        "    \n"
      ]
    },
    {
      "cell_type": "markdown",
      "metadata": {
        "id": "xRO5qURfRWm5"
      },
      "source": [
        "## Installation"
      ]
    },
    {
      "cell_type": "code",
      "metadata": {
        "colab": {
          "base_uri": "https://localhost:8080/"
        },
        "id": "sKao-ca1MsPv",
        "outputId": "8414d7c3-6a11-4474-8f37-3e6aab1bc458"
      },
      "source": [
        "pip install farm-haystack\n"
      ],
      "execution_count": 1,
      "outputs": [
        {
          "output_type": "stream",
          "name": "stdout",
          "text": [
            "Collecting farm-haystack\n",
            "  Downloading farm_haystack-0.9.0-py3-none-any.whl (180 kB)\n",
            "\u001b[?25l\r\u001b[K     |█▉                              | 10 kB 22.8 MB/s eta 0:00:01\r\u001b[K     |███▋                            | 20 kB 26.7 MB/s eta 0:00:01\r\u001b[K     |█████▌                          | 30 kB 18.6 MB/s eta 0:00:01\r\u001b[K     |███████▎                        | 40 kB 15.4 MB/s eta 0:00:01\r\u001b[K     |█████████                       | 51 kB 9.0 MB/s eta 0:00:01\r\u001b[K     |███████████                     | 61 kB 9.2 MB/s eta 0:00:01\r\u001b[K     |████████████▊                   | 71 kB 8.7 MB/s eta 0:00:01\r\u001b[K     |██████████████▌                 | 81 kB 9.7 MB/s eta 0:00:01\r\u001b[K     |████████████████▍               | 92 kB 7.7 MB/s eta 0:00:01\r\u001b[K     |██████████████████▏             | 102 kB 8.4 MB/s eta 0:00:01\r\u001b[K     |████████████████████            | 112 kB 8.4 MB/s eta 0:00:01\r\u001b[K     |█████████████████████▉          | 122 kB 8.4 MB/s eta 0:00:01\r\u001b[K     |███████████████████████▋        | 133 kB 8.4 MB/s eta 0:00:01\r\u001b[K     |█████████████████████████▍      | 143 kB 8.4 MB/s eta 0:00:01\r\u001b[K     |███████████████████████████▎    | 153 kB 8.4 MB/s eta 0:00:01\r\u001b[K     |█████████████████████████████   | 163 kB 8.4 MB/s eta 0:00:01\r\u001b[K     |██████████████████████████████▉ | 174 kB 8.4 MB/s eta 0:00:01\r\u001b[K     |████████████████████████████████| 180 kB 8.4 MB/s \n",
            "\u001b[?25hCollecting fastapi\n",
            "  Downloading fastapi-0.68.1-py3-none-any.whl (52 kB)\n",
            "\u001b[K     |████████████████████████████████| 52 kB 778 kB/s \n",
            "\u001b[?25hCollecting psycopg2-binary\n",
            "  Downloading psycopg2_binary-2.9.1-cp37-cp37m-manylinux_2_17_x86_64.manylinux2014_x86_64.whl (3.4 MB)\n",
            "\u001b[K     |████████████████████████████████| 3.4 MB 49.8 MB/s \n",
            "\u001b[?25hCollecting elastic-apm\n",
            "  Downloading elastic_apm-6.4.0-cp37-cp37m-manylinux_2_5_x86_64.manylinux1_x86_64.manylinux_2_12_x86_64.manylinux2010_x86_64.whl (332 kB)\n",
            "\u001b[K     |████████████████████████████████| 332 kB 50.3 MB/s \n",
            "\u001b[?25hCollecting httptools\n",
            "  Downloading httptools-0.3.0-cp37-cp37m-manylinux_2_5_x86_64.manylinux1_x86_64.manylinux_2_12_x86_64.manylinux2010_x86_64.whl (402 kB)\n",
            "\u001b[K     |████████████████████████████████| 402 kB 52.2 MB/s \n",
            "\u001b[?25hCollecting mmh3\n",
            "  Downloading mmh3-3.0.0-cp37-cp37m-manylinux2010_x86_64.whl (50 kB)\n",
            "\u001b[K     |████████████████████████████████| 50 kB 6.4 MB/s \n",
            "\u001b[?25hCollecting uvloop==0.14\n",
            "  Downloading uvloop-0.14.0-cp37-cp37m-manylinux2010_x86_64.whl (3.8 MB)\n",
            "\u001b[K     |████████████████████████████████| 3.8 MB 37.8 MB/s \n",
            "\u001b[?25hRequirement already satisfied: coverage in /usr/local/lib/python3.7/dist-packages (from farm-haystack) (3.7.1)\n",
            "Collecting python-multipart\n",
            "  Downloading python-multipart-0.0.5.tar.gz (32 kB)\n",
            "Collecting gunicorn\n",
            "  Downloading gunicorn-20.1.0-py3-none-any.whl (79 kB)\n",
            "\u001b[K     |████████████████████████████████| 79 kB 6.8 MB/s \n",
            "\u001b[?25hRequirement already satisfied: pandas in /usr/local/lib/python3.7/dist-packages (from farm-haystack) (1.1.5)\n",
            "Requirement already satisfied: sklearn in /usr/local/lib/python3.7/dist-packages (from farm-haystack) (0.0)\n",
            "Collecting tox\n",
            "  Downloading tox-3.24.3-py2.py3-none-any.whl (85 kB)\n",
            "\u001b[K     |████████████████████████████████| 85 kB 4.1 MB/s \n",
            "\u001b[?25hRequirement already satisfied: networkx in /usr/local/lib/python3.7/dist-packages (from farm-haystack) (2.6.2)\n",
            "Collecting faiss-cpu>=1.6.3\n",
            "  Downloading faiss_cpu-1.7.1.post2-cp37-cp37m-manylinux_2_17_x86_64.manylinux2014_x86_64.whl (8.4 MB)\n",
            "\u001b[K     |████████████████████████████████| 8.4 MB 30.7 MB/s \n",
            "\u001b[?25hCollecting uvicorn\n",
            "  Downloading uvicorn-0.15.0-py3-none-any.whl (54 kB)\n",
            "\u001b[K     |████████████████████████████████| 54 kB 2.9 MB/s \n",
            "\u001b[?25hRequirement already satisfied: nltk in /usr/local/lib/python3.7/dist-packages (from farm-haystack) (3.2.5)\n",
            "Collecting langdetect\n",
            "  Downloading langdetect-1.0.9.tar.gz (981 kB)\n",
            "\u001b[K     |████████████████████████████████| 981 kB 58.4 MB/s \n",
            "\u001b[?25hCollecting weaviate-client\n",
            "  Downloading weaviate_client-3.2.1-py3-none-any.whl (59 kB)\n",
            "\u001b[K     |████████████████████████████████| 59 kB 6.0 MB/s \n",
            "\u001b[?25hCollecting elasticsearch<=7.10,>=7.7\n",
            "  Downloading elasticsearch-7.10.0-py2.py3-none-any.whl (321 kB)\n",
            "\u001b[K     |████████████████████████████████| 321 kB 55.4 MB/s \n",
            "\u001b[?25hCollecting tika\n",
            "  Downloading tika-1.24.tar.gz (28 kB)\n",
            "Collecting SPARQLWrapper\n",
            "  Downloading SPARQLWrapper-1.8.5-py3-none-any.whl (26 kB)\n",
            "Requirement already satisfied: more-itertools in /usr/local/lib/python3.7/dist-packages (from farm-haystack) (8.8.0)\n",
            "Collecting pymilvus\n",
            "  Downloading pymilvus-1.1.2-py3-none-any.whl (56 kB)\n",
            "\u001b[K     |████████████████████████████████| 56 kB 3.9 MB/s \n",
            "\u001b[?25hRequirement already satisfied: sqlalchemy>=1.4.2 in /usr/local/lib/python3.7/dist-packages (from farm-haystack) (1.4.22)\n",
            "Collecting farm==0.8.0\n",
            "  Downloading farm-0.8.0-py3-none-any.whl (204 kB)\n",
            "\u001b[K     |████████████████████████████████| 204 kB 46.4 MB/s \n",
            "\u001b[?25hCollecting sqlalchemy-utils\n",
            "  Downloading SQLAlchemy_Utils-0.37.8-py3-none-any.whl (100 kB)\n",
            "\u001b[K     |████████████████████████████████| 100 kB 8.6 MB/s \n",
            "\u001b[?25hCollecting python-docx\n",
            "  Downloading python-docx-0.8.11.tar.gz (5.6 MB)\n",
            "\u001b[K     |████████████████████████████████| 5.6 MB 48.2 MB/s \n",
            "\u001b[?25hRequirement already satisfied: setuptools in /usr/local/lib/python3.7/dist-packages (from farm==0.8.0->farm-haystack) (57.4.0)\n",
            "Requirement already satisfied: wheel in /usr/local/lib/python3.7/dist-packages (from farm==0.8.0->farm-haystack) (0.37.0)\n",
            "Collecting seqeval\n",
            "  Downloading seqeval-1.2.2.tar.gz (43 kB)\n",
            "\u001b[K     |████████████████████████████████| 43 kB 1.9 MB/s \n",
            "\u001b[?25hCollecting flask-restplus\n",
            "  Downloading flask_restplus-0.13.0-py2.py3-none-any.whl (2.5 MB)\n",
            "\u001b[K     |████████████████████████████████| 2.5 MB 15.7 MB/s \n",
            "\u001b[?25hCollecting dotmap\n",
            "  Downloading dotmap-1.3.24-py3-none-any.whl (11 kB)\n",
            "Collecting Werkzeug==0.16.1\n",
            "  Downloading Werkzeug-0.16.1-py2.py3-none-any.whl (327 kB)\n",
            "\u001b[K     |████████████████████████████████| 327 kB 58.7 MB/s \n",
            "\u001b[?25hCollecting boto3\n",
            "  Downloading boto3-1.18.40-py3-none-any.whl (131 kB)\n",
            "\u001b[K     |████████████████████████████████| 131 kB 54.3 MB/s \n",
            "\u001b[?25hRequirement already satisfied: scipy>=1.3.2 in /usr/local/lib/python3.7/dist-packages (from farm==0.8.0->farm-haystack) (1.4.1)\n",
            "Requirement already satisfied: dill in /usr/local/lib/python3.7/dist-packages (from farm==0.8.0->farm-haystack) (0.3.4)\n",
            "Requirement already satisfied: flask in /usr/local/lib/python3.7/dist-packages (from farm==0.8.0->farm-haystack) (1.1.4)\n",
            "Collecting transformers==4.6.1\n",
            "  Downloading transformers-4.6.1-py3-none-any.whl (2.2 MB)\n",
            "\u001b[K     |████████████████████████████████| 2.2 MB 56.9 MB/s \n",
            "\u001b[?25hRequirement already satisfied: psutil in /usr/local/lib/python3.7/dist-packages (from farm==0.8.0->farm-haystack) (5.4.8)\n",
            "Collecting mlflow<=1.13.1\n",
            "  Downloading mlflow-1.13.1-py3-none-any.whl (14.1 MB)\n",
            "\u001b[K     |████████████████████████████████| 14.1 MB 13.0 MB/s \n",
            "\u001b[?25hCollecting sentencepiece\n",
            "  Downloading sentencepiece-0.1.96-cp37-cp37m-manylinux_2_17_x86_64.manylinux2014_x86_64.whl (1.2 MB)\n",
            "\u001b[K     |████████████████████████████████| 1.2 MB 54.2 MB/s \n",
            "\u001b[?25hCollecting torch<1.9,>1.5\n",
            "  Downloading torch-1.8.1-cp37-cp37m-manylinux1_x86_64.whl (804.1 MB)\n",
            "\u001b[K     |████████████████████████████████| 804.1 MB 2.7 kB/s \n",
            "\u001b[?25hCollecting flask-cors\n",
            "  Downloading Flask_Cors-3.0.10-py2.py3-none-any.whl (14 kB)\n",
            "Requirement already satisfied: requests in /usr/local/lib/python3.7/dist-packages (from farm==0.8.0->farm-haystack) (2.23.0)\n",
            "Requirement already satisfied: tqdm in /usr/local/lib/python3.7/dist-packages (from farm==0.8.0->farm-haystack) (4.62.0)\n",
            "Collecting sacremoses\n",
            "  Downloading sacremoses-0.0.45-py3-none-any.whl (895 kB)\n",
            "\u001b[K     |████████████████████████████████| 895 kB 60.4 MB/s \n",
            "\u001b[?25hCollecting tokenizers<0.11,>=0.10.1\n",
            "  Downloading tokenizers-0.10.3-cp37-cp37m-manylinux_2_5_x86_64.manylinux1_x86_64.manylinux_2_12_x86_64.manylinux2010_x86_64.whl (3.3 MB)\n",
            "\u001b[K     |████████████████████████████████| 3.3 MB 17.6 MB/s \n",
            "\u001b[?25hRequirement already satisfied: importlib-metadata in /usr/local/lib/python3.7/dist-packages (from transformers==4.6.1->farm==0.8.0->farm-haystack) (4.6.4)\n",
            "Requirement already satisfied: numpy>=1.17 in /usr/local/lib/python3.7/dist-packages (from transformers==4.6.1->farm==0.8.0->farm-haystack) (1.19.5)\n",
            "Collecting huggingface-hub==0.0.8\n",
            "  Downloading huggingface_hub-0.0.8-py3-none-any.whl (34 kB)\n",
            "Requirement already satisfied: filelock in /usr/local/lib/python3.7/dist-packages (from transformers==4.6.1->farm==0.8.0->farm-haystack) (3.0.12)\n",
            "Requirement already satisfied: regex!=2019.12.17 in /usr/local/lib/python3.7/dist-packages (from transformers==4.6.1->farm==0.8.0->farm-haystack) (2019.12.20)\n",
            "Requirement already satisfied: packaging in /usr/local/lib/python3.7/dist-packages (from transformers==4.6.1->farm==0.8.0->farm-haystack) (21.0)\n",
            "Requirement already satisfied: urllib3<2,>=1.21.1 in /usr/local/lib/python3.7/dist-packages (from elasticsearch<=7.10,>=7.7->farm-haystack) (1.24.3)\n",
            "Requirement already satisfied: certifi in /usr/local/lib/python3.7/dist-packages (from elasticsearch<=7.10,>=7.7->farm-haystack) (2021.5.30)\n",
            "Collecting docker>=4.0.0\n",
            "  Downloading docker-5.0.2-py2.py3-none-any.whl (145 kB)\n",
            "\u001b[K     |████████████████████████████████| 145 kB 55.4 MB/s \n",
            "\u001b[?25hCollecting alembic<=1.4.1\n",
            "  Downloading alembic-1.4.1.tar.gz (1.1 MB)\n",
            "\u001b[K     |████████████████████████████████| 1.1 MB 47.9 MB/s \n",
            "\u001b[?25hRequirement already satisfied: cloudpickle in /usr/local/lib/python3.7/dist-packages (from mlflow<=1.13.1->farm==0.8.0->farm-haystack) (1.3.0)\n",
            "Collecting querystring-parser\n",
            "  Downloading querystring_parser-1.2.4-py2.py3-none-any.whl (7.9 kB)\n",
            "Requirement already satisfied: sqlparse>=0.3.1 in /usr/local/lib/python3.7/dist-packages (from mlflow<=1.13.1->farm==0.8.0->farm-haystack) (0.4.1)\n",
            "Collecting databricks-cli>=0.8.7\n",
            "  Downloading databricks-cli-0.15.0.tar.gz (56 kB)\n",
            "\u001b[K     |████████████████████████████████| 56 kB 4.3 MB/s \n",
            "\u001b[?25hCollecting azure-storage-blob>=12.0.0\n",
            "  Downloading azure_storage_blob-12.8.1-py2.py3-none-any.whl (345 kB)\n",
            "\u001b[K     |████████████████████████████████| 345 kB 57.9 MB/s \n",
            "\u001b[?25hCollecting gitpython>=2.1.0\n",
            "  Downloading GitPython-3.1.18-py3-none-any.whl (170 kB)\n",
            "\u001b[K     |████████████████████████████████| 170 kB 49.6 MB/s \n",
            "\u001b[?25hRequirement already satisfied: python-dateutil in /usr/local/lib/python3.7/dist-packages (from mlflow<=1.13.1->farm==0.8.0->farm-haystack) (2.8.2)\n",
            "Requirement already satisfied: protobuf>=3.6.0 in /usr/local/lib/python3.7/dist-packages (from mlflow<=1.13.1->farm==0.8.0->farm-haystack) (3.17.3)\n",
            "Requirement already satisfied: pyyaml in /usr/local/lib/python3.7/dist-packages (from mlflow<=1.13.1->farm==0.8.0->farm-haystack) (3.13)\n",
            "Requirement already satisfied: click>=7.0 in /usr/local/lib/python3.7/dist-packages (from mlflow<=1.13.1->farm==0.8.0->farm-haystack) (7.1.2)\n",
            "Requirement already satisfied: six>=1.10.0 in /usr/local/lib/python3.7/dist-packages (from mlflow<=1.13.1->farm==0.8.0->farm-haystack) (1.15.0)\n",
            "Requirement already satisfied: entrypoints in /usr/local/lib/python3.7/dist-packages (from mlflow<=1.13.1->farm==0.8.0->farm-haystack) (0.3)\n",
            "Collecting prometheus-flask-exporter\n",
            "  Downloading prometheus_flask_exporter-0.18.2.tar.gz (22 kB)\n",
            "Collecting Mako\n",
            "  Downloading Mako-1.1.5-py2.py3-none-any.whl (75 kB)\n",
            "\u001b[K     |████████████████████████████████| 75 kB 4.6 MB/s \n",
            "\u001b[?25hCollecting python-editor>=0.3\n",
            "  Downloading python_editor-1.0.4-py3-none-any.whl (4.9 kB)\n",
            "Collecting azure-core<2.0.0,>=1.10.0\n",
            "  Downloading azure_core-1.18.0-py2.py3-none-any.whl (166 kB)\n",
            "\u001b[K     |████████████████████████████████| 166 kB 52.7 MB/s \n",
            "\u001b[?25hCollecting cryptography>=2.1.4\n",
            "  Downloading cryptography-3.4.8-cp36-abi3-manylinux_2_24_x86_64.whl (3.0 MB)\n",
            "\u001b[K     |████████████████████████████████| 3.0 MB 35.5 MB/s \n",
            "\u001b[?25hCollecting msrest>=0.6.18\n",
            "  Downloading msrest-0.6.21-py2.py3-none-any.whl (85 kB)\n",
            "\u001b[K     |████████████████████████████████| 85 kB 4.0 MB/s \n",
            "\u001b[?25hRequirement already satisfied: cffi>=1.12 in /usr/local/lib/python3.7/dist-packages (from cryptography>=2.1.4->azure-storage-blob>=12.0.0->mlflow<=1.13.1->farm==0.8.0->farm-haystack) (1.14.6)\n",
            "Requirement already satisfied: pycparser in /usr/local/lib/python3.7/dist-packages (from cffi>=1.12->cryptography>=2.1.4->azure-storage-blob>=12.0.0->mlflow<=1.13.1->farm==0.8.0->farm-haystack) (2.20)\n",
            "Requirement already satisfied: tabulate>=0.7.7 in /usr/local/lib/python3.7/dist-packages (from databricks-cli>=0.8.7->mlflow<=1.13.1->farm==0.8.0->farm-haystack) (0.8.9)\n",
            "Collecting websocket-client>=0.32.0\n",
            "  Downloading websocket_client-1.2.1-py2.py3-none-any.whl (52 kB)\n",
            "\u001b[K     |████████████████████████████████| 52 kB 1.5 MB/s \n",
            "\u001b[?25hRequirement already satisfied: typing-extensions>=3.7.4.0 in /usr/local/lib/python3.7/dist-packages (from gitpython>=2.1.0->mlflow<=1.13.1->farm==0.8.0->farm-haystack) (3.7.4.3)\n",
            "Collecting gitdb<5,>=4.0.1\n",
            "  Downloading gitdb-4.0.7-py3-none-any.whl (63 kB)\n",
            "\u001b[K     |████████████████████████████████| 63 kB 1.7 MB/s \n",
            "\u001b[?25hCollecting smmap<5,>=3.0.1\n",
            "  Downloading smmap-4.0.0-py2.py3-none-any.whl (24 kB)\n",
            "Requirement already satisfied: requests-oauthlib>=0.5.0 in /usr/local/lib/python3.7/dist-packages (from msrest>=0.6.18->azure-storage-blob>=12.0.0->mlflow<=1.13.1->farm==0.8.0->farm-haystack) (1.3.0)\n",
            "Collecting isodate>=0.6.0\n",
            "  Downloading isodate-0.6.0-py2.py3-none-any.whl (45 kB)\n",
            "\u001b[K     |████████████████████████████████| 45 kB 3.4 MB/s \n",
            "\u001b[?25hRequirement already satisfied: idna<3,>=2.5 in /usr/local/lib/python3.7/dist-packages (from requests->farm==0.8.0->farm-haystack) (2.10)\n",
            "Requirement already satisfied: chardet<4,>=3.0.2 in /usr/local/lib/python3.7/dist-packages (from requests->farm==0.8.0->farm-haystack) (3.0.4)\n",
            "Requirement already satisfied: oauthlib>=3.0.0 in /usr/local/lib/python3.7/dist-packages (from requests-oauthlib>=0.5.0->msrest>=0.6.18->azure-storage-blob>=12.0.0->mlflow<=1.13.1->farm==0.8.0->farm-haystack) (3.1.1)\n",
            "Requirement already satisfied: greenlet!=0.4.17 in /usr/local/lib/python3.7/dist-packages (from sqlalchemy>=1.4.2->farm-haystack) (1.1.1)\n",
            "Collecting jmespath<1.0.0,>=0.7.1\n",
            "  Downloading jmespath-0.10.0-py2.py3-none-any.whl (24 kB)\n",
            "Collecting botocore<1.22.0,>=1.21.40\n",
            "  Downloading botocore-1.21.40-py3-none-any.whl (7.9 MB)\n",
            "\u001b[K     |████████████████████████████████| 7.9 MB 31.1 MB/s \n",
            "\u001b[?25hCollecting s3transfer<0.6.0,>=0.5.0\n",
            "  Downloading s3transfer-0.5.0-py3-none-any.whl (79 kB)\n",
            "\u001b[K     |████████████████████████████████| 79 kB 7.6 MB/s \n",
            "\u001b[?25hCollecting urllib3<2,>=1.21.1\n",
            "  Downloading urllib3-1.25.11-py2.py3-none-any.whl (127 kB)\n",
            "\u001b[K     |████████████████████████████████| 127 kB 55.6 MB/s \n",
            "\u001b[?25hCollecting starlette==0.14.2\n",
            "  Downloading starlette-0.14.2-py3-none-any.whl (60 kB)\n",
            "\u001b[K     |████████████████████████████████| 60 kB 7.4 MB/s \n",
            "\u001b[?25hCollecting pydantic!=1.7,!=1.7.1,!=1.7.2,!=1.7.3,!=1.8,!=1.8.1,<2.0.0,>=1.6.2\n",
            "  Downloading pydantic-1.8.2-cp37-cp37m-manylinux2014_x86_64.whl (10.1 MB)\n",
            "\u001b[K     |████████████████████████████████| 10.1 MB 55.8 MB/s \n",
            "\u001b[?25hRequirement already satisfied: itsdangerous<2.0,>=0.24 in /usr/local/lib/python3.7/dist-packages (from flask->farm==0.8.0->farm-haystack) (1.1.0)\n",
            "Requirement already satisfied: Jinja2<3.0,>=2.10.1 in /usr/local/lib/python3.7/dist-packages (from flask->farm==0.8.0->farm-haystack) (2.11.3)\n",
            "Requirement already satisfied: MarkupSafe>=0.23 in /usr/local/lib/python3.7/dist-packages (from Jinja2<3.0,>=2.10.1->flask->farm==0.8.0->farm-haystack) (2.0.1)\n",
            "Requirement already satisfied: pytz in /usr/local/lib/python3.7/dist-packages (from flask-restplus->farm==0.8.0->farm-haystack) (2018.9)\n",
            "Requirement already satisfied: jsonschema in /usr/local/lib/python3.7/dist-packages (from flask-restplus->farm==0.8.0->farm-haystack) (2.6.0)\n",
            "Collecting aniso8601>=0.82\n",
            "  Downloading aniso8601-9.0.1-py2.py3-none-any.whl (52 kB)\n",
            "\u001b[K     |████████████████████████████████| 52 kB 1.3 MB/s \n",
            "\u001b[?25hRequirement already satisfied: zipp>=0.5 in /usr/local/lib/python3.7/dist-packages (from importlib-metadata->transformers==4.6.1->farm==0.8.0->farm-haystack) (3.5.0)\n",
            "Requirement already satisfied: pyparsing>=2.0.2 in /usr/local/lib/python3.7/dist-packages (from packaging->transformers==4.6.1->farm==0.8.0->farm-haystack) (2.4.7)\n",
            "Requirement already satisfied: prometheus_client in /usr/local/lib/python3.7/dist-packages (from prometheus-flask-exporter->mlflow<=1.13.1->farm==0.8.0->farm-haystack) (0.11.0)\n",
            "Collecting grpcio<1.38.0,>=1.22.0\n",
            "  Downloading grpcio-1.37.1-cp37-cp37m-manylinux2014_x86_64.whl (4.2 MB)\n",
            "\u001b[K     |████████████████████████████████| 4.2 MB 35.9 MB/s \n",
            "\u001b[?25hCollecting grpcio-tools<1.38.0,>=1.22.0\n",
            "  Downloading grpcio_tools-1.37.1-cp37-cp37m-manylinux2014_x86_64.whl (2.5 MB)\n",
            "\u001b[K     |████████████████████████████████| 2.5 MB 37.3 MB/s \n",
            "\u001b[?25hCollecting ujson>=2.0.0\n",
            "  Downloading ujson-4.1.0-cp37-cp37m-manylinux_2_5_x86_64.manylinux1_x86_64.whl (178 kB)\n",
            "\u001b[K     |████████████████████████████████| 178 kB 54.4 MB/s \n",
            "\u001b[?25hRequirement already satisfied: lxml>=2.3.2 in /usr/local/lib/python3.7/dist-packages (from python-docx->farm-haystack) (4.2.6)\n",
            "Requirement already satisfied: joblib in /usr/local/lib/python3.7/dist-packages (from sacremoses->transformers==4.6.1->farm==0.8.0->farm-haystack) (1.0.1)\n",
            "Requirement already satisfied: scikit-learn>=0.21.3 in /usr/local/lib/python3.7/dist-packages (from seqeval->farm==0.8.0->farm-haystack) (0.22.2.post1)\n",
            "Collecting rdflib>=4.0\n",
            "  Downloading rdflib-6.0.0-py3-none-any.whl (376 kB)\n",
            "\u001b[K     |████████████████████████████████| 376 kB 46.9 MB/s \n",
            "\u001b[?25hCollecting virtualenv!=20.0.0,!=20.0.1,!=20.0.2,!=20.0.3,!=20.0.4,!=20.0.5,!=20.0.6,!=20.0.7,>=16.0.0\n",
            "  Downloading virtualenv-20.7.2-py2.py3-none-any.whl (5.3 MB)\n",
            "\u001b[K     |████████████████████████████████| 5.3 MB 38.0 MB/s \n",
            "\u001b[?25hCollecting pluggy>=0.12.0\n",
            "  Downloading pluggy-1.0.0-py2.py3-none-any.whl (13 kB)\n",
            "Requirement already satisfied: py>=1.4.17 in /usr/local/lib/python3.7/dist-packages (from tox->farm-haystack) (1.10.0)\n",
            "Requirement already satisfied: toml>=0.9.4 in /usr/local/lib/python3.7/dist-packages (from tox->farm-haystack) (0.10.2)\n",
            "Collecting backports.entry-points-selectable>=1.0.4\n",
            "  Downloading backports.entry_points_selectable-1.1.0-py2.py3-none-any.whl (6.2 kB)\n",
            "Collecting distlib<1,>=0.3.1\n",
            "  Downloading distlib-0.3.2-py2.py3-none-any.whl (338 kB)\n",
            "\u001b[K     |████████████████████████████████| 338 kB 66.8 MB/s \n",
            "\u001b[?25hCollecting platformdirs<3,>=2\n",
            "  Downloading platformdirs-2.3.0-py3-none-any.whl (13 kB)\n",
            "Collecting asgiref>=3.4.0\n",
            "  Downloading asgiref-3.4.1-py3-none-any.whl (25 kB)\n",
            "Collecting h11>=0.8\n",
            "  Downloading h11-0.12.0-py3-none-any.whl (54 kB)\n",
            "\u001b[K     |████████████████████████████████| 54 kB 3.1 MB/s \n",
            "\u001b[?25hCollecting validators<0.19.0,>=0.18.2\n",
            "  Downloading validators-0.18.2-py3-none-any.whl (19 kB)\n",
            "Requirement already satisfied: decorator>=3.4.0 in /usr/local/lib/python3.7/dist-packages (from validators<0.19.0,>=0.18.2->weaviate-client->farm-haystack) (4.4.2)\n",
            "Building wheels for collected packages: alembic, databricks-cli, langdetect, prometheus-flask-exporter, python-docx, python-multipart, seqeval, tika\n",
            "  Building wheel for alembic (setup.py) ... \u001b[?25l\u001b[?25hdone\n",
            "  Created wheel for alembic: filename=alembic-1.4.1-py2.py3-none-any.whl size=158172 sha256=b3ff0373332e37bbcb23b1a2bd1b1670b7dabb38863002237f09eefbd5c5fdf8\n",
            "  Stored in directory: /root/.cache/pip/wheels/be/5d/0a/9e13f53f4f5dfb67cd8d245bb7cdffe12f135846f491a283e3\n",
            "  Building wheel for databricks-cli (setup.py) ... \u001b[?25l\u001b[?25hdone\n",
            "  Created wheel for databricks-cli: filename=databricks_cli-0.15.0-py3-none-any.whl size=105260 sha256=010ae203a2ba7230f28283232c2a0d19162060b01418ae068cb5bc7668a4d5a1\n",
            "  Stored in directory: /root/.cache/pip/wheels/e7/ba/75/284f9a90ff7a010bb23b9798f2e9a19dd9fe619379c917bff4\n",
            "  Building wheel for langdetect (setup.py) ... \u001b[?25l\u001b[?25hdone\n",
            "  Created wheel for langdetect: filename=langdetect-1.0.9-py3-none-any.whl size=993242 sha256=0bc22443d783f4ea0d3dff236a4675372457ccdb4a8e69ba51b3b6b7022f925f\n",
            "  Stored in directory: /root/.cache/pip/wheels/c5/96/8a/f90c59ed25d75e50a8c10a1b1c2d4c402e4dacfa87f3aff36a\n",
            "  Building wheel for prometheus-flask-exporter (setup.py) ... \u001b[?25l\u001b[?25hdone\n",
            "  Created wheel for prometheus-flask-exporter: filename=prometheus_flask_exporter-0.18.2-py3-none-any.whl size=17415 sha256=acc7635cad32524fdaa006bee6afa0bdf89cad8e9c8465e4bb682c35a35a2b69\n",
            "  Stored in directory: /root/.cache/pip/wheels/6a/1e/1c/c765920cb92b2f0343d2dd8b481a407cee2823f9b4bbd2e52a\n",
            "  Building wheel for python-docx (setup.py) ... \u001b[?25l\u001b[?25hdone\n",
            "  Created wheel for python-docx: filename=python_docx-0.8.11-py3-none-any.whl size=184508 sha256=e94b271ef28b1bfe1153736e736d4b89b1759a680eb496bd9a0b2f7e69193722\n",
            "  Stored in directory: /root/.cache/pip/wheels/f6/6f/b9/d798122a8b55b74ad30b5f52b01482169b445fbb84a11797a6\n",
            "  Building wheel for python-multipart (setup.py) ... \u001b[?25l\u001b[?25hdone\n",
            "  Created wheel for python-multipart: filename=python_multipart-0.0.5-py3-none-any.whl size=31678 sha256=3e4a327f708e6aba7a415607be51223290cfed05458466280daf24df64448ef0\n",
            "  Stored in directory: /root/.cache/pip/wheels/2c/41/7c/bfd1c180534ffdcc0972f78c5758f89881602175d48a8bcd2c\n",
            "  Building wheel for seqeval (setup.py) ... \u001b[?25l\u001b[?25hdone\n",
            "  Created wheel for seqeval: filename=seqeval-1.2.2-py3-none-any.whl size=16181 sha256=429f23aef7aa545efd2e7e53af5d7521576732b560cf2843afec3a7b1315ec3c\n",
            "  Stored in directory: /root/.cache/pip/wheels/05/96/ee/7cac4e74f3b19e3158dce26a20a1c86b3533c43ec72a549fd7\n",
            "  Building wheel for tika (setup.py) ... \u001b[?25l\u001b[?25hdone\n",
            "  Created wheel for tika: filename=tika-1.24-py3-none-any.whl size=32891 sha256=162aa142727b9566c9376b3b989ec6365a5aba6733fba7df6316f095f1597d62\n",
            "  Stored in directory: /root/.cache/pip/wheels/ec/2b/38/58ff05467a742e32f67f5d0de048fa046e764e2fbb25ac93f3\n",
            "Successfully built alembic databricks-cli langdetect prometheus-flask-exporter python-docx python-multipart seqeval tika\n",
            "Installing collected packages: urllib3, Werkzeug, smmap, jmespath, isodate, websocket-client, python-editor, msrest, Mako, gitdb, cryptography, botocore, azure-core, tokenizers, sacremoses, s3transfer, querystring-parser, prometheus-flask-exporter, platformdirs, huggingface-hub, gunicorn, grpcio, gitpython, docker, distlib, databricks-cli, backports.entry-points-selectable, azure-storage-blob, aniso8601, alembic, virtualenv, validators, ujson, transformers, torch, starlette, seqeval, sentencepiece, rdflib, pydantic, pluggy, mlflow, h11, grpcio-tools, flask-restplus, flask-cors, dotmap, boto3, asgiref, weaviate-client, uvloop, uvicorn, tox, tika, sqlalchemy-utils, SPARQLWrapper, python-multipart, python-docx, pymilvus, psycopg2-binary, mmh3, langdetect, httptools, fastapi, farm, faiss-cpu, elasticsearch, elastic-apm, farm-haystack\n",
            "  Attempting uninstall: urllib3\n",
            "    Found existing installation: urllib3 1.24.3\n",
            "    Uninstalling urllib3-1.24.3:\n",
            "      Successfully uninstalled urllib3-1.24.3\n",
            "  Attempting uninstall: Werkzeug\n",
            "    Found existing installation: Werkzeug 1.0.1\n",
            "    Uninstalling Werkzeug-1.0.1:\n",
            "      Successfully uninstalled Werkzeug-1.0.1\n",
            "  Attempting uninstall: grpcio\n",
            "    Found existing installation: grpcio 1.39.0\n",
            "    Uninstalling grpcio-1.39.0:\n",
            "      Successfully uninstalled grpcio-1.39.0\n",
            "  Attempting uninstall: torch\n",
            "    Found existing installation: torch 1.9.0+cu102\n",
            "    Uninstalling torch-1.9.0+cu102:\n",
            "      Successfully uninstalled torch-1.9.0+cu102\n",
            "  Attempting uninstall: pluggy\n",
            "    Found existing installation: pluggy 0.7.1\n",
            "    Uninstalling pluggy-0.7.1:\n",
            "      Successfully uninstalled pluggy-0.7.1\n",
            "\u001b[31mERROR: pip's dependency resolver does not currently take into account all the packages that are installed. This behaviour is the source of the following dependency conflicts.\n",
            "torchvision 0.10.0+cu102 requires torch==1.9.0, but you have torch 1.8.1 which is incompatible.\n",
            "torchtext 0.10.0 requires torch==1.9.0, but you have torch 1.8.1 which is incompatible.\n",
            "pytest 3.6.4 requires pluggy<0.8,>=0.5, but you have pluggy 1.0.0 which is incompatible.\n",
            "datascience 0.10.6 requires folium==0.2.1, but you have folium 0.8.3 which is incompatible.\u001b[0m\n",
            "Successfully installed Mako-1.1.5 SPARQLWrapper-1.8.5 Werkzeug-0.16.1 alembic-1.4.1 aniso8601-9.0.1 asgiref-3.4.1 azure-core-1.18.0 azure-storage-blob-12.8.1 backports.entry-points-selectable-1.1.0 boto3-1.18.40 botocore-1.21.40 cryptography-3.4.8 databricks-cli-0.15.0 distlib-0.3.2 docker-5.0.2 dotmap-1.3.24 elastic-apm-6.4.0 elasticsearch-7.10.0 faiss-cpu-1.7.1.post2 farm-0.8.0 farm-haystack-0.9.0 fastapi-0.68.1 flask-cors-3.0.10 flask-restplus-0.13.0 gitdb-4.0.7 gitpython-3.1.18 grpcio-1.37.1 grpcio-tools-1.37.1 gunicorn-20.1.0 h11-0.12.0 httptools-0.3.0 huggingface-hub-0.0.8 isodate-0.6.0 jmespath-0.10.0 langdetect-1.0.9 mlflow-1.13.1 mmh3-3.0.0 msrest-0.6.21 platformdirs-2.3.0 pluggy-1.0.0 prometheus-flask-exporter-0.18.2 psycopg2-binary-2.9.1 pydantic-1.8.2 pymilvus-1.1.2 python-docx-0.8.11 python-editor-1.0.4 python-multipart-0.0.5 querystring-parser-1.2.4 rdflib-6.0.0 s3transfer-0.5.0 sacremoses-0.0.45 sentencepiece-0.1.96 seqeval-1.2.2 smmap-4.0.0 sqlalchemy-utils-0.37.8 starlette-0.14.2 tika-1.24 tokenizers-0.10.3 torch-1.8.1 tox-3.24.3 transformers-4.6.1 ujson-4.1.0 urllib3-1.25.11 uvicorn-0.15.0 uvloop-0.14.0 validators-0.18.2 virtualenv-20.7.2 weaviate-client-3.2.1 websocket-client-1.2.1\n"
          ]
        }
      ]
    },
    {
      "cell_type": "markdown",
      "metadata": {
        "id": "JLIzI_RNsmGq"
      },
      "source": [
        "## Use cases - How to index Question and Answer Data with Haystack and Elasticsearch\n",
        "https://haystack.deepset.ai/docs/latest/use_casesmd"
      ]
    },
    {
      "cell_type": "markdown",
      "metadata": {
        "id": "7I_RoPYBSBH5"
      },
      "source": [
        "## Input data"
      ]
    },
    {
      "cell_type": "code",
      "metadata": {
        "id": "YD8un5XajucL",
        "outputId": "4015e61d-ccd3-47d7-91ef-0f75c26d3e76",
        "colab": {
          "base_uri": "https://localhost:8080/"
        }
      },
      "source": [
        "!wget \"https://raw.githubusercontent.com/jamescalam/aurelius/main/data/meditations.txt\""
      ],
      "execution_count": 2,
      "outputs": [
        {
          "output_type": "stream",
          "name": "stdout",
          "text": [
            "--2021-09-11 14:34:29--  https://raw.githubusercontent.com/jamescalam/aurelius/main/data/meditations.txt\n",
            "Resolving raw.githubusercontent.com (raw.githubusercontent.com)... 185.199.108.133, 185.199.109.133, 185.199.110.133, ...\n",
            "Connecting to raw.githubusercontent.com (raw.githubusercontent.com)|185.199.108.133|:443... connected.\n",
            "HTTP request sent, awaiting response... 200 OK\n",
            "Length: 241388 (236K) [text/plain]\n",
            "Saving to: ‘meditations.txt’\n",
            "\n",
            "meditations.txt     100%[===================>] 235.73K  --.-KB/s    in 0.02s   \n",
            "\n",
            "2021-09-11 14:34:29 (12.3 MB/s) - ‘meditations.txt’ saved [241388/241388]\n",
            "\n"
          ]
        }
      ]
    },
    {
      "cell_type": "markdown",
      "metadata": {
        "id": "uVfCB8hlUjab"
      },
      "source": [
        "## Start an Elasticsearch server\n",
        "\n",
        "* manually download and execute Elasticsearch from source"
      ]
    },
    {
      "cell_type": "code",
      "metadata": {
        "id": "KBQzyOTgUkTr"
      },
      "source": [
        "! wget https://artifacts.elastic.co/downloads/elasticsearch/elasticsearch-7.9.2-linux-x86_64.tar.gz -q\n",
        "! tar -xzf elasticsearch-7.9.2-linux-x86_64.tar.gz\n",
        "! chown -R daemon:daemon elasticsearch-7.9.2\n",
        "import os\n",
        "from subprocess import Popen, PIPE, STDOUT\n",
        "es_server = Popen(['elasticsearch-7.9.2/bin/elasticsearch'],\n",
        "                    stdout=PIPE, stderr=STDOUT,\n",
        "                    preexec_fn=lambda: os.setuid(1)  # as daemon\n",
        "                   )\n",
        "# wait until ES has started\n",
        "! sleep 30"
      ],
      "execution_count": 7,
      "outputs": []
    },
    {
      "cell_type": "markdown",
      "metadata": {
        "id": "21NWjOm_Wt7h"
      },
      "source": [
        "##Check for indices if any existingdata is present "
      ]
    },
    {
      "cell_type": "code",
      "metadata": {
        "id": "p-AdZ76OVuD5",
        "outputId": "06bc33e3-405b-4e8b-d0d7-9f91f08c6ab5",
        "colab": {
          "base_uri": "https://localhost:8080/",
          "height": 35
        }
      },
      "source": [
        "import requests\n",
        "requests.get(\"http://localhost:9200/_cat/indices\").text"
      ],
      "execution_count": 8,
      "outputs": [
        {
          "output_type": "execute_result",
          "data": {
            "application/vnd.google.colaboratory.intrinsic+json": {
              "type": "string"
            },
            "text/plain": [
              "''"
            ]
          },
          "metadata": {},
          "execution_count": 8
        }
      ]
    },
    {
      "cell_type": "code",
      "metadata": {
        "id": "8FJydtrQSP6z",
        "outputId": "cb95e92a-2e7b-497f-9b43-f2597b5efce2",
        "colab": {
          "base_uri": "https://localhost:8080/"
        }
      },
      "source": [
        "from haystack.document_store.elasticsearch import ElasticsearchDocumentStore\n",
        "doc_store = ElasticsearchDocumentStore(host='localhost',\n",
        "                                       username='',\n",
        "                                       password = '',\n",
        "                                       index ='new')"
      ],
      "execution_count": 18,
      "outputs": [
        {
          "output_type": "stream",
          "name": "stderr",
          "text": [
            "09/11/2021 15:37:24 - INFO - elasticsearch -   HEAD http://localhost:9200/ [status:200 request:0.006s]\n",
            "09/11/2021 15:37:25 - INFO - elasticsearch -   PUT http://localhost:9200/new [status:200 request:0.203s]\n",
            "09/11/2021 15:37:25 - INFO - elasticsearch -   HEAD http://localhost:9200/label [status:200 request:0.006s]\n"
          ]
        }
      ]
    },
    {
      "cell_type": "markdown",
      "metadata": {
        "id": "4isPFoPrZW57"
      },
      "source": [
        "## Loading Documents into the DocumentStore"
      ]
    },
    {
      "cell_type": "code",
      "metadata": {
        "id": "ENjD-VadSoMH"
      },
      "source": [
        "with open(\"/content/meditations.txt\",\"r\") as f:\n",
        "  data = f.read()"
      ],
      "execution_count": 10,
      "outputs": []
    },
    {
      "cell_type": "code",
      "metadata": {
        "id": "vPlOkvBta0zz",
        "outputId": "e99a0182-d327-458b-d2c1-61483a3f3906",
        "colab": {
          "base_uri": "https://localhost:8080/",
          "height": 35
        }
      },
      "source": [
        "data[:100]"
      ],
      "execution_count": 11,
      "outputs": [
        {
          "output_type": "execute_result",
          "data": {
            "application/vnd.google.colaboratory.intrinsic+json": {
              "type": "string"
            },
            "text/plain": [
              "'From my grandfather Verus I learned good morals and the government of my temper.\\nFrom the reputation'"
            ]
          },
          "metadata": {},
          "execution_count": 11
        }
      ]
    },
    {
      "cell_type": "code",
      "metadata": {
        "id": "MExlBa-xa2TC",
        "outputId": "b9afa9e2-e66a-42f8-cb7a-19a315e87306",
        "colab": {
          "base_uri": "https://localhost:8080/"
        }
      },
      "source": [
        "data = data.split(\"\\n\")\n",
        "len(data)"
      ],
      "execution_count": 12,
      "outputs": [
        {
          "output_type": "execute_result",
          "data": {
            "text/plain": [
              "508"
            ]
          },
          "metadata": {},
          "execution_count": 12
        }
      ]
    },
    {
      "cell_type": "markdown",
      "metadata": {
        "id": "GYgIepuObsKz"
      },
      "source": [
        "* In Haystack, DocumentStores expect Documents in a dictionary format.\n",
        "![image.png](data:image/png;base64,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)"
      ]
    },
    {
      "cell_type": "markdown",
      "metadata": {
        "id": "xih90vlMdFGu"
      },
      "source": [
        "## Modify data in correct format for storing in Elastic Document Store"
      ]
    },
    {
      "cell_type": "code",
      "metadata": {
        "id": "xY5p5GdAa9QC"
      },
      "source": [
        "data_json = [{'text':paragraph,'meta':{'source':'meditation'}} for paragraph in data]"
      ],
      "execution_count": 13,
      "outputs": []
    },
    {
      "cell_type": "code",
      "metadata": {
        "id": "s2AtM10efu5X",
        "outputId": "b386313c-9fdd-4f15-c122-796ddf72e26f",
        "colab": {
          "base_uri": "https://localhost:8080/"
        }
      },
      "source": [
        "len(data_json)"
      ],
      "execution_count": 16,
      "outputs": [
        {
          "output_type": "execute_result",
          "data": {
            "text/plain": [
              "508"
            ]
          },
          "metadata": {},
          "execution_count": 16
        }
      ]
    },
    {
      "cell_type": "code",
      "metadata": {
        "id": "nJI3QRNveuQY",
        "outputId": "0439ad0f-3686-4a54-e45f-8ebf597196f5",
        "colab": {
          "base_uri": "https://localhost:8080/"
        }
      },
      "source": [
        "data_json[:10]"
      ],
      "execution_count": 15,
      "outputs": [
        {
          "output_type": "execute_result",
          "data": {
            "text/plain": [
              "[{'meta': {'source': 'meditation'},\n",
              "  'text': 'From my grandfather Verus I learned good morals and the government of my temper.'},\n",
              " {'meta': {'source': 'meditation'},\n",
              "  'text': 'From the reputation and remembrance of my father, modesty and a manly character.'},\n",
              " {'meta': {'source': 'meditation'},\n",
              "  'text': 'From my mother, piety and beneficence, and abstinence, not only from evil deeds, but even from evil thoughts; and further, simplicity in my way of living, far removed from the habits of the rich.'},\n",
              " {'meta': {'source': 'meditation'},\n",
              "  'text': 'From my great-grandfather, not to have frequented public schools, and to have had good teachers at home, and to know that on such things a man should spend liberally.'},\n",
              " {'meta': {'source': 'meditation'},\n",
              "  'text': \"From my governor, to be neither of the green nor of the blue party at the games in the Circus, nor a partizan either of the Parmularius or the Scutarius at the gladiators' fights; from him too I learned endurance of labour, and to want little, and to work with my own hands, and not to meddle with other people's affairs, and not to be ready to listen to slander.\"},\n",
              " {'meta': {'source': 'meditation'},\n",
              "  'text': 'From Diognetus, not to busy myself about trifling things, and not to give credit to what was said by miracle-workers and jugglers about incantations and the driving away of daemons and such things; and not to breed quails for fighting, nor to give myself up passionately to such things; and to endure freedom of speech; and to have become intimate with philosophy; and to have been a hearer, first of Bacchius, then of Tandasis and Marcianus; and to have written dialogues in my youth; and to have desired a plank bed and skin, and whatever else of the kind belongs to the Grecian discipline.'},\n",
              " {'meta': {'source': 'meditation'},\n",
              "  'text': 'From Rusticus I received the impression that my character required improvement and discipline; and from him I learned not to be led astray to sophistic emulation, nor to writing on speculative matters, nor to delivering little hortatory orations, nor to showing myself off as a man who practises much discipline, or does benevolent acts in order to make a display; and to abstain from rhetoric, and poetry, and fine writing; and not to walk about in the house in my outdoor dress, nor to do other things of the kind; and to write my letters with simplicity, like the letter which Rusticus wrote from Sinuessa to my mother; and with respect to those who have offended me by words, or done me wrong, to be easily disposed to be pacified and reconciled, as soon as they have shown a readiness to be reconciled; and to read carefully, and not to be satisfied with a superficial understanding of a book; nor hastily to give my assent to those who talk overmuch; and I am indebted to him for being acquainted with the discourses of Epictetus, which he communicated to me out of his own collection.'},\n",
              " {'meta': {'source': 'meditation'},\n",
              "  'text': 'From Apollonius I learned freedom of will and undeviating steadiness of purpose; and to look to nothing else, not even for a moment, except to reason; and to be always the same, in sharp pains, on the occasion of the loss of a child, and in long illness; and to see clearly in a living example that the same man can be both most resolute and yielding, and not peevish in giving his instruction; and to have had before my eyes a man who clearly considered his experience and his skill in expounding philosophical principles as the smallest of his merits; and from him I learned how to receive from friends what are esteemed favours, without being either humbled by them or letting them pass unnoticed.'},\n",
              " {'meta': {'source': 'meditation'},\n",
              "  'text': 'From Sextus, a benevolent disposition, and the example of a family governed in a fatherly manner, and the idea of living conformably to nature; and gravity without affectation, and to look carefully after the interests of friends, and to tolerate ignorant persons, and those who form opinions without consideration: he had the power of readily accommodating himself to all, so that intercourse with him was more agreeable than any flattery; and at the same time he was most highly venerated by those who associated with him: and he had the faculty both of discovering and ordering, in an intelligent and methodical way, the principles necessary for life; and he never showed anger or any other passion, but was entirely free from passion, and also most affectionate; and he could express approbation without noisy display, and he possessed much knowledge without ostentation.'},\n",
              " {'meta': {'source': 'meditation'},\n",
              "  'text': 'From Alexander the grammarian, to refrain from fault-finding, and not in a reproachful way to chide those who uttered any barbarous or solecistic or strange-sounding expression; but dexterously to introduce the very expression which ought to have been used, and in the way of answer or giving confirmation, or joining in an inquiry about the thing itself, not about the word, or by some other fit suggestion.'}]"
            ]
          },
          "metadata": {},
          "execution_count": 15
        }
      ]
    },
    {
      "cell_type": "markdown",
      "metadata": {
        "id": "3G4zt3r-fxwe"
      },
      "source": [
        "## Store data into document store"
      ]
    },
    {
      "cell_type": "code",
      "metadata": {
        "id": "1cOH5C_-ewD0",
        "outputId": "b5349c62-e732-41d8-a29a-90af3dca9ce3",
        "colab": {
          "base_uri": "https://localhost:8080/"
        }
      },
      "source": [
        "doc_store.write_documents(data_json)\n",
        "requests.get(\"http://localhost:9200/new/_count\").json()"
      ],
      "execution_count": 19,
      "outputs": [
        {
          "output_type": "stream",
          "name": "stderr",
          "text": [
            "09/11/2021 15:38:12 - INFO - elasticsearch -   POST http://localhost:9200/_bulk?refresh=wait_for [status:200 request:0.434s]\n",
            "09/11/2021 15:38:13 - INFO - elasticsearch -   POST http://localhost:9200/_bulk?refresh=wait_for [status:200 request:1.003s]\n"
          ]
        },
        {
          "output_type": "execute_result",
          "data": {
            "text/plain": [
              "{'_shards': {'failed': 0, 'skipped': 0, 'successful': 1, 'total': 1},\n",
              " 'count': 508}"
            ]
          },
          "metadata": {},
          "execution_count": 19
        }
      ]
    },
    {
      "cell_type": "markdown",
      "metadata": {
        "id": "hPkNr5ZTpmDS"
      },
      "source": [
        "## Initalize Retriever, Reader, & Pipeline"
      ]
    },
    {
      "cell_type": "markdown",
      "metadata": {
        "id": "gUZ67s28g0N2"
      },
      "source": [
        "## Retriever : Interacts with the DocumentStore"
      ]
    },
    {
      "cell_type": "code",
      "metadata": {
        "id": "5Fk59UdogCGF"
      },
      "source": [
        "from haystack.retriever.sparse import ElasticsearchRetriever\n",
        "retriever = ElasticsearchRetriever(document_store=doc_store)"
      ],
      "execution_count": 22,
      "outputs": []
    },
    {
      "cell_type": "markdown",
      "metadata": {
        "id": "nq4rxCbalfLR"
      },
      "source": [
        "## Reader : semantically extract information from documents instead of plain lexical search. \n",
        "\n",
        "* Reader models are generally built by adding a Question Answering Head on Language Models like BERT."
      ]
    },
    {
      "cell_type": "code",
      "metadata": {
        "id": "YdN8DCCQikWu",
        "outputId": "c02605b0-7232-41c3-850b-5877c7bfdbef",
        "colab": {
          "base_uri": "https://localhost:8080/",
          "height": 650,
          "referenced_widgets": [
            "ef1f0828381146b2820f6fab5da021d1",
            "529dc0d408be40c78afeea5eb4df92b2",
            "1c6618b81273485d8a05605170f5a850",
            "2313bbde10c9431a88ee13c3768d5425",
            "d77a01b20d3d498583f067ab1ab1517e",
            "48c5aed366a04779be27f15f092bebdd",
            "274706a9f7074d72ace21abbd8177ebe",
            "886198a9c9a44c96b463e493f1c0fed8",
            "297a8de2de3546bf8f11864b3e048aaa",
            "1c1a301cdb534639b5a044384c7c27fa",
            "b16f1c74d88c4283aeed3706d1841d52",
            "1d1e0b3f9f5c46cbbf94cd669aa94de9",
            "3df585a41aec4ae488b9d53538b87ab6",
            "a2e28624266043c1ab45fb3763372ad1",
            "9d6ac8a0a123406d9e0818befae81438",
            "9491b3656f534974b0d812373d36fd59",
            "f16109857c0b42cd9dacf6e6e10042fd",
            "a4ca388ef9f2466ca8102e095947b986",
            "618307c63acc469e954ef886d4c00e52",
            "4fcc2671df134ea795531aa550263b8f",
            "dbf221fbe50343679edb9a9dd9b5fbf9",
            "2a7087c672084f6097f164e6f3aad721",
            "aaf0b812890d4015bf263399fe6657a0",
            "186cef541a9041dc9cc3f37748fbbc78",
            "bc1c3bfd24464856bba19e416f5682d7",
            "b666831e874e40609811d1e46b3992d3",
            "2ee9080d3d52454eb70f0926456b7671",
            "74820203a1574dd081b6d7f6d3c43594",
            "8eed164244f4435d8c475ee26201de38",
            "8da8de7f234740f9a684df144d728401",
            "a0a3ab0ef65e45899a52d046c7e0ef57",
            "c48ff7252b514f14a4583f1730938714",
            "12dd9c31a1f140d0ab4716d97201940e",
            "b84728e820e84988910e554709830394",
            "cf3baf4808eb495e94a84979fd909f83",
            "4060613380ad4b2a91b2253922d0ef71",
            "b5425b9175ac41dfba72e4a749c6a023",
            "43a92e3164344193bc06f62367faaecf",
            "66c18862fefa409e8ed5377273c5e177",
            "5dc5872fcc664d9fb0c20bb70895dd7a",
            "2aa3596b75c04d7388d7f57f66806bd8",
            "be08d877065344b199cfbab6ae20c7f9",
            "305180a71bce4f759ef810556660dd38",
            "cee6f843edfe406ba0b1c58dc87c17a6",
            "d7af04d309ef4958a1b06d05944cf0f0",
            "a6579cbfa18f423692b6095025f20655",
            "2142faa55b19408eb10e9d1f0e4060d2",
            "e2de806e0bb449a688467dad19e2c8bd",
            "0026c00e4cbb41d5bd78db0e50481934",
            "6e49b9c424a548d5ac4b6a59ee14b444",
            "edfdc9ce1f2b48c9adb9d158cda68ecf",
            "ab197b009f554a1484905baa6f9819c0",
            "0ae5f871aed2486dbf8f04d0b913b9e8",
            "f888dd9694b24e4d9e2bec02302f8e69",
            "c3e470350226467e95c7aafde44f7f21"
          ]
        }
      },
      "source": [
        "from haystack.reader import FARMReader\n",
        "#question and content encoder model from huggingface library\n",
        "reader = FARMReader(model_name_or_path='deepset/bert-base-cased-squad2')"
      ],
      "execution_count": 23,
      "outputs": [
        {
          "output_type": "stream",
          "name": "stderr",
          "text": [
            "09/11/2021 16:10:40 - INFO - farm.utils -   Using device: CUDA \n",
            "09/11/2021 16:10:40 - INFO - farm.utils -   Number of GPUs: 1\n",
            "09/11/2021 16:10:40 - INFO - farm.utils -   Distributed Training: False\n",
            "09/11/2021 16:10:40 - INFO - farm.utils -   Automatic Mixed Precision: None\n",
            "09/11/2021 16:10:40 - INFO - filelock -   Lock 140015621446096 acquired on /root/.cache/huggingface/transformers/15cc42d3f2accfabf2128048289832150b75adafd7ab2b50e37a998b71c528b4.250bb3d860b46cc2180effc9227c0d2faf19405a1585c714c721dcc1a1d04727.lock\n"
          ]
        },
        {
          "output_type": "display_data",
          "data": {
            "application/vnd.jupyter.widget-view+json": {
              "model_id": "ef1f0828381146b2820f6fab5da021d1",
              "version_minor": 0,
              "version_major": 2
            },
            "text/plain": [
              "Downloading:   0%|          | 0.00/508 [00:00<?, ?B/s]"
            ]
          },
          "metadata": {}
        },
        {
          "output_type": "stream",
          "name": "stderr",
          "text": [
            "09/11/2021 16:10:41 - INFO - filelock -   Lock 140015621446096 released on /root/.cache/huggingface/transformers/15cc42d3f2accfabf2128048289832150b75adafd7ab2b50e37a998b71c528b4.250bb3d860b46cc2180effc9227c0d2faf19405a1585c714c721dcc1a1d04727.lock\n",
            "09/11/2021 16:10:41 - INFO - filelock -   Lock 140015624775056 acquired on /root/.cache/huggingface/transformers/4fb91611eb90525e5d3e1dc48e72a8c8a9d19f8bb138af51f0795a020acf8bfa.eb6109ce49f42129661193e04ce291fda8ccb3407daa60a09d011e671c60a188.lock\n"
          ]
        },
        {
          "output_type": "display_data",
          "data": {
            "application/vnd.jupyter.widget-view+json": {
              "model_id": "1d1e0b3f9f5c46cbbf94cd669aa94de9",
              "version_minor": 0,
              "version_major": 2
            },
            "text/plain": [
              "Downloading:   0%|          | 0.00/433M [00:00<?, ?B/s]"
            ]
          },
          "metadata": {}
        },
        {
          "output_type": "stream",
          "name": "stderr",
          "text": [
            "09/11/2021 16:10:53 - INFO - filelock -   Lock 140015624775056 released on /root/.cache/huggingface/transformers/4fb91611eb90525e5d3e1dc48e72a8c8a9d19f8bb138af51f0795a020acf8bfa.eb6109ce49f42129661193e04ce291fda8ccb3407daa60a09d011e671c60a188.lock\n",
            "Some weights of the model checkpoint at deepset/bert-base-cased-squad2 were not used when initializing BertModel: ['qa_outputs.weight', 'qa_outputs.bias']\n",
            "- This IS expected if you are initializing BertModel from the checkpoint of a model trained on another task or with another architecture (e.g. initializing a BertForSequenceClassification model from a BertForPreTraining model).\n",
            "- This IS NOT expected if you are initializing BertModel from the checkpoint of a model that you expect to be exactly identical (initializing a BertForSequenceClassification model from a BertForSequenceClassification model).\n",
            "09/11/2021 16:11:00 - INFO - filelock -   Lock 140015621269776 acquired on /root/.cache/huggingface/transformers/a027c4e547fd30e501f9edb04ed6401edefe7eede664b9528d4babaf78d1bda6.437aa611e89f6fc6675a049d2b5545390adbc617e7d655286421c191d2be2791.lock\n"
          ]
        },
        {
          "output_type": "display_data",
          "data": {
            "application/vnd.jupyter.widget-view+json": {
              "model_id": "aaf0b812890d4015bf263399fe6657a0",
              "version_minor": 0,
              "version_major": 2
            },
            "text/plain": [
              "Downloading:   0%|          | 0.00/213k [00:00<?, ?B/s]"
            ]
          },
          "metadata": {}
        },
        {
          "output_type": "stream",
          "name": "stderr",
          "text": [
            "09/11/2021 16:11:01 - INFO - filelock -   Lock 140015621269776 released on /root/.cache/huggingface/transformers/a027c4e547fd30e501f9edb04ed6401edefe7eede664b9528d4babaf78d1bda6.437aa611e89f6fc6675a049d2b5545390adbc617e7d655286421c191d2be2791.lock\n",
            "09/11/2021 16:11:02 - INFO - filelock -   Lock 140015621595472 acquired on /root/.cache/huggingface/transformers/5fa07cc35cf92053100af63a5b23424ba428c75dafc83de837f7c2bd5118a8b1.dd8bd9bfd3664b530ea4e645105f557769387b3da9f79bdb55ed556bdd80611d.lock\n"
          ]
        },
        {
          "output_type": "display_data",
          "data": {
            "application/vnd.jupyter.widget-view+json": {
              "model_id": "b84728e820e84988910e554709830394",
              "version_minor": 0,
              "version_major": 2
            },
            "text/plain": [
              "Downloading:   0%|          | 0.00/112 [00:00<?, ?B/s]"
            ]
          },
          "metadata": {}
        },
        {
          "output_type": "stream",
          "name": "stderr",
          "text": [
            "09/11/2021 16:11:02 - INFO - filelock -   Lock 140015621595472 released on /root/.cache/huggingface/transformers/5fa07cc35cf92053100af63a5b23424ba428c75dafc83de837f7c2bd5118a8b1.dd8bd9bfd3664b530ea4e645105f557769387b3da9f79bdb55ed556bdd80611d.lock\n",
            "09/11/2021 16:11:02 - INFO - filelock -   Lock 140015471390416 acquired on /root/.cache/huggingface/transformers/8d45cf43007a2f83a66ff292adf10e02ae1859acd064791f6b6417f7e528b1f3.3e813ef7b46a58d7e35c90b0aacc2127a3800bba6bff791af1651012cf2fab11.lock\n"
          ]
        },
        {
          "output_type": "display_data",
          "data": {
            "application/vnd.jupyter.widget-view+json": {
              "model_id": "d7af04d309ef4958a1b06d05944cf0f0",
              "version_minor": 0,
              "version_major": 2
            },
            "text/plain": [
              "Downloading:   0%|          | 0.00/152 [00:00<?, ?B/s]"
            ]
          },
          "metadata": {}
        },
        {
          "output_type": "stream",
          "name": "stderr",
          "text": [
            "09/11/2021 16:11:02 - INFO - filelock -   Lock 140015471390416 released on /root/.cache/huggingface/transformers/8d45cf43007a2f83a66ff292adf10e02ae1859acd064791f6b6417f7e528b1f3.3e813ef7b46a58d7e35c90b0aacc2127a3800bba6bff791af1651012cf2fab11.lock\n",
            "09/11/2021 16:11:03 - WARNING - farm.utils -   ML Logging is turned off. No parameters, metrics or artifacts will be logged to MLFlow.\n",
            "09/11/2021 16:11:03 - INFO - farm.utils -   Using device: CUDA \n",
            "09/11/2021 16:11:03 - INFO - farm.utils -   Number of GPUs: 1\n",
            "09/11/2021 16:11:03 - INFO - farm.utils -   Distributed Training: False\n",
            "09/11/2021 16:11:03 - INFO - farm.utils -   Automatic Mixed Precision: None\n",
            "09/11/2021 16:11:03 - INFO - farm.infer -   Got ya 3 parallel workers to do inference ...\n",
            "09/11/2021 16:11:03 - INFO - farm.infer -    0    0    0 \n",
            "09/11/2021 16:11:03 - INFO - farm.infer -   /w\\  /w\\  /w\\\n",
            "09/11/2021 16:11:03 - INFO - farm.infer -   /'\\  / \\  /'\\\n",
            "09/11/2021 16:11:03 - INFO - farm.infer -       \n"
          ]
        }
      ]
    },
    {
      "cell_type": "markdown",
      "metadata": {
        "id": "iIwygfWJp9P5"
      },
      "source": [
        "## Running Search Queries\n",
        "\n",
        "There are many different flavours of search that can be created using Haystack. But to give just one example of what can be achieved, let's look more closely at an **Open Domain Question Answering (ODQA) Pipeline**.\n",
        "\n",
        "Querying in an ODQA system involves searching for an answer to a given question within the full document store. This process will:\n",
        "\n",
        "* make the Retriever filter for a small set of relevant candidate documents\n",
        "* get the Reader to process this set of candidate documents\n",
        "* return potential answers to the given question\n",
        "\n",
        "\n",
        "\n",
        "==> Usually, there are tight time constraints on querying and so it needs to be a lightweight operation. \n",
        "\n",
        "==> When documents are loaded, **Haystack will precompute any of the results that might be useful at query time.**\n",
        "\n",
        "==> In Haystack, **querying is performed with a Pipeline object which connects the reader to the retriever**."
      ]
    },
    {
      "cell_type": "code",
      "metadata": {
        "id": "oSIDVxrQoATG"
      },
      "source": [
        "from haystack.pipeline import ExtractiveQAPipeline\n",
        "pipeline = ExtractiveQAPipeline(reader = reader,\n",
        "                                retriever = retriever)"
      ],
      "execution_count": 24,
      "outputs": []
    },
    {
      "cell_type": "code",
      "metadata": {
        "id": "99NKWpWzoeeP",
        "outputId": "db90ce70-544f-4ff6-c255-16b758052b48",
        "colab": {
          "base_uri": "https://localhost:8080/"
        }
      },
      "source": [
        "answers = pipeline.run(query='What did you learn from grandfather',top_k_retriever=10, top_k_reader=5)"
      ],
      "execution_count": 25,
      "outputs": [
        {
          "output_type": "stream",
          "name": "stderr",
          "text": [
            "09/11/2021 16:14:56 - INFO - elasticsearch -   POST http://localhost:9200/new/_search [status:200 request:0.068s]\n",
            "Inferencing Samples: 100%|██████████| 1/1 [00:00<00:00, 20.10 Batches/s]\n",
            "Inferencing Samples: 100%|██████████| 1/1 [00:00<00:00, 31.54 Batches/s]\n",
            "Inferencing Samples: 100%|██████████| 1/1 [00:00<00:00, 30.95 Batches/s]\n",
            "Inferencing Samples: 100%|██████████| 1/1 [00:00<00:00, 44.83 Batches/s]\n",
            "Inferencing Samples: 100%|██████████| 1/1 [00:00<00:00, 54.53 Batches/s]\n",
            "Inferencing Samples: 100%|██████████| 1/1 [00:00<00:00, 47.84 Batches/s]\n",
            "Inferencing Samples: 100%|██████████| 1/1 [00:00<00:00, 56.27 Batches/s]\n",
            "Inferencing Samples: 100%|██████████| 1/1 [00:00<00:00, 59.05 Batches/s]\n",
            "Inferencing Samples: 100%|██████████| 1/1 [00:00<00:00, 59.03 Batches/s]\n",
            "Inferencing Samples: 100%|██████████| 1/1 [00:00<00:00, 54.27 Batches/s]\n"
          ]
        }
      ]
    },
    {
      "cell_type": "code",
      "metadata": {
        "id": "S5oEPNGbo_lh",
        "outputId": "bd5bc56e-f890-4f94-cfa3-643e60bfecab",
        "colab": {
          "base_uri": "https://localhost:8080/"
        }
      },
      "source": [
        "from haystack.utils import print_answers\n",
        "print_answers(answers, details=\"minimal\")"
      ],
      "execution_count": 27,
      "outputs": [
        {
          "output_type": "stream",
          "name": "stdout",
          "text": [
            "[   {   'answer': 'not to have frequented public schools, and to have had good '\n",
            "                  'teachers at home, and to know that on such things a man '\n",
            "                  'should spend liberally.',\n",
            "        'context': 'andfather, not to have frequented public schools, and to '\n",
            "                   'have had good teachers at home, and to know that on such '\n",
            "                   'things a man should spend liberally.'},\n",
            "    {   'answer': 'good morals and the government of my temper.',\n",
            "        'context': 'From my grandfather Verus I learned good morals and the '\n",
            "                   'government of my temper.'},\n",
            "    {   'answer': 'a man must learn a great deal to enable him to pass a '\n",
            "                  \"correct judgement on another man's acts\",\n",
            "        'context': 'ith a certain reference to circumstances. And in short, a '\n",
            "                   'man must learn a great deal to enable him to pass a '\n",
            "                   \"correct judgement on another man's acts.\"},\n",
            "    {   'answer': 'self-government',\n",
            "        'context': 'From Maximus I learned self-government, and not to be led '\n",
            "                   'aside by anything; and cheerfulness in all circumstances, '\n",
            "                   'as well as in illness; and a just '},\n",
            "    {   'answer': 'I learned to know Thrasea, Helvidius, Cato, Dion, Brutus;',\n",
            "        'context': 've truth, and to love justice; and through him I learned '\n",
            "                   'to know Thrasea, Helvidius, Cato, Dion, Brutus; and from '\n",
            "                   'him I received the idea of a polity '}]\n"
          ]
        }
      ]
    },
    {
      "cell_type": "code",
      "metadata": {
        "id": "Dcp_Ysj8pROX"
      },
      "source": [
        ""
      ],
      "execution_count": null,
      "outputs": []
    }
  ]
}